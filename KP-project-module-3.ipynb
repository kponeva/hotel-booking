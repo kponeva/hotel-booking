{
 "cells": [
  {
   "cell_type": "markdown",
   "metadata": {},
   "source": []
  },
  {
   "cell_type": "markdown",
   "metadata": {},
   "source": [
    "# **HOTEL BOOKING DEMAND - PREDICTIVE ANALYSIS**"
   ]
  },
  {
   "cell_type": "markdown",
   "metadata": {},
   "source": [
    "> ## By: Kenshi Poneva"
   ]
  },
  {
   "cell_type": "markdown",
   "metadata": {},
   "source": [
    "# 1. **BUSINESS PROBLEM & DATA UNDERSTANDING**"
   ]
  },
  {
   "cell_type": "markdown",
   "metadata": {},
   "source": [
    "> ## *Context*\n",
    "\n",
    "Every year, more than 140 million bookings made on the internet and many hotel bookings made through top-visited travel websites like Booking.com, Expedia.com, Hotels.com, etc. According to Google data, hotels are booked in advance of 12 weeks.\n",
    "\n",
    "The original dataset contains 31 features about booking information such as Average Daily Rate, Arrival Time, Room Type, Special Request, etc. between 2015 and 2017 years.\n",
    "\n",
    "In this kernel, I would like to show some booking information details with exploratory data analysis, some feature engineering, reviewing correlations between features, hyperparameter tuning and model performance. As a result of all these analyses, I aim to find best model to predict hotel booking cancellations with an algorithm that gives best performance. The goal of predictive analysis is to avoid overfitting and find the model that has the highest accuracy."
   ]
  },
  {
   "cell_type": "markdown",
   "metadata": {},
   "source": [
    "> ## *Business Problem*\n",
    "\n",
    "**Problem**:  \n",
    "How to predict the guests who are most likely to cancel and not cancel their reservation? Will this help to generate better forecasts and reduce business decision uncertainty?\n",
    "\n",
    "**Data**:  \n",
    "The dataset provides information to help us find evaluate feature importance i.e. which features are most important to predict hotel booking cancellations.\n",
    "\n",
    "**ML Objective**:  \n",
    "To build a model that could predict bookings with a high cancellation probability.\n",
    "\n",
    "**Action**:  \n",
    "Results allow hotel managers to accurately predict net demand and build better forecasts, improve cancellation policies, define better overbooking tactics and thus use more assertive pricing and inventory allocation strategies.\n",
    "\n",
    "**Value**:\n",
    "- To mitigate revenue loss derived from booking cancellations\n",
    "- To mitigate the risks associated  with overbooking (reallocation costs, cash or service compensations, and particularly important today, social reputation costs)"
   ]
  },
  {
   "cell_type": "markdown",
   "metadata": {},
   "source": [
    "> ## *Data Understanding*\n",
    "\n",
    "The data is originally from the article [Hotel Booking Demand Datasets](https://www.sciencedirect.com/science/article/pii/S2352340918315191), written by Nuno Antonio, Ana Almeida, and Luis Nunes for Data in Brief, Volume 22, February 2019.\n",
    "\n",
    "The data was downloaded and cleaned by Thomas Mock and Antoine Bichat for #TidyTuesday during the week of February 11th, 2020. Source of data: https://www.kaggle.com/jessemostipak/hotel-booking-demand\n",
    "\n",
    "This dataset consists of guest booking information of one of the world’s major leading chain of hotels, homes and spaces. The information given should be used to build some predictive models to classify whether a hotel booking is likely to be canceled, which can affect the revenue stream. Further details about each features/columns as follows:"
   ]
  },
  {
   "cell_type": "markdown",
   "metadata": {},
   "source": [
    "> ### *Feature Description*\n",
    "\n",
    "1. `country`  \n",
    "Country of origin. Categories are represented in the ISO 3155–3:2013 format.\n",
    "\n",
    "2. `market_segment`  \n",
    "A group of people who share one or more common characteristics, lumped together for marketing purposes. \n",
    "    - TA: Travel agents\n",
    "    - TO: Tour operators  \n",
    "<br />    \n",
    "\n",
    "3. `previous_cancellations`  \n",
    "Number of previous bookings that were cancelled by the customer prior to the current booking.\n",
    "\n",
    "4. `booking_changes`  \n",
    "Number of changes/amendments made to the booking from the moment the booking was entered on the PMS (Property Management System) until the moment of check-in or cancellation.\n",
    "\n",
    "5. `deposit_type`  \n",
    "Indication on if the customer made a deposit to guarantee the booking. This variable can assume three categories: No Deposit – no deposit was made; Non Refund – a deposit was made in the value of the total stay cost; Refundable – a deposit was made with a value under the total cost of stay.\n",
    "\n",
    "6. `day_in_waiting_list`  \n",
    "Number of days the booking was in the waiting list before it was confirmed to the customer.\n",
    "\n",
    "7. `customer_type`  \n",
    "    Contract - when the booking has an allotment or other type of contract associated to it;  \n",
    "    Group – when the booking is associated to a group;  \n",
    "    Transient – when the booking is not part of a group or contract, and is not associated to other transient booking;  \n",
    "    Transient-party – when the booking is transient, but is associated to at least other transient booking\n",
    "    \n",
    "8. `reserved_room_type`  \n",
    "Code of room type reserved. Code is presented instead of designation for anonymity reasons.\n",
    "\n",
    "9. `required_car_parking_spaces`  \n",
    "Number of car parking spaces required by the customer\n",
    "\n",
    "10. `total_of_special_requests`  \n",
    "Number of special requests made by the customer (e.g. twin bed or high floor)\n",
    "\n",
    "11. ``is_canceled``  \n",
    "    1: Canceled  \n",
    "    0: Not canceled"
   ]
  },
  {
   "cell_type": "markdown",
   "metadata": {},
   "source": [
    "> ### *Import Libraries*"
   ]
  },
  {
   "cell_type": "code",
   "execution_count": 543,
   "metadata": {},
   "outputs": [],
   "source": [
    "# data analysis library\n",
    "import numpy as np\n",
    "import pandas as pd\n",
    "import matplotlib.pyplot as plt\n",
    "import seaborn as sns\n",
    "%matplotlib inline \n",
    "import missingno\n",
    "\n",
    "# data splitting \n",
    "from sklearn.model_selection import train_test_split, cross_val_score, StratifiedKFold\n",
    "\n",
    "# preprocessing\n",
    "import sklearn\n",
    "from sklearn.preprocessing import OneHotEncoder, RobustScaler\n",
    "from sklearn.compose import ColumnTransformer\n",
    "from sklearn.impute import SimpleImputer\n",
    "from sklearn.pipeline import Pipeline\n",
    "import category_encoders as ce\n",
    "\n",
    "# features selection\n",
    "from sklearn.feature_selection import SelectKBest, SelectFromModel, RFE\n",
    "from sklearn.feature_selection import SelectPercentile, f_classif, mutual_info_classif\n",
    "\n",
    "# model\n",
    "from sklearn.tree import DecisionTreeClassifier, plot_tree\n",
    "from sklearn.linear_model import LogisticRegression\n",
    "from sklearn.ensemble import VotingClassifier, RandomForestClassifier, StackingClassifier, BaggingClassifier\n",
    "from sklearn.ensemble import AdaBoostClassifier\n",
    "from sklearn.ensemble import GradientBoostingClassifier\n",
    "from xgboost import XGBClassifier\n",
    "from catboost import CatBoostClassifier, Pool\n",
    "from sklearn.ensemble import ExtraTreesClassifier\n",
    "\n",
    "# metrics\n",
    "from sklearn.metrics import accuracy_score, confusion_matrix, classification_report\n",
    "from sklearn.metrics import ConfusionMatrixDisplay, precision_score, recall_score, f1_score\n",
    "from sklearn.metrics import precision_recall_curve, roc_curve, roc_auc_score\n",
    "from sklearn.metrics import PrecisionRecallDisplay, RocCurveDisplay\n",
    "\n",
    "# tuning\n",
    "from sklearn.model_selection import GridSearchCV, RandomizedSearchCV\n",
    "\n",
    "import warnings\n",
    "warnings.filterwarnings('ignore')\n"
   ]
  },
  {
   "cell_type": "code",
   "execution_count": 41,
   "metadata": {},
   "outputs": [],
   "source": [
    "# install missingno\n",
    "\n",
    "# conda install -c conda-forge missingno "
   ]
  },
  {
   "cell_type": "code",
   "execution_count": 380,
   "metadata": {},
   "outputs": [],
   "source": [
    "# load data\n",
    "df_ori = pd.read_csv('data_hotel_booking_demand.csv')"
   ]
  },
  {
   "cell_type": "code",
   "execution_count": 381,
   "metadata": {},
   "outputs": [
    {
     "data": {
      "text/html": [
       "<div>\n",
       "<style scoped>\n",
       "    .dataframe tbody tr th:only-of-type {\n",
       "        vertical-align: middle;\n",
       "    }\n",
       "\n",
       "    .dataframe tbody tr th {\n",
       "        vertical-align: top;\n",
       "    }\n",
       "\n",
       "    .dataframe thead th {\n",
       "        text-align: right;\n",
       "    }\n",
       "</style>\n",
       "<table border=\"1\" class=\"dataframe\">\n",
       "  <thead>\n",
       "    <tr style=\"text-align: right;\">\n",
       "      <th></th>\n",
       "      <th>country</th>\n",
       "      <th>market_segment</th>\n",
       "      <th>previous_cancellations</th>\n",
       "      <th>booking_changes</th>\n",
       "      <th>deposit_type</th>\n",
       "      <th>days_in_waiting_list</th>\n",
       "      <th>customer_type</th>\n",
       "      <th>reserved_room_type</th>\n",
       "      <th>required_car_parking_spaces</th>\n",
       "      <th>total_of_special_requests</th>\n",
       "      <th>is_canceled</th>\n",
       "    </tr>\n",
       "  </thead>\n",
       "  <tbody>\n",
       "    <tr>\n",
       "      <th>0</th>\n",
       "      <td>IRL</td>\n",
       "      <td>Offline TA/TO</td>\n",
       "      <td>0</td>\n",
       "      <td>0</td>\n",
       "      <td>No Deposit</td>\n",
       "      <td>0</td>\n",
       "      <td>Transient-Party</td>\n",
       "      <td>A</td>\n",
       "      <td>0</td>\n",
       "      <td>0</td>\n",
       "      <td>0</td>\n",
       "    </tr>\n",
       "    <tr>\n",
       "      <th>1</th>\n",
       "      <td>FRA</td>\n",
       "      <td>Online TA</td>\n",
       "      <td>0</td>\n",
       "      <td>0</td>\n",
       "      <td>No Deposit</td>\n",
       "      <td>0</td>\n",
       "      <td>Transient</td>\n",
       "      <td>A</td>\n",
       "      <td>0</td>\n",
       "      <td>2</td>\n",
       "      <td>0</td>\n",
       "    </tr>\n",
       "    <tr>\n",
       "      <th>2</th>\n",
       "      <td>PRT</td>\n",
       "      <td>Online TA</td>\n",
       "      <td>0</td>\n",
       "      <td>1</td>\n",
       "      <td>No Deposit</td>\n",
       "      <td>0</td>\n",
       "      <td>Transient</td>\n",
       "      <td>A</td>\n",
       "      <td>0</td>\n",
       "      <td>2</td>\n",
       "      <td>0</td>\n",
       "    </tr>\n",
       "    <tr>\n",
       "      <th>3</th>\n",
       "      <td>NLD</td>\n",
       "      <td>Online TA</td>\n",
       "      <td>0</td>\n",
       "      <td>0</td>\n",
       "      <td>No Deposit</td>\n",
       "      <td>0</td>\n",
       "      <td>Transient</td>\n",
       "      <td>A</td>\n",
       "      <td>0</td>\n",
       "      <td>1</td>\n",
       "      <td>1</td>\n",
       "    </tr>\n",
       "    <tr>\n",
       "      <th>4</th>\n",
       "      <td>PRT</td>\n",
       "      <td>Online TA</td>\n",
       "      <td>0</td>\n",
       "      <td>2</td>\n",
       "      <td>No Deposit</td>\n",
       "      <td>0</td>\n",
       "      <td>Transient</td>\n",
       "      <td>A</td>\n",
       "      <td>0</td>\n",
       "      <td>2</td>\n",
       "      <td>0</td>\n",
       "    </tr>\n",
       "  </tbody>\n",
       "</table>\n",
       "</div>"
      ],
      "text/plain": [
       "  country market_segment  previous_cancellations  booking_changes  \\\n",
       "0     IRL  Offline TA/TO                       0                0   \n",
       "1     FRA      Online TA                       0                0   \n",
       "2     PRT      Online TA                       0                1   \n",
       "3     NLD      Online TA                       0                0   \n",
       "4     PRT      Online TA                       0                2   \n",
       "\n",
       "  deposit_type  days_in_waiting_list    customer_type reserved_room_type  \\\n",
       "0   No Deposit                     0  Transient-Party                  A   \n",
       "1   No Deposit                     0        Transient                  A   \n",
       "2   No Deposit                     0        Transient                  A   \n",
       "3   No Deposit                     0        Transient                  A   \n",
       "4   No Deposit                     0        Transient                  A   \n",
       "\n",
       "   required_car_parking_spaces  total_of_special_requests  is_canceled  \n",
       "0                            0                          0            0  \n",
       "1                            0                          2            0  \n",
       "2                            0                          2            0  \n",
       "3                            0                          1            1  \n",
       "4                            0                          2            0  "
      ]
     },
     "execution_count": 381,
     "metadata": {},
     "output_type": "execute_result"
    }
   ],
   "source": [
    "df_hotel = df_ori.copy()\n",
    "\n",
    "df_hotel.head()"
   ]
  },
  {
   "cell_type": "code",
   "execution_count": 318,
   "metadata": {},
   "outputs": [
    {
     "name": "stdout",
     "output_type": "stream",
     "text": [
      "(83573, 11)\n",
      "(83573, 11)\n"
     ]
    }
   ],
   "source": [
    "print(df_ori.shape)\n",
    "print(df_hotel.shape)"
   ]
  },
  {
   "cell_type": "code",
   "execution_count": 382,
   "metadata": {},
   "outputs": [
    {
     "name": "stdout",
     "output_type": "stream",
     "text": [
      "<class 'pandas.core.frame.DataFrame'>\n",
      "RangeIndex: 83573 entries, 0 to 83572\n",
      "Data columns (total 11 columns):\n",
      " #   Column                       Non-Null Count  Dtype \n",
      "---  ------                       --------------  ----- \n",
      " 0   country                      83222 non-null  object\n",
      " 1   market_segment               83573 non-null  object\n",
      " 2   previous_cancellations       83573 non-null  int64 \n",
      " 3   booking_changes              83573 non-null  int64 \n",
      " 4   deposit_type                 83573 non-null  object\n",
      " 5   days_in_waiting_list         83573 non-null  int64 \n",
      " 6   customer_type                83573 non-null  object\n",
      " 7   reserved_room_type           83573 non-null  object\n",
      " 8   required_car_parking_spaces  83573 non-null  int64 \n",
      " 9   total_of_special_requests    83573 non-null  int64 \n",
      " 10  is_canceled                  83573 non-null  int64 \n",
      "dtypes: int64(6), object(5)\n",
      "memory usage: 7.0+ MB\n"
     ]
    }
   ],
   "source": [
    "df_hotel.info()"
   ]
  },
  {
   "cell_type": "code",
   "execution_count": 383,
   "metadata": {},
   "outputs": [
    {
     "data": {
      "text/html": [
       "<div>\n",
       "<style scoped>\n",
       "    .dataframe tbody tr th:only-of-type {\n",
       "        vertical-align: middle;\n",
       "    }\n",
       "\n",
       "    .dataframe tbody tr th {\n",
       "        vertical-align: top;\n",
       "    }\n",
       "\n",
       "    .dataframe thead th {\n",
       "        text-align: right;\n",
       "    }\n",
       "</style>\n",
       "<table border=\"1\" class=\"dataframe\">\n",
       "  <thead>\n",
       "    <tr style=\"text-align: right;\">\n",
       "      <th></th>\n",
       "      <th>Column Name</th>\n",
       "      <th>Data Type</th>\n",
       "      <th>Data Count</th>\n",
       "      <th>Missing Value</th>\n",
       "      <th>Missing Value %</th>\n",
       "      <th>Number of Unique</th>\n",
       "      <th>Unique Sample</th>\n",
       "    </tr>\n",
       "  </thead>\n",
       "  <tbody>\n",
       "    <tr>\n",
       "      <th>0</th>\n",
       "      <td>country</td>\n",
       "      <td>object</td>\n",
       "      <td>83573</td>\n",
       "      <td>351</td>\n",
       "      <td>0.42</td>\n",
       "      <td>162</td>\n",
       "      <td>[SVN, PRY]</td>\n",
       "    </tr>\n",
       "    <tr>\n",
       "      <th>1</th>\n",
       "      <td>market_segment</td>\n",
       "      <td>object</td>\n",
       "      <td>83573</td>\n",
       "      <td>0</td>\n",
       "      <td>0.00</td>\n",
       "      <td>8</td>\n",
       "      <td>[Complementary, Corporate]</td>\n",
       "    </tr>\n",
       "    <tr>\n",
       "      <th>2</th>\n",
       "      <td>previous_cancellations</td>\n",
       "      <td>int64</td>\n",
       "      <td>83573</td>\n",
       "      <td>0</td>\n",
       "      <td>0.00</td>\n",
       "      <td>15</td>\n",
       "      <td>[0, 3]</td>\n",
       "    </tr>\n",
       "    <tr>\n",
       "      <th>3</th>\n",
       "      <td>booking_changes</td>\n",
       "      <td>int64</td>\n",
       "      <td>83573</td>\n",
       "      <td>0</td>\n",
       "      <td>0.00</td>\n",
       "      <td>19</td>\n",
       "      <td>[3, 7]</td>\n",
       "    </tr>\n",
       "    <tr>\n",
       "      <th>4</th>\n",
       "      <td>deposit_type</td>\n",
       "      <td>object</td>\n",
       "      <td>83573</td>\n",
       "      <td>0</td>\n",
       "      <td>0.00</td>\n",
       "      <td>3</td>\n",
       "      <td>[Non Refund, No Deposit]</td>\n",
       "    </tr>\n",
       "    <tr>\n",
       "      <th>5</th>\n",
       "      <td>days_in_waiting_list</td>\n",
       "      <td>int64</td>\n",
       "      <td>83573</td>\n",
       "      <td>0</td>\n",
       "      <td>0.00</td>\n",
       "      <td>115</td>\n",
       "      <td>[19, 42]</td>\n",
       "    </tr>\n",
       "    <tr>\n",
       "      <th>6</th>\n",
       "      <td>customer_type</td>\n",
       "      <td>object</td>\n",
       "      <td>83573</td>\n",
       "      <td>0</td>\n",
       "      <td>0.00</td>\n",
       "      <td>4</td>\n",
       "      <td>[Transient-Party, Contract]</td>\n",
       "    </tr>\n",
       "    <tr>\n",
       "      <th>7</th>\n",
       "      <td>reserved_room_type</td>\n",
       "      <td>object</td>\n",
       "      <td>83573</td>\n",
       "      <td>0</td>\n",
       "      <td>0.00</td>\n",
       "      <td>10</td>\n",
       "      <td>[B, A]</td>\n",
       "    </tr>\n",
       "    <tr>\n",
       "      <th>8</th>\n",
       "      <td>required_car_parking_spaces</td>\n",
       "      <td>int64</td>\n",
       "      <td>83573</td>\n",
       "      <td>0</td>\n",
       "      <td>0.00</td>\n",
       "      <td>5</td>\n",
       "      <td>[2, 3]</td>\n",
       "    </tr>\n",
       "    <tr>\n",
       "      <th>9</th>\n",
       "      <td>total_of_special_requests</td>\n",
       "      <td>int64</td>\n",
       "      <td>83573</td>\n",
       "      <td>0</td>\n",
       "      <td>0.00</td>\n",
       "      <td>6</td>\n",
       "      <td>[2, 1]</td>\n",
       "    </tr>\n",
       "    <tr>\n",
       "      <th>10</th>\n",
       "      <td>is_canceled</td>\n",
       "      <td>int64</td>\n",
       "      <td>83573</td>\n",
       "      <td>0</td>\n",
       "      <td>0.00</td>\n",
       "      <td>2</td>\n",
       "      <td>[0, 1]</td>\n",
       "    </tr>\n",
       "  </tbody>\n",
       "</table>\n",
       "</div>"
      ],
      "text/plain": [
       "                    Column Name Data Type  Data Count  Missing Value  \\\n",
       "0                       country    object       83573            351   \n",
       "1                market_segment    object       83573              0   \n",
       "2        previous_cancellations     int64       83573              0   \n",
       "3               booking_changes     int64       83573              0   \n",
       "4                  deposit_type    object       83573              0   \n",
       "5          days_in_waiting_list     int64       83573              0   \n",
       "6                 customer_type    object       83573              0   \n",
       "7            reserved_room_type    object       83573              0   \n",
       "8   required_car_parking_spaces     int64       83573              0   \n",
       "9     total_of_special_requests     int64       83573              0   \n",
       "10                  is_canceled     int64       83573              0   \n",
       "\n",
       "    Missing Value %  Number of Unique                Unique Sample  \n",
       "0              0.42               162                   [SVN, PRY]  \n",
       "1              0.00                 8   [Complementary, Corporate]  \n",
       "2              0.00                15                       [0, 3]  \n",
       "3              0.00                19                       [3, 7]  \n",
       "4              0.00                 3     [Non Refund, No Deposit]  \n",
       "5              0.00               115                     [19, 42]  \n",
       "6              0.00                 4  [Transient-Party, Contract]  \n",
       "7              0.00                10                       [B, A]  \n",
       "8              0.00                 5                       [2, 3]  \n",
       "9              0.00                 6                       [2, 1]  \n",
       "10             0.00                 2                       [0, 1]  "
      ]
     },
     "execution_count": 383,
     "metadata": {},
     "output_type": "execute_result"
    }
   ],
   "source": [
    "# check more info in each features\n",
    "\n",
    "list_item = []\n",
    "for col in df_hotel.columns:\n",
    "    list_item.append([col, df_hotel[col].dtype, len(df_hotel), df_hotel[col].isna().sum(), round((df_hotel[col].isna().sum()/len(df_hotel[col]))*100,2),\n",
    "    df_hotel[col].nunique(), list(df_hotel[col].drop_duplicates().sample(2, replace=True).values)])\n",
    "\n",
    "df_items_info = pd.DataFrame(columns=['Column Name', 'Data Type', 'Data Count', 'Missing Value', \n",
    "    'Missing Value %', 'Number of Unique', 'Unique Sample'],\n",
    "    data = list_item)\n",
    "\n",
    "df_items_info"
   ]
  },
  {
   "cell_type": "markdown",
   "metadata": {},
   "source": [
    "**Data Summary**  \n",
    "\n",
    "Missing Value:  \n",
    "The only feature that has missing value is `country` that only takes 0.42% out of the whole data. \n",
    "\n",
    "Categorical Data:  \n",
    "We have 5 categorical data such as `country`, `market_segment`, `deposit_type`, `customer_type`, and `reserved_room_type`.\n",
    "\n",
    "Numerical Data:  \n",
    "Following are the numerical features in our data: `previous_cancellations`, `booking_changes`, `days_in_waiting_list`, `required_car_parking_spaces`, and `total_of_special_requests`.\n",
    "\n",
    "Target:\n",
    "the feature that will be considered as our target is `is_canceled`, where 0 indicates `not canceled` and 1 as `canceled`.\n",
    "\n"
   ]
  },
  {
   "cell_type": "markdown",
   "metadata": {},
   "source": [
    "# 2. **EDA**"
   ]
  },
  {
   "cell_type": "markdown",
   "metadata": {},
   "source": [
    "> ## *Data Splitting*"
   ]
  },
  {
   "cell_type": "code",
   "execution_count": 384,
   "metadata": {},
   "outputs": [],
   "source": [
    "# train test split\n",
    "df_hotel_train, df_hotel_test = train_test_split(df_hotel, random_state = 89, stratify = df_hotel['is_canceled'])"
   ]
  },
  {
   "cell_type": "code",
   "execution_count": 385,
   "metadata": {},
   "outputs": [
    {
     "name": "stdout",
     "output_type": "stream",
     "text": [
      "0    0.631727\n",
      "1    0.368273\n",
      "Name: is_canceled, dtype: float64\n",
      "========\n",
      "0    0.631712\n",
      "1    0.368288\n",
      "Name: is_canceled, dtype: float64\n"
     ]
    }
   ],
   "source": [
    "# check ratio\n",
    "print(df_hotel_train['is_canceled'].value_counts(normalize=True))\n",
    "print('========')\n",
    "print(df_hotel_test['is_canceled'].value_counts(normalize=True))"
   ]
  },
  {
   "cell_type": "markdown",
   "metadata": {},
   "source": [
    "**Target**\n",
    "\n",
    "    0: Not canceled\n",
    "    1: Canceled  \n",
    "    "
   ]
  },
  {
   "cell_type": "markdown",
   "metadata": {},
   "source": [
    "> ## *Data Visualisation*"
   ]
  },
  {
   "cell_type": "code",
   "execution_count": 386,
   "metadata": {},
   "outputs": [
    {
     "data": {
      "image/png": "[encoded data removed]",
      "text/plain": [
       "<Figure size 432x288 with 1 Axes>"
      ]
     },
     "metadata": {},
     "output_type": "display_data"
    }
   ],
   "source": [
    "# How many bookings were cancelled at the Hotel?\n",
    "sns.set(style = \"darkgrid\")\n",
    "plt.title(\"Is booking canceled or not\")\n",
    "ax = sns.countplot(x = \"is_canceled\", data = df_hotel_train)"
   ]
  },
  {
   "cell_type": "markdown",
   "metadata": {},
   "source": [
    "**Summary 1**  \n",
    "According to the this graph, 63% of bookings were not canceled and 37% of the bookings were canceled at the Hotel."
   ]
  },
  {
   "cell_type": "code",
   "execution_count": 387,
   "metadata": {},
   "outputs": [
    {
     "name": "stdout",
     "output_type": "stream",
     "text": [
      "Categorical features are:  ['country', 'market_segment', 'deposit_type', 'customer_type', 'reserved_room_type']\n",
      "Numerical features are:  ['previous_cancellations', 'booking_changes', 'days_in_waiting_list', 'required_car_parking_spaces', 'total_of_special_requests']\n"
     ]
    }
   ],
   "source": [
    "# recheck categorical and numerical features\n",
    "ctg_cols = [col for col in df_hotel_train.columns if df_hotel_train[col].dtype=='object']\n",
    "print('Categorical features are: ', ctg_cols)\n",
    "\n",
    "num_cols = [col for col in df_hotel_train.columns if df_hotel_train[col].dtype!='object' and col!='is_canceled']\n",
    "print('Numerical features are: ', num_cols)"
   ]
  },
  {
   "cell_type": "code",
   "execution_count": 388,
   "metadata": {},
   "outputs": [
    {
     "data": {
      "image/png": "[encoded data removed]",
      "text/plain": [
       "<Figure size 1440x1152 with 4 Axes>"
      ]
     },
     "metadata": {},
     "output_type": "display_data"
    }
   ],
   "source": [
    "# select all features that have object types\n",
    "categorical_var = df_hotel_train.dtypes[df_hotel_train.dtypes == object][1:].index.tolist()\n",
    "\n",
    "# create 14 empty plots\n",
    "fig, ax = plt.subplots(2, 2,figsize=(20,16))\n",
    "\n",
    "# iterate those selected variables visualised in barplot\n",
    "for ix, ctg in enumerate(categorical_var):\n",
    "    sns.countplot(x = ctg, hue = 'is_canceled', data = df_hotel_train, palette= 'autumn', ax = ax.flatten()[ix])"
   ]
  },
  {
   "cell_type": "code",
   "execution_count": 389,
   "metadata": {},
   "outputs": [
    {
     "data": {
      "text/plain": [
       "customer_type    is_canceled\n",
       "Contract         0              0.689704\n",
       "                 1              0.310296\n",
       "Group            0              0.907975\n",
       "                 1              0.092025\n",
       "Transient        0              0.595791\n",
       "                 1              0.404209\n",
       "Transient-Party  0              0.743743\n",
       "                 1              0.256257\n",
       "Name: is_canceled, dtype: float64"
      ]
     },
     "execution_count": 389,
     "metadata": {},
     "output_type": "execute_result"
    }
   ],
   "source": [
    "# Calculate Percentage\n",
    "df_hotel_train.groupby(['customer_type'])['is_canceled'].value_counts(normalize=True)"
   ]
  },
  {
   "cell_type": "markdown",
   "metadata": {},
   "source": [
    "**Summary 2**\n",
    "\n",
    "1. Majority of the distribution channels and market segments involve travel agencies (online or offline). We can target our marketing area to be on these travel agencies website and work with them since majority of the visitors tend to reach out to them. Speaking of cancellation rate, only 'Groups' segment that tend to have cancellation rate which surpassed the non_cancelled. We suggest that the Online TA and offline TA/TO segment have the highest rate of booking cancellation although it has been surpassed by their 'non_cancelled' bookings. The lowest cancelled rate came from 'Direct' segment and 'Corporate' segment. From hear I conclude that the fact of cancellations are made collectively like group reservations has high cancellation rate. Obviously, cancellation rates for online reservations are high as expected in a dynamic environment where the circulation is high. Another situation that took my attention is that the cancellation rate in the direct segment is so low. At this point, I believe a relationship of mutual trust has been established in the event that individuals communicate one by one.\n",
    "\n",
    "2. Around 28% of bookings were canceled by guests with no deposit, followed by 18% bookings were canceled with Refundable. These numbers are huge if the hotels were not able to replace the cancelled bookings in time. So it's obvious that guests who do not pay any deposit while booking are likely to cancel more reservations. Also it is interesting to note that non-refundable deposits had more cancellation than refundable deposits. Logically one would have assumed that refundable deposits have more cancellation as hotel rates are usually higher for refundable deposit type rooms and customers pay more in anticipation of cancellation.\n",
    "\n",
    "3. Majority of the bookings are transient that also has higher cancellation rate. Transient Guests are guests making reservation on their own, usually directly with the hotel. This group includes walk-in guests, business travelers, last-minute bookers and those who require a short-term stay. \n",
    "\n",
    "4. Room type of A has more bookings with higher cancellations. Personally, this feature might not be one of my options for doing further analysis. \n"
   ]
  },
  {
   "cell_type": "code",
   "execution_count": 390,
   "metadata": {},
   "outputs": [
    {
     "data": {
      "image/png": "[encoded data removed]",
      "text/plain": [
       "<Figure size 1440x1152 with 4 Axes>"
      ]
     },
     "metadata": {},
     "output_type": "display_data"
    }
   ],
   "source": [
    "# Numerical EDA\n",
    "numeric_var = df_hotel_train[['previous_cancellations', 'booking_changes', 'required_car_parking_spaces','total_of_special_requests']]\n",
    "\n",
    "# create 14 empty plots\n",
    "fig, ax = plt.subplots(2, 2,figsize=(20,16))\n",
    "\n",
    "# iterate those selected variables visualised in barplot\n",
    "for ix, num in enumerate(numeric_var):\n",
    "    sns.countplot(x = num, hue = 'is_canceled', data = df_hotel_train, ax = ax.flatten()[ix])"
   ]
  },
  {
   "cell_type": "code",
   "execution_count": 391,
   "metadata": {},
   "outputs": [
    {
     "data": {
      "text/plain": [
       "0    0.588507\n",
       "1    0.277860\n",
       "2    0.108697\n",
       "3    0.021730\n",
       "4    0.002840\n",
       "5    0.000367\n",
       "Name: total_of_special_requests, dtype: float64"
      ]
     },
     "execution_count": 391,
     "metadata": {},
     "output_type": "execute_result"
    }
   ],
   "source": [
    "df_hotel_train['total_of_special_requests'].value_counts(normalize =True)"
   ]
  },
  {
   "cell_type": "markdown",
   "metadata": {},
   "source": [
    "**Summary 3**\n",
    "\n",
    "1. Customer who made the current booking are guests with no record of previous cancellations.\n",
    "2. It seems that there is zero number of changes/amendments made to the booking from the moment the booking was entered on the PMS (Property Management System) until the moment of check-in or cancellation.\n",
    "3. Parking spaces has no strong correlation with cancellation rate as well.\n",
    "4. Around 55% of bookings do not have any special requests which brings high number of cancellation rate. Besides, around 40% of guests have one or two special request with low rate of booking cancellations. So, the higher number of special request, the lower possibility to cancel their bookings. "
   ]
  },
  {
   "cell_type": "code",
   "execution_count": 392,
   "metadata": {},
   "outputs": [
    {
     "data": {
      "text/html": [
       "<div>\n",
       "<style scoped>\n",
       "    .dataframe tbody tr th:only-of-type {\n",
       "        vertical-align: middle;\n",
       "    }\n",
       "\n",
       "    .dataframe tbody tr th {\n",
       "        vertical-align: top;\n",
       "    }\n",
       "\n",
       "    .dataframe thead th {\n",
       "        text-align: right;\n",
       "    }\n",
       "</style>\n",
       "<table border=\"1\" class=\"dataframe\">\n",
       "  <thead>\n",
       "    <tr style=\"text-align: right;\">\n",
       "      <th></th>\n",
       "      <th>country</th>\n",
       "      <th>cancelled guests</th>\n",
       "    </tr>\n",
       "  </thead>\n",
       "  <tbody>\n",
       "    <tr>\n",
       "      <th>0</th>\n",
       "      <td>PRT</td>\n",
       "      <td>14326</td>\n",
       "    </tr>\n",
       "    <tr>\n",
       "      <th>1</th>\n",
       "      <td>GBR</td>\n",
       "      <td>1304</td>\n",
       "    </tr>\n",
       "    <tr>\n",
       "      <th>2</th>\n",
       "      <td>ESP</td>\n",
       "      <td>1170</td>\n",
       "    </tr>\n",
       "    <tr>\n",
       "      <th>3</th>\n",
       "      <td>FRA</td>\n",
       "      <td>1038</td>\n",
       "    </tr>\n",
       "    <tr>\n",
       "      <th>4</th>\n",
       "      <td>ITA</td>\n",
       "      <td>705</td>\n",
       "    </tr>\n",
       "    <tr>\n",
       "      <th>5</th>\n",
       "      <td>DEU</td>\n",
       "      <td>625</td>\n",
       "    </tr>\n",
       "    <tr>\n",
       "      <th>6</th>\n",
       "      <td>IRL</td>\n",
       "      <td>444</td>\n",
       "    </tr>\n",
       "    <tr>\n",
       "      <th>7</th>\n",
       "      <td>BRA</td>\n",
       "      <td>443</td>\n",
       "    </tr>\n",
       "    <tr>\n",
       "      <th>8</th>\n",
       "      <td>USA</td>\n",
       "      <td>270</td>\n",
       "    </tr>\n",
       "    <tr>\n",
       "      <th>9</th>\n",
       "      <td>CHN</td>\n",
       "      <td>241</td>\n",
       "    </tr>\n",
       "  </tbody>\n",
       "</table>\n",
       "</div>"
      ],
      "text/plain": [
       "  country  cancelled guests\n",
       "0     PRT             14326\n",
       "1     GBR              1304\n",
       "2     ESP              1170\n",
       "3     FRA              1038\n",
       "4     ITA               705\n",
       "5     DEU               625\n",
       "6     IRL               444\n",
       "7     BRA               443\n",
       "8     USA               270\n",
       "9     CHN               241"
      ]
     },
     "execution_count": 392,
     "metadata": {},
     "output_type": "execute_result"
    }
   ],
   "source": [
    "# top 10 countries cancelled bookings\n",
    "cancel_num = df_hotel_train[df_hotel_train['is_canceled'] == 1]['country'].value_counts().reset_index()\n",
    "cancel_num.columns = ['country', 'cancelled guests']\n",
    "cancel_num.head(10)"
   ]
  },
  {
   "cell_type": "code",
   "execution_count": 393,
   "metadata": {},
   "outputs": [
    {
     "data": {
      "text/html": [
       "<div>\n",
       "<style scoped>\n",
       "    .dataframe tbody tr th:only-of-type {\n",
       "        vertical-align: middle;\n",
       "    }\n",
       "\n",
       "    .dataframe tbody tr th {\n",
       "        vertical-align: top;\n",
       "    }\n",
       "\n",
       "    .dataframe thead th {\n",
       "        text-align: right;\n",
       "    }\n",
       "</style>\n",
       "<table border=\"1\" class=\"dataframe\">\n",
       "  <thead>\n",
       "    <tr style=\"text-align: right;\">\n",
       "      <th></th>\n",
       "      <th>country</th>\n",
       "      <th>No of guests</th>\n",
       "    </tr>\n",
       "  </thead>\n",
       "  <tbody>\n",
       "    <tr>\n",
       "      <th>0</th>\n",
       "      <td>PRT</td>\n",
       "      <td>11195</td>\n",
       "    </tr>\n",
       "    <tr>\n",
       "      <th>1</th>\n",
       "      <td>GBR</td>\n",
       "      <td>5059</td>\n",
       "    </tr>\n",
       "    <tr>\n",
       "      <th>2</th>\n",
       "      <td>FRA</td>\n",
       "      <td>4492</td>\n",
       "    </tr>\n",
       "    <tr>\n",
       "      <th>3</th>\n",
       "      <td>ESP</td>\n",
       "      <td>3280</td>\n",
       "    </tr>\n",
       "    <tr>\n",
       "      <th>4</th>\n",
       "      <td>DEU</td>\n",
       "      <td>3243</td>\n",
       "    </tr>\n",
       "    <tr>\n",
       "      <th>5</th>\n",
       "      <td>IRL</td>\n",
       "      <td>1351</td>\n",
       "    </tr>\n",
       "    <tr>\n",
       "      <th>6</th>\n",
       "      <td>ITA</td>\n",
       "      <td>1264</td>\n",
       "    </tr>\n",
       "    <tr>\n",
       "      <th>7</th>\n",
       "      <td>BEL</td>\n",
       "      <td>974</td>\n",
       "    </tr>\n",
       "    <tr>\n",
       "      <th>8</th>\n",
       "      <td>NLD</td>\n",
       "      <td>906</td>\n",
       "    </tr>\n",
       "    <tr>\n",
       "      <th>9</th>\n",
       "      <td>USA</td>\n",
       "      <td>830</td>\n",
       "    </tr>\n",
       "  </tbody>\n",
       "</table>\n",
       "</div>"
      ],
      "text/plain": [
       "  country  No of guests\n",
       "0     PRT         11195\n",
       "1     GBR          5059\n",
       "2     FRA          4492\n",
       "3     ESP          3280\n",
       "4     DEU          3243\n",
       "5     IRL          1351\n",
       "6     ITA          1264\n",
       "7     BEL           974\n",
       "8     NLD           906\n",
       "9     USA           830"
      ]
     },
     "execution_count": 393,
     "metadata": {},
     "output_type": "execute_result"
    }
   ],
   "source": [
    "origin_guests = df_hotel_train[df_hotel_train['is_canceled'] == 0]['country'].value_counts().reset_index()\n",
    "origin_guests.columns = ['country', 'No of guests']\n",
    "origin_guests.head(10)"
   ]
  },
  {
   "cell_type": "code",
   "execution_count": 394,
   "metadata": {},
   "outputs": [
    {
     "data": {
      "application/vnd.plotly.v1+json": {
       "config": {
        "plotlyServerURL": "https://plot.ly"
       },
       "data": [
        {
         "coloraxis": "coloraxis",
         "geo": "geo",
         "hovertemplate": "<b>%{hovertext}</b><br><br>country=%{location}<br>No of guests=%{z}<extra></extra>",
         "hovertext": [
          "PRT",
          "GBR",
          "FRA",
          "ESP",
          "DEU",
          "IRL",
          "ITA",
          "BEL",
          "NLD",
          "USA",
          "BRA",
          "CHE",
          "AUT",
          "CN",
          "SWE",
          "POL",
          "CHN",
          "ISR",
          "NOR",
          "FIN",
          "RUS",
          "ROU",
          "DNK",
          "AUS",
          "ARG",
          "AGO",
          "MAR",
          "LUX",
          "JPN",
          "CZE",
          "HUN",
          "TUR",
          "SRB",
          "IND",
          "GRC",
          "HRV",
          "LTU",
          "DZA",
          "KOR",
          "NZL",
          "MEX",
          "IRN",
          "EST",
          "BGR",
          "ISL",
          "ZAF",
          "LVA",
          "MOZ",
          "SVN",
          "COL",
          "CHL",
          "CYP",
          "SVK",
          "UKR",
          "THA",
          "TWN",
          "LBN",
          "URY",
          "PER",
          "MYS",
          "SGP",
          "ECU",
          "TUN",
          "PRI",
          "SAU",
          "MLT",
          "EGY",
          "JOR",
          "PHL",
          "CRI",
          "KAZ",
          "IDN",
          "PAN",
          "VEN",
          "IRQ",
          "KWT",
          "BIH",
          "LBY",
          "BLR",
          "MKD",
          "CPV",
          "ARE",
          "AZE",
          "BOL",
          "NGA",
          "LKA",
          "OMN",
          "GNB",
          "JAM",
          "ARM",
          "MDV",
          "CAF",
          "HKG",
          "GIB",
          "CMR",
          "DOM",
          "ALB",
          "SEN",
          "SLV",
          "ABW",
          "QAT",
          "GEO",
          "COM",
          "KEN",
          "TMP",
          "UZB",
          "CUB",
          "BRB",
          "MWI",
          "LIE",
          "PAK",
          "VNM",
          "SUR",
          "GTM",
          "UGA",
          "KNA",
          "TZA",
          "SLE",
          "SDN",
          "ETH",
          "AIA",
          "BGD",
          "TGO",
          "PLW",
          "BWA",
          "CYM",
          "BDI",
          "MLI",
          "RWA",
          "SYR",
          "LAO",
          "ZWE",
          "MUS",
          "BFA",
          "MNE",
          "NCL",
          "CIV",
          "PRY",
          "ATA",
          "MMR",
          "DMA"
         ],
         "locations": [
          "PRT",
          "GBR",
          "FRA",
          "ESP",
          "DEU",
          "IRL",
          "ITA",
          "BEL",
          "NLD",
          "USA",
          "BRA",
          "CHE",
          "AUT",
          "CN",
          "SWE",
          "POL",
          "CHN",
          "ISR",
          "NOR",
          "FIN",
          "RUS",
          "ROU",
          "DNK",
          "AUS",
          "ARG",
          "AGO",
          "MAR",
          "LUX",
          "JPN",
          "CZE",
          "HUN",
          "TUR",
          "SRB",
          "IND",
          "GRC",
          "HRV",
          "LTU",
          "DZA",
          "KOR",
          "NZL",
          "MEX",
          "IRN",
          "EST",
          "BGR",
          "ISL",
          "ZAF",
          "LVA",
          "MOZ",
          "SVN",
          "COL",
          "CHL",
          "CYP",
          "SVK",
          "UKR",
          "THA",
          "TWN",
          "LBN",
          "URY",
          "PER",
          "MYS",
          "SGP",
          "ECU",
          "TUN",
          "PRI",
          "SAU",
          "MLT",
          "EGY",
          "JOR",
          "PHL",
          "CRI",
          "KAZ",
          "IDN",
          "PAN",
          "VEN",
          "IRQ",
          "KWT",
          "BIH",
          "LBY",
          "BLR",
          "MKD",
          "CPV",
          "ARE",
          "AZE",
          "BOL",
          "NGA",
          "LKA",
          "OMN",
          "GNB",
          "JAM",
          "ARM",
          "MDV",
          "CAF",
          "HKG",
          "GIB",
          "CMR",
          "DOM",
          "ALB",
          "SEN",
          "SLV",
          "ABW",
          "QAT",
          "GEO",
          "COM",
          "KEN",
          "TMP",
          "UZB",
          "CUB",
          "BRB",
          "MWI",
          "LIE",
          "PAK",
          "VNM",
          "SUR",
          "GTM",
          "UGA",
          "KNA",
          "TZA",
          "SLE",
          "SDN",
          "ETH",
          "AIA",
          "BGD",
          "TGO",
          "PLW",
          "BWA",
          "CYM",
          "BDI",
          "MLI",
          "RWA",
          "SYR",
          "LAO",
          "ZWE",
          "MUS",
          "BFA",
          "MNE",
          "NCL",
          "CIV",
          "PRY",
          "ATA",
          "MMR",
          "DMA"
         ],
         "name": "",
         "type": "choropleth",
         "z": [
          11195,
          5059,
          4492,
          3280,
          3243,
          1351,
          1264,
          974,
          906,
          830,
          714,
          684,
          541,
          533,
          430,
          378,
          292,
          261,
          227,
          211,
          204,
          190,
          170,
          164,
          93,
          88,
          85,
          84,
          83,
          71,
          67,
          64,
          62,
          56,
          50,
          46,
          44,
          44,
          43,
          41,
          41,
          35,
          32,
          31,
          28,
          27,
          25,
          24,
          24,
          24,
          23,
          20,
          20,
          20,
          16,
          14,
          13,
          13,
          13,
          13,
          12,
          11,
          11,
          10,
          10,
          10,
          9,
          9,
          8,
          8,
          7,
          7,
          7,
          7,
          7,
          7,
          7,
          6,
          6,
          5,
          5,
          5,
          4,
          4,
          4,
          4,
          4,
          4,
          4,
          4,
          3,
          3,
          3,
          3,
          3,
          3,
          3,
          3,
          2,
          2,
          2,
          2,
          2,
          2,
          2,
          2,
          2,
          2,
          2,
          2,
          2,
          2,
          2,
          2,
          1,
          1,
          1,
          1,
          1,
          1,
          1,
          1,
          1,
          1,
          1,
          1,
          1,
          1,
          1,
          1,
          1,
          1,
          1,
          1,
          1,
          1,
          1,
          1,
          1,
          1,
          1
         ]
        }
       ],
       "layout": {
        "coloraxis": {
         "colorbar": {
          "title": {
           "text": "No of guests"
          }
         },
         "colorscale": [
          [
           0,
           "#0d0887"
          ],
          [
           0.1111111111111111,
           "#46039f"
          ],
          [
           0.2222222222222222,
           "#7201a8"
          ],
          [
           0.3333333333333333,
           "#9c179e"
          ],
          [
           0.4444444444444444,
           "#bd3786"
          ],
          [
           0.5555555555555556,
           "#d8576b"
          ],
          [
           0.6666666666666666,
           "#ed7953"
          ],
          [
           0.7777777777777778,
           "#fb9f3a"
          ],
          [
           0.8888888888888888,
           "#fdca26"
          ],
          [
           1,
           "#f0f921"
          ]
         ]
        },
        "geo": {
         "center": {},
         "domain": {
          "x": [
           0,
           1
          ],
          "y": [
           0,
           1
          ]
         }
        },
        "legend": {
         "tracegroupgap": 0
        },
        "template": {
         "data": {
          "bar": [
           {
            "error_x": {
             "color": "#2a3f5f"
            },
            "error_y": {
             "color": "#2a3f5f"
            },
            "marker": {
             "line": {
              "color": "#E5ECF6",
              "width": 0.5
             },
             "pattern": {
              "fillmode": "overlay",
              "size": 10,
              "solidity": 0.2
             }
            },
            "type": "bar"
           }
          ],
          "barpolar": [
           {
            "marker": {
             "line": {
              "color": "#E5ECF6",
              "width": 0.5
             },
             "pattern": {
              "fillmode": "overlay",
              "size": 10,
              "solidity": 0.2
             }
            },
            "type": "barpolar"
           }
          ],
          "carpet": [
           {
            "aaxis": {
             "endlinecolor": "#2a3f5f",
             "gridcolor": "white",
             "linecolor": "white",
             "minorgridcolor": "white",
             "startlinecolor": "#2a3f5f"
            },
            "baxis": {
             "endlinecolor": "#2a3f5f",
             "gridcolor": "white",
             "linecolor": "white",
             "minorgridcolor": "white",
             "startlinecolor": "#2a3f5f"
            },
            "type": "carpet"
           }
          ],
          "choropleth": [
           {
            "colorbar": {
             "outlinewidth": 0,
             "ticks": ""
            },
            "type": "choropleth"
           }
          ],
          "contour": [
           {
            "colorbar": {
             "outlinewidth": 0,
             "ticks": ""
            },
            "colorscale": [
             [
              0,
              "#0d0887"
             ],
             [
              0.1111111111111111,
              "#46039f"
             ],
             [
              0.2222222222222222,
              "#7201a8"
             ],
             [
              0.3333333333333333,
              "#9c179e"
             ],
             [
              0.4444444444444444,
              "#bd3786"
             ],
             [
              0.5555555555555556,
              "#d8576b"
             ],
             [
              0.6666666666666666,
              "#ed7953"
             ],
             [
              0.7777777777777778,
              "#fb9f3a"
             ],
             [
              0.8888888888888888,
              "#fdca26"
             ],
             [
              1,
              "#f0f921"
             ]
            ],
            "type": "contour"
           }
          ],
          "contourcarpet": [
           {
            "colorbar": {
             "outlinewidth": 0,
             "ticks": ""
            },
            "type": "contourcarpet"
           }
          ],
          "heatmap": [
           {
            "colorbar": {
             "outlinewidth": 0,
             "ticks": ""
            },
            "colorscale": [
             [
              0,
              "#0d0887"
             ],
             [
              0.1111111111111111,
              "#46039f"
             ],
             [
              0.2222222222222222,
              "#7201a8"
             ],
             [
              0.3333333333333333,
              "#9c179e"
             ],
             [
              0.4444444444444444,
              "#bd3786"
             ],
             [
              0.5555555555555556,
              "#d8576b"
             ],
             [
              0.6666666666666666,
              "#ed7953"
             ],
             [
              0.7777777777777778,
              "#fb9f3a"
             ],
             [
              0.8888888888888888,
              "#fdca26"
             ],
             [
              1,
              "#f0f921"
             ]
            ],
            "type": "heatmap"
           }
          ],
          "heatmapgl": [
           {
            "colorbar": {
             "outlinewidth": 0,
             "ticks": ""
            },
            "colorscale": [
             [
              0,
              "#0d0887"
             ],
             [
              0.1111111111111111,
              "#46039f"
             ],
             [
              0.2222222222222222,
              "#7201a8"
             ],
             [
              0.3333333333333333,
              "#9c179e"
             ],
             [
              0.4444444444444444,
              "#bd3786"
             ],
             [
              0.5555555555555556,
              "#d8576b"
             ],
             [
              0.6666666666666666,
              "#ed7953"
             ],
             [
              0.7777777777777778,
              "#fb9f3a"
             ],
             [
              0.8888888888888888,
              "#fdca26"
             ],
             [
              1,
              "#f0f921"
             ]
            ],
            "type": "heatmapgl"
           }
          ],
          "histogram": [
           {
            "marker": {
             "pattern": {
              "fillmode": "overlay",
              "size": 10,
              "solidity": 0.2
             }
            },
            "type": "histogram"
           }
          ],
          "histogram2d": [
           {
            "colorbar": {
             "outlinewidth": 0,
             "ticks": ""
            },
            "colorscale": [
             [
              0,
              "#0d0887"
             ],
             [
              0.1111111111111111,
              "#46039f"
             ],
             [
              0.2222222222222222,
              "#7201a8"
             ],
             [
              0.3333333333333333,
              "#9c179e"
             ],
             [
              0.4444444444444444,
              "#bd3786"
             ],
             [
              0.5555555555555556,
              "#d8576b"
             ],
             [
              0.6666666666666666,
              "#ed7953"
             ],
             [
              0.7777777777777778,
              "#fb9f3a"
             ],
             [
              0.8888888888888888,
              "#fdca26"
             ],
             [
              1,
              "#f0f921"
             ]
            ],
            "type": "histogram2d"
           }
          ],
          "histogram2dcontour": [
           {
            "colorbar": {
             "outlinewidth": 0,
             "ticks": ""
            },
            "colorscale": [
             [
              0,
              "#0d0887"
             ],
             [
              0.1111111111111111,
              "#46039f"
             ],
             [
              0.2222222222222222,
              "#7201a8"
             ],
             [
              0.3333333333333333,
              "#9c179e"
             ],
             [
              0.4444444444444444,
              "#bd3786"
             ],
             [
              0.5555555555555556,
              "#d8576b"
             ],
             [
              0.6666666666666666,
              "#ed7953"
             ],
             [
              0.7777777777777778,
              "#fb9f3a"
             ],
             [
              0.8888888888888888,
              "#fdca26"
             ],
             [
              1,
              "#f0f921"
             ]
            ],
            "type": "histogram2dcontour"
           }
          ],
          "mesh3d": [
           {
            "colorbar": {
             "outlinewidth": 0,
             "ticks": ""
            },
            "type": "mesh3d"
           }
          ],
          "parcoords": [
           {
            "line": {
             "colorbar": {
              "outlinewidth": 0,
              "ticks": ""
             }
            },
            "type": "parcoords"
           }
          ],
          "pie": [
           {
            "automargin": true,
            "type": "pie"
           }
          ],
          "scatter": [
           {
            "fillpattern": {
             "fillmode": "overlay",
             "size": 10,
             "solidity": 0.2
            },
            "type": "scatter"
           }
          ],
          "scatter3d": [
           {
            "line": {
             "colorbar": {
              "outlinewidth": 0,
              "ticks": ""
             }
            },
            "marker": {
             "colorbar": {
              "outlinewidth": 0,
              "ticks": ""
             }
            },
            "type": "scatter3d"
           }
          ],
          "scattercarpet": [
           {
            "marker": {
             "colorbar": {
              "outlinewidth": 0,
              "ticks": ""
             }
            },
            "type": "scattercarpet"
           }
          ],
          "scattergeo": [
           {
            "marker": {
             "colorbar": {
              "outlinewidth": 0,
              "ticks": ""
             }
            },
            "type": "scattergeo"
           }
          ],
          "scattergl": [
           {
            "marker": {
             "colorbar": {
              "outlinewidth": 0,
              "ticks": ""
             }
            },
            "type": "scattergl"
           }
          ],
          "scattermapbox": [
           {
            "marker": {
             "colorbar": {
              "outlinewidth": 0,
              "ticks": ""
             }
            },
            "type": "scattermapbox"
           }
          ],
          "scatterpolar": [
           {
            "marker": {
             "colorbar": {
              "outlinewidth": 0,
              "ticks": ""
             }
            },
            "type": "scatterpolar"
           }
          ],
          "scatterpolargl": [
           {
            "marker": {
             "colorbar": {
              "outlinewidth": 0,
              "ticks": ""
             }
            },
            "type": "scatterpolargl"
           }
          ],
          "scatterternary": [
           {
            "marker": {
             "colorbar": {
              "outlinewidth": 0,
              "ticks": ""
             }
            },
            "type": "scatterternary"
           }
          ],
          "surface": [
           {
            "colorbar": {
             "outlinewidth": 0,
             "ticks": ""
            },
            "colorscale": [
             [
              0,
              "#0d0887"
             ],
             [
              0.1111111111111111,
              "#46039f"
             ],
             [
              0.2222222222222222,
              "#7201a8"
             ],
             [
              0.3333333333333333,
              "#9c179e"
             ],
             [
              0.4444444444444444,
              "#bd3786"
             ],
             [
              0.5555555555555556,
              "#d8576b"
             ],
             [
              0.6666666666666666,
              "#ed7953"
             ],
             [
              0.7777777777777778,
              "#fb9f3a"
             ],
             [
              0.8888888888888888,
              "#fdca26"
             ],
             [
              1,
              "#f0f921"
             ]
            ],
            "type": "surface"
           }
          ],
          "table": [
           {
            "cells": {
             "fill": {
              "color": "#EBF0F8"
             },
             "line": {
              "color": "white"
             }
            },
            "header": {
             "fill": {
              "color": "#C8D4E3"
             },
             "line": {
              "color": "white"
             }
            },
            "type": "table"
           }
          ]
         },
         "layout": {
          "annotationdefaults": {
           "arrowcolor": "#2a3f5f",
           "arrowhead": 0,
           "arrowwidth": 1
          },
          "autotypenumbers": "strict",
          "coloraxis": {
           "colorbar": {
            "outlinewidth": 0,
            "ticks": ""
           }
          },
          "colorscale": {
           "diverging": [
            [
             0,
             "#8e0152"
            ],
            [
             0.1,
             "#c51b7d"
            ],
            [
             0.2,
             "#de77ae"
            ],
            [
             0.3,
             "#f1b6da"
            ],
            [
             0.4,
             "#fde0ef"
            ],
            [
             0.5,
             "#f7f7f7"
            ],
            [
             0.6,
             "#e6f5d0"
            ],
            [
             0.7,
             "#b8e186"
            ],
            [
             0.8,
             "#7fbc41"
            ],
            [
             0.9,
             "#4d9221"
            ],
            [
             1,
             "#276419"
            ]
           ],
           "sequential": [
            [
             0,
             "#0d0887"
            ],
            [
             0.1111111111111111,
             "#46039f"
            ],
            [
             0.2222222222222222,
             "#7201a8"
            ],
            [
             0.3333333333333333,
             "#9c179e"
            ],
            [
             0.4444444444444444,
             "#bd3786"
            ],
            [
             0.5555555555555556,
             "#d8576b"
            ],
            [
             0.6666666666666666,
             "#ed7953"
            ],
            [
             0.7777777777777778,
             "#fb9f3a"
            ],
            [
             0.8888888888888888,
             "#fdca26"
            ],
            [
             1,
             "#f0f921"
            ]
           ],
           "sequentialminus": [
            [
             0,
             "#0d0887"
            ],
            [
             0.1111111111111111,
             "#46039f"
            ],
            [
             0.2222222222222222,
             "#7201a8"
            ],
            [
             0.3333333333333333,
             "#9c179e"
            ],
            [
             0.4444444444444444,
             "#bd3786"
            ],
            [
             0.5555555555555556,
             "#d8576b"
            ],
            [
             0.6666666666666666,
             "#ed7953"
            ],
            [
             0.7777777777777778,
             "#fb9f3a"
            ],
            [
             0.8888888888888888,
             "#fdca26"
            ],
            [
             1,
             "#f0f921"
            ]
           ]
          },
          "colorway": [
           "#636efa",
           "#EF553B",
           "#00cc96",
           "#ab63fa",
           "#FFA15A",
           "#19d3f3",
           "#FF6692",
           "#B6E880",
           "#FF97FF",
           "#FECB52"
          ],
          "font": {
           "color": "#2a3f5f"
          },
          "geo": {
           "bgcolor": "white",
           "lakecolor": "white",
           "landcolor": "#E5ECF6",
           "showlakes": true,
           "showland": true,
           "subunitcolor": "white"
          },
          "hoverlabel": {
           "align": "left"
          },
          "hovermode": "closest",
          "mapbox": {
           "style": "light"
          },
          "paper_bgcolor": "white",
          "plot_bgcolor": "#E5ECF6",
          "polar": {
           "angularaxis": {
            "gridcolor": "white",
            "linecolor": "white",
            "ticks": ""
           },
           "bgcolor": "#E5ECF6",
           "radialaxis": {
            "gridcolor": "white",
            "linecolor": "white",
            "ticks": ""
           }
          },
          "scene": {
           "xaxis": {
            "backgroundcolor": "#E5ECF6",
            "gridcolor": "white",
            "gridwidth": 2,
            "linecolor": "white",
            "showbackground": true,
            "ticks": "",
            "zerolinecolor": "white"
           },
           "yaxis": {
            "backgroundcolor": "#E5ECF6",
            "gridcolor": "white",
            "gridwidth": 2,
            "linecolor": "white",
            "showbackground": true,
            "ticks": "",
            "zerolinecolor": "white"
           },
           "zaxis": {
            "backgroundcolor": "#E5ECF6",
            "gridcolor": "white",
            "gridwidth": 2,
            "linecolor": "white",
            "showbackground": true,
            "ticks": "",
            "zerolinecolor": "white"
           }
          },
          "shapedefaults": {
           "line": {
            "color": "#2a3f5f"
           }
          },
          "ternary": {
           "aaxis": {
            "gridcolor": "white",
            "linecolor": "white",
            "ticks": ""
           },
           "baxis": {
            "gridcolor": "white",
            "linecolor": "white",
            "ticks": ""
           },
           "bgcolor": "#E5ECF6",
           "caxis": {
            "gridcolor": "white",
            "linecolor": "white",
            "ticks": ""
           }
          },
          "title": {
           "x": 0.05
          },
          "xaxis": {
           "automargin": true,
           "gridcolor": "white",
           "linecolor": "white",
           "ticks": "",
           "title": {
            "standoff": 15
           },
           "zerolinecolor": "white",
           "zerolinewidth": 2
          },
          "yaxis": {
           "automargin": true,
           "gridcolor": "white",
           "linecolor": "white",
           "ticks": "",
           "title": {
            "standoff": 15
           },
           "zerolinecolor": "white",
           "zerolinewidth": 2
          }
         }
        },
        "title": {
         "text": "Home country of visitors"
        }
       }
      }
     },
     "metadata": {},
     "output_type": "display_data"
    }
   ],
   "source": [
    "# using Plotly.express to plot a choropleth map\n",
    "import plotly.express as px\n",
    "\n",
    "px.choropleth(origin_guests,\n",
    "                    locations = \"country\",\n",
    "                    color= \"No of guests\", \n",
    "                    hover_name= \"country\", # column to add to hover information\n",
    "                    color_continuous_scale=px.colors.sequential.Plasma,\n",
    "                    title=\"Home country of visitors\")"
   ]
  },
  {
   "cell_type": "markdown",
   "metadata": {},
   "source": [
    "**Summary 4**\n",
    "\n",
    "Portugal, UK and France, Spain and Germany are the top countries from most guests come, more than 80% come from these 5 countries. However, Portugal has also a great number of cancellation followed by UK, Spain, and so forth. "
   ]
  },
  {
   "cell_type": "code",
   "execution_count": 395,
   "metadata": {},
   "outputs": [
    {
     "data": {
      "image/png": "[encoded data removed]",
      "text/plain": [
       "<Figure size 1800x720 with 1 Axes>"
      ]
     },
     "metadata": {},
     "output_type": "display_data"
    }
   ],
   "source": [
    "# dendogram\n",
    "missingno.dendrogram(df_hotel_train)\n",
    "plt.show()"
   ]
  },
  {
   "cell_type": "markdown",
   "metadata": {},
   "source": [
    "**Conclusion**  \n",
    "I am trying to split the dataset based on the top 5 that have the most significant correlation to the target `is_canceled`, which are `total_of_special_request`, `required_car_parking_spaces`, `booking_changes`, `market_segment`, `deposit_type`, and `customer_type`. However, looking at the result of dendogram, the only variables that is correlated is `total_of_special_request` and `country`. Though, to be more accurate, we can use feature selections method later. "
   ]
  },
  {
   "cell_type": "markdown",
   "metadata": {},
   "source": [
    "# 3. **DATA PREPROCESSING**\n"
   ]
  },
  {
   "cell_type": "code",
   "execution_count": 396,
   "metadata": {},
   "outputs": [],
   "source": [
    "# splitting data\n",
    "X_train = df_hotel_train.drop('is_canceled', axis = 1)\n",
    "X_test = df_hotel_test.drop('is_canceled', axis = 1)\n",
    "y_train = df_hotel_train['is_canceled']\n",
    "y_test = df_hotel_test['is_canceled']\n"
   ]
  },
  {
   "cell_type": "markdown",
   "metadata": {},
   "source": [
    "> ## *Data Cleaning*\n",
    "\n",
    "- We have missing value in column `country`. However, although only `country` attribute had missing values, but we cannot be sure that there won’t be any missing values in new data after the system goes live, so it is safer to apply the imputer to all the categorical and numerical attributes by using `SimpleImputer()`.\n"
   ]
  },
  {
   "cell_type": "markdown",
   "metadata": {},
   "source": [
    "> ## *Feature Engineering*\n",
    "\n",
    "We will have 2 encoders and 1 scaler as explained below in details:  \n",
    "\n",
    "1. Binary Encoder to encode all categotical variables. Most of these features have too many categories to be encoded which is why using binary encoder is the best way.  \n",
    "\n",
    "2. Robust Scaler to scale all numerical variables. The reason I use this scaler is because these variables have extreme outliers and using robust scaler is more sensible to use.\n",
    "\n"
   ]
  },
  {
   "cell_type": "code",
   "execution_count": 397,
   "metadata": {},
   "outputs": [
    {
     "data": {
      "text/html": [
       "<div>\n",
       "<style scoped>\n",
       "    .dataframe tbody tr th:only-of-type {\n",
       "        vertical-align: middle;\n",
       "    }\n",
       "\n",
       "    .dataframe tbody tr th {\n",
       "        vertical-align: top;\n",
       "    }\n",
       "\n",
       "    .dataframe thead th {\n",
       "        text-align: right;\n",
       "    }\n",
       "</style>\n",
       "<table border=\"1\" class=\"dataframe\">\n",
       "  <thead>\n",
       "    <tr style=\"text-align: right;\">\n",
       "      <th></th>\n",
       "      <th>Column Name</th>\n",
       "      <th>Data Type</th>\n",
       "      <th>Data Count</th>\n",
       "      <th>Missing Value</th>\n",
       "      <th>Missing Value %</th>\n",
       "      <th>Number of Unique</th>\n",
       "      <th>Unique Sample</th>\n",
       "    </tr>\n",
       "  </thead>\n",
       "  <tbody>\n",
       "    <tr>\n",
       "      <th>0</th>\n",
       "      <td>country</td>\n",
       "      <td>object</td>\n",
       "      <td>83573</td>\n",
       "      <td>351</td>\n",
       "      <td>0.42</td>\n",
       "      <td>162</td>\n",
       "      <td>[SVN, PRY]</td>\n",
       "    </tr>\n",
       "    <tr>\n",
       "      <th>1</th>\n",
       "      <td>market_segment</td>\n",
       "      <td>object</td>\n",
       "      <td>83573</td>\n",
       "      <td>0</td>\n",
       "      <td>0.00</td>\n",
       "      <td>8</td>\n",
       "      <td>[Complementary, Corporate]</td>\n",
       "    </tr>\n",
       "    <tr>\n",
       "      <th>2</th>\n",
       "      <td>previous_cancellations</td>\n",
       "      <td>int64</td>\n",
       "      <td>83573</td>\n",
       "      <td>0</td>\n",
       "      <td>0.00</td>\n",
       "      <td>15</td>\n",
       "      <td>[0, 3]</td>\n",
       "    </tr>\n",
       "    <tr>\n",
       "      <th>3</th>\n",
       "      <td>booking_changes</td>\n",
       "      <td>int64</td>\n",
       "      <td>83573</td>\n",
       "      <td>0</td>\n",
       "      <td>0.00</td>\n",
       "      <td>19</td>\n",
       "      <td>[3, 7]</td>\n",
       "    </tr>\n",
       "    <tr>\n",
       "      <th>4</th>\n",
       "      <td>deposit_type</td>\n",
       "      <td>object</td>\n",
       "      <td>83573</td>\n",
       "      <td>0</td>\n",
       "      <td>0.00</td>\n",
       "      <td>3</td>\n",
       "      <td>[Non Refund, No Deposit]</td>\n",
       "    </tr>\n",
       "    <tr>\n",
       "      <th>5</th>\n",
       "      <td>days_in_waiting_list</td>\n",
       "      <td>int64</td>\n",
       "      <td>83573</td>\n",
       "      <td>0</td>\n",
       "      <td>0.00</td>\n",
       "      <td>115</td>\n",
       "      <td>[19, 42]</td>\n",
       "    </tr>\n",
       "    <tr>\n",
       "      <th>6</th>\n",
       "      <td>customer_type</td>\n",
       "      <td>object</td>\n",
       "      <td>83573</td>\n",
       "      <td>0</td>\n",
       "      <td>0.00</td>\n",
       "      <td>4</td>\n",
       "      <td>[Transient-Party, Contract]</td>\n",
       "    </tr>\n",
       "    <tr>\n",
       "      <th>7</th>\n",
       "      <td>reserved_room_type</td>\n",
       "      <td>object</td>\n",
       "      <td>83573</td>\n",
       "      <td>0</td>\n",
       "      <td>0.00</td>\n",
       "      <td>10</td>\n",
       "      <td>[B, A]</td>\n",
       "    </tr>\n",
       "    <tr>\n",
       "      <th>8</th>\n",
       "      <td>required_car_parking_spaces</td>\n",
       "      <td>int64</td>\n",
       "      <td>83573</td>\n",
       "      <td>0</td>\n",
       "      <td>0.00</td>\n",
       "      <td>5</td>\n",
       "      <td>[2, 3]</td>\n",
       "    </tr>\n",
       "    <tr>\n",
       "      <th>9</th>\n",
       "      <td>total_of_special_requests</td>\n",
       "      <td>int64</td>\n",
       "      <td>83573</td>\n",
       "      <td>0</td>\n",
       "      <td>0.00</td>\n",
       "      <td>6</td>\n",
       "      <td>[2, 1]</td>\n",
       "    </tr>\n",
       "    <tr>\n",
       "      <th>10</th>\n",
       "      <td>is_canceled</td>\n",
       "      <td>int64</td>\n",
       "      <td>83573</td>\n",
       "      <td>0</td>\n",
       "      <td>0.00</td>\n",
       "      <td>2</td>\n",
       "      <td>[0, 1]</td>\n",
       "    </tr>\n",
       "  </tbody>\n",
       "</table>\n",
       "</div>"
      ],
      "text/plain": [
       "                    Column Name Data Type  Data Count  Missing Value  \\\n",
       "0                       country    object       83573            351   \n",
       "1                market_segment    object       83573              0   \n",
       "2        previous_cancellations     int64       83573              0   \n",
       "3               booking_changes     int64       83573              0   \n",
       "4                  deposit_type    object       83573              0   \n",
       "5          days_in_waiting_list     int64       83573              0   \n",
       "6                 customer_type    object       83573              0   \n",
       "7            reserved_room_type    object       83573              0   \n",
       "8   required_car_parking_spaces     int64       83573              0   \n",
       "9     total_of_special_requests     int64       83573              0   \n",
       "10                  is_canceled     int64       83573              0   \n",
       "\n",
       "    Missing Value %  Number of Unique                Unique Sample  \n",
       "0              0.42               162                   [SVN, PRY]  \n",
       "1              0.00                 8   [Complementary, Corporate]  \n",
       "2              0.00                15                       [0, 3]  \n",
       "3              0.00                19                       [3, 7]  \n",
       "4              0.00                 3     [Non Refund, No Deposit]  \n",
       "5              0.00               115                     [19, 42]  \n",
       "6              0.00                 4  [Transient-Party, Contract]  \n",
       "7              0.00                10                       [B, A]  \n",
       "8              0.00                 5                       [2, 3]  \n",
       "9              0.00                 6                       [2, 1]  \n",
       "10             0.00                 2                       [0, 1]  "
      ]
     },
     "execution_count": 397,
     "metadata": {},
     "output_type": "execute_result"
    }
   ],
   "source": [
    "df_items_info"
   ]
  },
  {
   "cell_type": "code",
   "execution_count": 398,
   "metadata": {},
   "outputs": [
    {
     "name": "stdout",
     "output_type": "stream",
     "text": [
      "country: \n",
      "['PRT' 'ZAF' 'CHN' 'ITA' 'GBR' 'FRA' 'ISL' 'BRA' 'ESP' 'USA' 'RUS' 'LUX'\n",
      " 'DEU' 'IRL' 'NOR' 'POL' nan 'NLD' 'KOR' 'SWE' 'CN' 'IRN' 'CHE' 'ISR'\n",
      " 'AUT' 'BGD' 'BHR' 'ECU' 'UKR' 'BEL' 'AGO' 'TUR' 'SRB' 'ROU' 'AUS' 'FIN'\n",
      " 'DNK' 'MAR' 'BWA' 'GEO' 'SAU' 'PRI' 'QAT' 'LTU' 'IRQ' 'CZE' 'BGR' 'JOR'\n",
      " 'DZA' 'BLR' 'TWN' 'MEX' 'NGA' 'COM' 'HUN' 'CHL' 'MAC' 'OMN' 'MKD' 'COL'\n",
      " 'IND' 'PER' 'EST' 'JPN' 'ARG' 'LVA' 'AND' 'CYP' 'MYS' 'GRC' 'MLT' 'CPV'\n",
      " 'GIB' 'SVK' 'HKG' 'PAK' 'URY' 'MOZ' 'FRO' 'MDV' 'LBN' 'ARM' 'HRV' 'VEN'\n",
      " 'NZL' 'NCL' 'THA' 'IDN' 'GNB' 'SVN' 'TUN' 'UZB' 'ARE' 'SGP' 'GGY' 'BDI'\n",
      " 'ETH' 'ALB' 'GHA' 'KWT' 'LBY' 'SLE' 'KAZ' 'TJK' 'GAB' 'CRI' 'ZMB' 'PAN'\n",
      " 'AZE' 'JEY' 'PHL' 'AIA' 'SUR' 'JAM' 'MUS' 'KNA' 'PRY' 'UMI' 'DOM' 'BFA'\n",
      " 'CYM' 'BEN' 'TMP' 'MWI' 'TGO' 'CUB' 'BRB' 'MNE' 'BIH' 'ZWE' 'EGY' 'CIV'\n",
      " 'UGA' 'SEN' 'CAF' 'LKA' 'NIC' 'LIE' 'BOL' 'KEN' 'CMR' 'DMA' 'MLI' 'SLV'\n",
      " 'PLW' 'RWA' 'IMN' 'ABW' 'MMR' 'SDN' 'VNM' 'KHM' 'LAO' 'GTM' 'SYR' 'ATA'\n",
      " 'GLP' 'TZA']\n",
      "\n",
      "market_segment: \n",
      "['Online TA' 'Direct' 'Offline TA/TO' 'Groups' 'Corporate' 'Aviation'\n",
      " 'Complementary' 'Undefined']\n",
      "\n",
      "previous_cancellations: \n",
      "[ 0  1  2 24  3  5  6 26  4 11 25 21 14 19 13]\n",
      "\n",
      "booking_changes: \n",
      "[ 2  0  1  3  4  5  7 16 13 17  6  9  8 15 20 10 12 21 14]\n",
      "\n",
      "deposit_type: \n",
      "['No Deposit' 'Non Refund' 'Refundable']\n",
      "\n",
      "days_in_waiting_list: \n",
      "[  0 223 391  77 101  22  98  50  31  14  27  39  69  18  35   3  56 330\n",
      "  10  46  93  33  48 162  70  65 215 176  41  85 160  38  34 122  47  44\n",
      " 107  91 147  74  87  20  17 125 236  45  58  43 111  15 187  49  83  19\n",
      "  68  42  62  84  16 224  24  40 178  75   9 108  60  96  99  61  57  80\n",
      "  28  25   6  63  32 120 174   1  21 185 207  79 259   4  71  59  76 113\n",
      "  92 379  55  13   5  23  26  53 150 183 121  30 105   2  64  73   7  11\n",
      " 100]\n",
      "\n",
      "customer_type: \n",
      "['Transient' 'Transient-Party' 'Contract' 'Group']\n",
      "\n",
      "reserved_room_type: \n",
      "['E' 'F' 'A' 'D' 'H' 'B' 'G' 'C' 'P' 'L']\n",
      "\n",
      "required_car_parking_spaces: \n",
      "[0 1 2 8 3]\n",
      "\n",
      "total_of_special_requests: \n",
      "[2 1 0 3 4 5]\n",
      "\n",
      "is_canceled: \n",
      "[0 1]\n",
      "\n"
     ]
    }
   ],
   "source": [
    "# printing unique values of each column\n",
    "for col in df_hotel_train.columns:\n",
    "    print(f\"{col}: \\n{df_hotel_train[col].unique()}\\n\")"
   ]
  },
  {
   "cell_type": "code",
   "execution_count": 422,
   "metadata": {},
   "outputs": [],
   "source": [
    "# firstly, we need to create list to indicate which features will be imputed and which method\n",
    "features_numeric = ['previous_cancellations', 'booking_changes', \n",
    "        'days_in_waiting_list', 'required_car_parking_spaces', 'total_of_special_requests']\n",
    "\n",
    "features_categoric = ['country', 'market_segment', \n",
    "        'deposit_type', 'customer_type', 'reserved_room_type']"
   ]
  },
  {
   "cell_type": "code",
   "execution_count": 401,
   "metadata": {},
   "outputs": [],
   "source": [
    "# without scaling and encoding\n",
    "\n",
    "# to impute numerical features\n",
    "numeric_imputer = Pipeline([\n",
    "    ('imputer', SimpleImputer(strategy = 'median'))\n",
    "])\n",
    "\n",
    "# to impute categorical features\n",
    "categoric_imputer = Pipeline([\n",
    "    ('imputer', SimpleImputer(strategy = 'constant', fill_value = 'Missing')),\n",
    "])\n",
    "\n",
    "# then we put the features list and the transformers together\n",
    "# using the column transformer\n",
    "\n",
    "preprocessor_imputer = ColumnTransformer([\n",
    "        ('num', numeric_imputer, features_numeric),\n",
    "        ('ctg', categoric_imputer, features_categoric)                                           \n",
    "], remainder = 'passthrough')\n",
    "\n",
    "X_train_prep_imp = preprocessor_imputer.fit_transform(X_train)\n",
    "X_test_prep_imp = preprocessor_imputer.transform(X_test)\n",
    "\n",
    "X_train_prep_imp = pd.DataFrame(X_train_prep_imp)\n",
    "X_test_prep_imp = pd.DataFrame(X_test_prep_imp)"
   ]
  },
  {
   "cell_type": "code",
   "execution_count": 451,
   "metadata": {},
   "outputs": [],
   "source": [
    "# with encoding\n",
    "\n",
    "# firstly, we need to create list to indicate which features will be imputed and which method\n",
    "features_ctg_binary = ['country', 'reserved_room_type', 'market_segment']\n",
    "\n",
    "features_ctg_onehot = ['deposit_type', 'customer_type']\n",
    "\n",
    "# then initiate the imputers with pipeline for each features list\n",
    "\n",
    "# to impute numerical features\n",
    "numeric_transformer = Pipeline([\n",
    "    ('imputer', SimpleImputer(strategy = 'median'))\n",
    "])\n",
    "\n",
    "# to impute categorical features with many categories\n",
    "binary_encoder = Pipeline([\n",
    "    ('imputer', SimpleImputer(strategy = 'constant', fill_value = 'Missing')),\n",
    "    ('binary', ce.BinaryEncoder())\n",
    "])\n",
    "\n",
    "# to impute categorical features with many categories\n",
    "onehot_encoder = Pipeline([\n",
    "    ('imputer', SimpleImputer(strategy = 'constant', fill_value = 'Missing')),\n",
    "    ('onehot', OneHotEncoder(drop = 'first'))\n",
    "])\n",
    "\n",
    "# then we put the features list and the transformers together\n",
    "# using the column transformer\n",
    "\n",
    "preprocessor= ColumnTransformer([\n",
    "        ('num', numeric_transformer, features_numeric),\n",
    "        ('binary', binary_encoder, features_ctg_binary),\n",
    "        ('onehot', onehot_encoder, features_ctg_onehot)                                         \n",
    "], remainder = 'passthrough')\n",
    "\n",
    "# data transformation \n",
    "\n",
    "X_train_prep = preprocessor.fit_transform(X_train)\n",
    "X_test_prep = preprocessor.transform(X_test)\n",
    "\n",
    "X_train_prep= pd.DataFrame(X_train_prep)\n",
    "X_test_prep = pd.DataFrame(X_test_prep)"
   ]
  },
  {
   "cell_type": "code",
   "execution_count": 452,
   "metadata": {},
   "outputs": [
    {
     "data": {
      "text/html": [
       "<div>\n",
       "<style scoped>\n",
       "    .dataframe tbody tr th:only-of-type {\n",
       "        vertical-align: middle;\n",
       "    }\n",
       "\n",
       "    .dataframe tbody tr th {\n",
       "        vertical-align: top;\n",
       "    }\n",
       "\n",
       "    .dataframe thead th {\n",
       "        text-align: right;\n",
       "    }\n",
       "</style>\n",
       "<table border=\"1\" class=\"dataframe\">\n",
       "  <thead>\n",
       "    <tr style=\"text-align: right;\">\n",
       "      <th></th>\n",
       "      <th>0</th>\n",
       "      <th>1</th>\n",
       "      <th>2</th>\n",
       "      <th>3</th>\n",
       "      <th>4</th>\n",
       "      <th>5</th>\n",
       "      <th>6</th>\n",
       "      <th>7</th>\n",
       "      <th>8</th>\n",
       "      <th>9</th>\n",
       "      <th>...</th>\n",
       "      <th>16</th>\n",
       "      <th>17</th>\n",
       "      <th>18</th>\n",
       "      <th>19</th>\n",
       "      <th>20</th>\n",
       "      <th>21</th>\n",
       "      <th>22</th>\n",
       "      <th>23</th>\n",
       "      <th>24</th>\n",
       "      <th>25</th>\n",
       "    </tr>\n",
       "  </thead>\n",
       "  <tbody>\n",
       "    <tr>\n",
       "      <th>0</th>\n",
       "      <td>0.0</td>\n",
       "      <td>0.0</td>\n",
       "      <td>0.0</td>\n",
       "      <td>0.0</td>\n",
       "      <td>1.0</td>\n",
       "      <td>0.0</td>\n",
       "      <td>0.0</td>\n",
       "      <td>0.0</td>\n",
       "      <td>0.0</td>\n",
       "      <td>1.0</td>\n",
       "      <td>...</td>\n",
       "      <td>1.0</td>\n",
       "      <td>0.0</td>\n",
       "      <td>0.0</td>\n",
       "      <td>0.0</td>\n",
       "      <td>1.0</td>\n",
       "      <td>0.0</td>\n",
       "      <td>0.0</td>\n",
       "      <td>0.0</td>\n",
       "      <td>1.0</td>\n",
       "      <td>0.0</td>\n",
       "    </tr>\n",
       "    <tr>\n",
       "      <th>1</th>\n",
       "      <td>0.0</td>\n",
       "      <td>1.0</td>\n",
       "      <td>0.0</td>\n",
       "      <td>0.0</td>\n",
       "      <td>0.0</td>\n",
       "      <td>0.0</td>\n",
       "      <td>0.0</td>\n",
       "      <td>0.0</td>\n",
       "      <td>0.0</td>\n",
       "      <td>0.0</td>\n",
       "      <td>...</td>\n",
       "      <td>0.0</td>\n",
       "      <td>0.0</td>\n",
       "      <td>0.0</td>\n",
       "      <td>0.0</td>\n",
       "      <td>1.0</td>\n",
       "      <td>0.0</td>\n",
       "      <td>0.0</td>\n",
       "      <td>0.0</td>\n",
       "      <td>1.0</td>\n",
       "      <td>0.0</td>\n",
       "    </tr>\n",
       "    <tr>\n",
       "      <th>2</th>\n",
       "      <td>0.0</td>\n",
       "      <td>0.0</td>\n",
       "      <td>0.0</td>\n",
       "      <td>0.0</td>\n",
       "      <td>1.0</td>\n",
       "      <td>0.0</td>\n",
       "      <td>0.0</td>\n",
       "      <td>0.0</td>\n",
       "      <td>1.0</td>\n",
       "      <td>0.0</td>\n",
       "      <td>...</td>\n",
       "      <td>0.0</td>\n",
       "      <td>0.0</td>\n",
       "      <td>0.0</td>\n",
       "      <td>0.0</td>\n",
       "      <td>1.0</td>\n",
       "      <td>0.0</td>\n",
       "      <td>0.0</td>\n",
       "      <td>0.0</td>\n",
       "      <td>1.0</td>\n",
       "      <td>0.0</td>\n",
       "    </tr>\n",
       "    <tr>\n",
       "      <th>3</th>\n",
       "      <td>0.0</td>\n",
       "      <td>0.0</td>\n",
       "      <td>0.0</td>\n",
       "      <td>0.0</td>\n",
       "      <td>0.0</td>\n",
       "      <td>0.0</td>\n",
       "      <td>0.0</td>\n",
       "      <td>0.0</td>\n",
       "      <td>0.0</td>\n",
       "      <td>1.0</td>\n",
       "      <td>...</td>\n",
       "      <td>1.0</td>\n",
       "      <td>0.0</td>\n",
       "      <td>0.0</td>\n",
       "      <td>0.0</td>\n",
       "      <td>1.0</td>\n",
       "      <td>0.0</td>\n",
       "      <td>0.0</td>\n",
       "      <td>0.0</td>\n",
       "      <td>1.0</td>\n",
       "      <td>0.0</td>\n",
       "    </tr>\n",
       "    <tr>\n",
       "      <th>4</th>\n",
       "      <td>0.0</td>\n",
       "      <td>0.0</td>\n",
       "      <td>0.0</td>\n",
       "      <td>0.0</td>\n",
       "      <td>2.0</td>\n",
       "      <td>0.0</td>\n",
       "      <td>0.0</td>\n",
       "      <td>0.0</td>\n",
       "      <td>0.0</td>\n",
       "      <td>0.0</td>\n",
       "      <td>...</td>\n",
       "      <td>0.0</td>\n",
       "      <td>0.0</td>\n",
       "      <td>0.0</td>\n",
       "      <td>0.0</td>\n",
       "      <td>1.0</td>\n",
       "      <td>0.0</td>\n",
       "      <td>0.0</td>\n",
       "      <td>0.0</td>\n",
       "      <td>1.0</td>\n",
       "      <td>0.0</td>\n",
       "    </tr>\n",
       "    <tr>\n",
       "      <th>...</th>\n",
       "      <td>...</td>\n",
       "      <td>...</td>\n",
       "      <td>...</td>\n",
       "      <td>...</td>\n",
       "      <td>...</td>\n",
       "      <td>...</td>\n",
       "      <td>...</td>\n",
       "      <td>...</td>\n",
       "      <td>...</td>\n",
       "      <td>...</td>\n",
       "      <td>...</td>\n",
       "      <td>...</td>\n",
       "      <td>...</td>\n",
       "      <td>...</td>\n",
       "      <td>...</td>\n",
       "      <td>...</td>\n",
       "      <td>...</td>\n",
       "      <td>...</td>\n",
       "      <td>...</td>\n",
       "      <td>...</td>\n",
       "      <td>...</td>\n",
       "    </tr>\n",
       "    <tr>\n",
       "      <th>20889</th>\n",
       "      <td>0.0</td>\n",
       "      <td>2.0</td>\n",
       "      <td>0.0</td>\n",
       "      <td>0.0</td>\n",
       "      <td>0.0</td>\n",
       "      <td>0.0</td>\n",
       "      <td>0.0</td>\n",
       "      <td>0.0</td>\n",
       "      <td>1.0</td>\n",
       "      <td>0.0</td>\n",
       "      <td>...</td>\n",
       "      <td>1.0</td>\n",
       "      <td>0.0</td>\n",
       "      <td>1.0</td>\n",
       "      <td>0.0</td>\n",
       "      <td>0.0</td>\n",
       "      <td>0.0</td>\n",
       "      <td>0.0</td>\n",
       "      <td>0.0</td>\n",
       "      <td>1.0</td>\n",
       "      <td>0.0</td>\n",
       "    </tr>\n",
       "    <tr>\n",
       "      <th>20890</th>\n",
       "      <td>0.0</td>\n",
       "      <td>0.0</td>\n",
       "      <td>0.0</td>\n",
       "      <td>0.0</td>\n",
       "      <td>0.0</td>\n",
       "      <td>0.0</td>\n",
       "      <td>0.0</td>\n",
       "      <td>0.0</td>\n",
       "      <td>0.0</td>\n",
       "      <td>0.0</td>\n",
       "      <td>...</td>\n",
       "      <td>1.0</td>\n",
       "      <td>0.0</td>\n",
       "      <td>0.0</td>\n",
       "      <td>1.0</td>\n",
       "      <td>1.0</td>\n",
       "      <td>0.0</td>\n",
       "      <td>0.0</td>\n",
       "      <td>0.0</td>\n",
       "      <td>0.0</td>\n",
       "      <td>1.0</td>\n",
       "    </tr>\n",
       "    <tr>\n",
       "      <th>20891</th>\n",
       "      <td>1.0</td>\n",
       "      <td>0.0</td>\n",
       "      <td>44.0</td>\n",
       "      <td>0.0</td>\n",
       "      <td>0.0</td>\n",
       "      <td>0.0</td>\n",
       "      <td>0.0</td>\n",
       "      <td>0.0</td>\n",
       "      <td>0.0</td>\n",
       "      <td>0.0</td>\n",
       "      <td>...</td>\n",
       "      <td>1.0</td>\n",
       "      <td>0.0</td>\n",
       "      <td>0.0</td>\n",
       "      <td>1.0</td>\n",
       "      <td>1.0</td>\n",
       "      <td>1.0</td>\n",
       "      <td>0.0</td>\n",
       "      <td>0.0</td>\n",
       "      <td>1.0</td>\n",
       "      <td>0.0</td>\n",
       "    </tr>\n",
       "    <tr>\n",
       "      <th>20892</th>\n",
       "      <td>0.0</td>\n",
       "      <td>0.0</td>\n",
       "      <td>0.0</td>\n",
       "      <td>1.0</td>\n",
       "      <td>1.0</td>\n",
       "      <td>0.0</td>\n",
       "      <td>0.0</td>\n",
       "      <td>0.0</td>\n",
       "      <td>0.0</td>\n",
       "      <td>0.0</td>\n",
       "      <td>...</td>\n",
       "      <td>1.0</td>\n",
       "      <td>0.0</td>\n",
       "      <td>0.0</td>\n",
       "      <td>1.0</td>\n",
       "      <td>1.0</td>\n",
       "      <td>0.0</td>\n",
       "      <td>0.0</td>\n",
       "      <td>0.0</td>\n",
       "      <td>1.0</td>\n",
       "      <td>0.0</td>\n",
       "    </tr>\n",
       "    <tr>\n",
       "      <th>20893</th>\n",
       "      <td>0.0</td>\n",
       "      <td>0.0</td>\n",
       "      <td>0.0</td>\n",
       "      <td>0.0</td>\n",
       "      <td>0.0</td>\n",
       "      <td>0.0</td>\n",
       "      <td>0.0</td>\n",
       "      <td>0.0</td>\n",
       "      <td>0.0</td>\n",
       "      <td>1.0</td>\n",
       "      <td>...</td>\n",
       "      <td>1.0</td>\n",
       "      <td>0.0</td>\n",
       "      <td>0.0</td>\n",
       "      <td>0.0</td>\n",
       "      <td>1.0</td>\n",
       "      <td>0.0</td>\n",
       "      <td>0.0</td>\n",
       "      <td>0.0</td>\n",
       "      <td>1.0</td>\n",
       "      <td>0.0</td>\n",
       "    </tr>\n",
       "  </tbody>\n",
       "</table>\n",
       "<p>20894 rows × 26 columns</p>\n",
       "</div>"
      ],
      "text/plain": [
       "        0    1     2    3    4    5    6    7    8    9   ...   16   17   18  \\\n",
       "0      0.0  0.0   0.0  0.0  1.0  0.0  0.0  0.0  0.0  1.0  ...  1.0  0.0  0.0   \n",
       "1      0.0  1.0   0.0  0.0  0.0  0.0  0.0  0.0  0.0  0.0  ...  0.0  0.0  0.0   \n",
       "2      0.0  0.0   0.0  0.0  1.0  0.0  0.0  0.0  1.0  0.0  ...  0.0  0.0  0.0   \n",
       "3      0.0  0.0   0.0  0.0  0.0  0.0  0.0  0.0  0.0  1.0  ...  1.0  0.0  0.0   \n",
       "4      0.0  0.0   0.0  0.0  2.0  0.0  0.0  0.0  0.0  0.0  ...  0.0  0.0  0.0   \n",
       "...    ...  ...   ...  ...  ...  ...  ...  ...  ...  ...  ...  ...  ...  ...   \n",
       "20889  0.0  2.0   0.0  0.0  0.0  0.0  0.0  0.0  1.0  0.0  ...  1.0  0.0  1.0   \n",
       "20890  0.0  0.0   0.0  0.0  0.0  0.0  0.0  0.0  0.0  0.0  ...  1.0  0.0  0.0   \n",
       "20891  1.0  0.0  44.0  0.0  0.0  0.0  0.0  0.0  0.0  0.0  ...  1.0  0.0  0.0   \n",
       "20892  0.0  0.0   0.0  1.0  1.0  0.0  0.0  0.0  0.0  0.0  ...  1.0  0.0  0.0   \n",
       "20893  0.0  0.0   0.0  0.0  0.0  0.0  0.0  0.0  0.0  1.0  ...  1.0  0.0  0.0   \n",
       "\n",
       "        19   20   21   22   23   24   25  \n",
       "0      0.0  1.0  0.0  0.0  0.0  1.0  0.0  \n",
       "1      0.0  1.0  0.0  0.0  0.0  1.0  0.0  \n",
       "2      0.0  1.0  0.0  0.0  0.0  1.0  0.0  \n",
       "3      0.0  1.0  0.0  0.0  0.0  1.0  0.0  \n",
       "4      0.0  1.0  0.0  0.0  0.0  1.0  0.0  \n",
       "...    ...  ...  ...  ...  ...  ...  ...  \n",
       "20889  0.0  0.0  0.0  0.0  0.0  1.0  0.0  \n",
       "20890  1.0  1.0  0.0  0.0  0.0  0.0  1.0  \n",
       "20891  1.0  1.0  1.0  0.0  0.0  1.0  0.0  \n",
       "20892  1.0  1.0  0.0  0.0  0.0  1.0  0.0  \n",
       "20893  0.0  1.0  0.0  0.0  0.0  1.0  0.0  \n",
       "\n",
       "[20894 rows x 26 columns]"
      ]
     },
     "execution_count": 452,
     "metadata": {},
     "output_type": "execute_result"
    }
   ],
   "source": [
    "X_test_prep"
   ]
  },
  {
   "cell_type": "code",
   "execution_count": 424,
   "metadata": {},
   "outputs": [],
   "source": [
    "#create function to get feature names from column transformer\n",
    "def get_feature_names(column_transformer):\n",
    "    \"\"\"Get feature names from all transformers.\n",
    "    Returns\n",
    "    -------\n",
    "    feature_names : list of strings\n",
    "        Names of the features produced by transform.\n",
    "    \"\"\"\n",
    "    # Remove the internal helper function\n",
    "    #check_is_fitted(column_transformer)\n",
    "    \n",
    "    # Turn loopkup into function for better handling with pipeline later\n",
    "    def get_names(trans):\n",
    "        # >> Original get_feature_names() method\n",
    "        if trans == 'drop' or (\n",
    "                hasattr(column, '__len__') and not len(column)):\n",
    "            return []\n",
    "        if trans == 'passthrough':\n",
    "            if hasattr(column_transformer, '_df_columns'):\n",
    "                if ((not isinstance(column, slice))\n",
    "                        and all(isinstance(col, str) for col in column)):\n",
    "                    return column\n",
    "                else:\n",
    "                    return column_transformer._df_columns[column]\n",
    "            else:\n",
    "                indices = np.arange(column_transformer._n_features)\n",
    "                return ['x%d' % i for i in indices[column]]\n",
    "        if not hasattr(trans, 'get_feature_names'):\n",
    "        # >>> Change: Return input column names if no method avaiable\n",
    "            # Turn error into a warning\n",
    "            warnings.warn(\"Transformer %s (type %s) does not \"\n",
    "                                 \"provide get_feature_names. \"\n",
    "                                 \"Will return input column names if available\"\n",
    "                                 % (str(name), type(trans).__name__))\n",
    "            # For transformers without a get_features_names method, use the input\n",
    "            # names to the column transformer\n",
    "            if column is None:\n",
    "                return []\n",
    "            else:\n",
    "                return [name + \"__\" + f for f in column]\n",
    "\n",
    "        return [name + \"__\" + f for f in trans.get_feature_names()]\n",
    "    \n",
    "    ### Start of processing\n",
    "    feature_names = []\n",
    "    \n",
    "    # Allow transformers to be pipelines. Pipeline steps are named differently, so preprocessing is needed\n",
    "    if type(column_transformer) == sklearn.pipeline.Pipeline:\n",
    "        l_transformers = [(name, trans, None, None) for step, name, trans in column_transformer._iter()]\n",
    "    else:\n",
    "        # For column transformers, follow the original method\n",
    "        l_transformers = list(column_transformer._iter(fitted=True))\n",
    "    \n",
    "    \n",
    "    for name, trans, column, _ in l_transformers: \n",
    "        if type(trans) == sklearn.pipeline.Pipeline:\n",
    "            # Recursive call on pipeline\n",
    "            _names = get_feature_names(trans)\n",
    "            # if pipeline has no transformer that returns names\n",
    "            if len(_names)==0:\n",
    "                _names = [name + \"__\" + f for f in column]\n",
    "            feature_names.extend(_names)\n",
    "        else:\n",
    "            feature_names.extend(get_names(trans))\n",
    "    \n",
    "    return feature_names"
   ]
  },
  {
   "cell_type": "code",
   "execution_count": 425,
   "metadata": {},
   "outputs": [
    {
     "data": {
      "text/plain": [
       "['num__previous_cancellations',\n",
       " 'num__booking_changes',\n",
       " 'num__days_in_waiting_list',\n",
       " 'num__required_car_parking_spaces',\n",
       " 'num__total_of_special_requests',\n",
       " 'ctg__country',\n",
       " 'ctg__market_segment',\n",
       " 'ctg__deposit_type',\n",
       " 'ctg__customer_type',\n",
       " 'ctg__reserved_room_type']"
      ]
     },
     "execution_count": 425,
     "metadata": {},
     "output_type": "execute_result"
    }
   ],
   "source": [
    "feature_imp = get_feature_names(preprocessor_imputer)\n",
    "feature_imp"
   ]
  },
  {
   "cell_type": "code",
   "execution_count": 453,
   "metadata": {},
   "outputs": [
    {
     "data": {
      "text/plain": [
       "['num__previous_cancellations',\n",
       " 'num__booking_changes',\n",
       " 'num__days_in_waiting_list',\n",
       " 'num__required_car_parking_spaces',\n",
       " 'num__total_of_special_requests',\n",
       " 'binary__0_0',\n",
       " 'binary__0_1',\n",
       " 'binary__0_2',\n",
       " 'binary__0_3',\n",
       " 'binary__0_4',\n",
       " 'binary__0_5',\n",
       " 'binary__0_6',\n",
       " 'binary__0_7',\n",
       " 'binary__1_0',\n",
       " 'binary__1_1',\n",
       " 'binary__1_2',\n",
       " 'binary__1_3',\n",
       " 'binary__2_0',\n",
       " 'binary__2_1',\n",
       " 'binary__2_2',\n",
       " 'binary__2_3',\n",
       " 'onehot__x0_Non Refund',\n",
       " 'onehot__x0_Refundable',\n",
       " 'onehot__x1_Group',\n",
       " 'onehot__x1_Transient',\n",
       " 'onehot__x1_Transient-Party']"
      ]
     },
     "execution_count": 453,
     "metadata": {},
     "output_type": "execute_result"
    }
   ],
   "source": [
    "feature_prep= get_feature_names(preprocessor)\n",
    "feature_prep"
   ]
  },
  {
   "cell_type": "code",
   "execution_count": 428,
   "metadata": {},
   "outputs": [],
   "source": [
    "# rename column preprocessed imputed\n",
    "X_train_imp_array = np.array(X_train_prep_imp)\n",
    "X_test_imp_array = np.array(X_test_prep_imp)\n",
    "\n",
    "X_train_prep_imp = pd.DataFrame(\n",
    "    data = X_train_imp_array,\n",
    "    columns = feature_imp\n",
    ")\n",
    "X_test_prep_imp = pd.DataFrame(\n",
    "    data = X_test_imp_array,\n",
    "    columns = feature_imp\n",
    ")\n",
    "\n",
    "X_train_prep_imp = pd.concat([X_train_prep_imp], axis=1)\n",
    "X_test_prep_imp = pd.concat([X_test_prep_imp], axis=1)"
   ]
  },
  {
   "cell_type": "code",
   "execution_count": 454,
   "metadata": {},
   "outputs": [],
   "source": [
    "# rename column preprocessed imputed\n",
    "X_train_prep_array = np.array(X_train_prep)\n",
    "X_test_prep_array = np.array(X_test_prep)\n",
    "\n",
    "X_train_prep= pd.DataFrame(\n",
    "    data= X_train_prep_array,\n",
    "    columns= feature_prep\n",
    ")\n",
    "X_test_prep = pd.DataFrame(\n",
    "    data = X_test_prep_array,\n",
    "    columns = feature_prep\n",
    ")\n",
    "\n",
    "X_train_prep = pd.concat([X_train_prep], axis=1)\n",
    "X_test_prep = pd.concat([X_test_prep], axis=1)"
   ]
  },
  {
   "cell_type": "code",
   "execution_count": 455,
   "metadata": {},
   "outputs": [
    {
     "data": {
      "text/html": [
       "<div>\n",
       "<style scoped>\n",
       "    .dataframe tbody tr th:only-of-type {\n",
       "        vertical-align: middle;\n",
       "    }\n",
       "\n",
       "    .dataframe tbody tr th {\n",
       "        vertical-align: top;\n",
       "    }\n",
       "\n",
       "    .dataframe thead th {\n",
       "        text-align: right;\n",
       "    }\n",
       "</style>\n",
       "<table border=\"1\" class=\"dataframe\">\n",
       "  <thead>\n",
       "    <tr style=\"text-align: right;\">\n",
       "      <th></th>\n",
       "      <th>num__previous_cancellations</th>\n",
       "      <th>num__booking_changes</th>\n",
       "      <th>num__days_in_waiting_list</th>\n",
       "      <th>num__required_car_parking_spaces</th>\n",
       "      <th>num__total_of_special_requests</th>\n",
       "      <th>binary__0_0</th>\n",
       "      <th>binary__0_1</th>\n",
       "      <th>binary__0_2</th>\n",
       "      <th>binary__0_3</th>\n",
       "      <th>binary__0_4</th>\n",
       "      <th>...</th>\n",
       "      <th>binary__1_3</th>\n",
       "      <th>binary__2_0</th>\n",
       "      <th>binary__2_1</th>\n",
       "      <th>binary__2_2</th>\n",
       "      <th>binary__2_3</th>\n",
       "      <th>onehot__x0_Non Refund</th>\n",
       "      <th>onehot__x0_Refundable</th>\n",
       "      <th>onehot__x1_Group</th>\n",
       "      <th>onehot__x1_Transient</th>\n",
       "      <th>onehot__x1_Transient-Party</th>\n",
       "    </tr>\n",
       "  </thead>\n",
       "  <tbody>\n",
       "    <tr>\n",
       "      <th>0</th>\n",
       "      <td>0.0</td>\n",
       "      <td>2.0</td>\n",
       "      <td>0.0</td>\n",
       "      <td>0.0</td>\n",
       "      <td>2.0</td>\n",
       "      <td>0.0</td>\n",
       "      <td>0.0</td>\n",
       "      <td>0.0</td>\n",
       "      <td>0.0</td>\n",
       "      <td>0.0</td>\n",
       "      <td>...</td>\n",
       "      <td>1.0</td>\n",
       "      <td>0.0</td>\n",
       "      <td>0.0</td>\n",
       "      <td>0.0</td>\n",
       "      <td>1.0</td>\n",
       "      <td>0.0</td>\n",
       "      <td>0.0</td>\n",
       "      <td>0.0</td>\n",
       "      <td>1.0</td>\n",
       "      <td>0.0</td>\n",
       "    </tr>\n",
       "    <tr>\n",
       "      <th>1</th>\n",
       "      <td>0.0</td>\n",
       "      <td>0.0</td>\n",
       "      <td>0.0</td>\n",
       "      <td>0.0</td>\n",
       "      <td>2.0</td>\n",
       "      <td>0.0</td>\n",
       "      <td>0.0</td>\n",
       "      <td>0.0</td>\n",
       "      <td>0.0</td>\n",
       "      <td>0.0</td>\n",
       "      <td>...</td>\n",
       "      <td>0.0</td>\n",
       "      <td>0.0</td>\n",
       "      <td>0.0</td>\n",
       "      <td>1.0</td>\n",
       "      <td>0.0</td>\n",
       "      <td>0.0</td>\n",
       "      <td>0.0</td>\n",
       "      <td>0.0</td>\n",
       "      <td>1.0</td>\n",
       "      <td>0.0</td>\n",
       "    </tr>\n",
       "    <tr>\n",
       "      <th>2</th>\n",
       "      <td>0.0</td>\n",
       "      <td>0.0</td>\n",
       "      <td>0.0</td>\n",
       "      <td>0.0</td>\n",
       "      <td>1.0</td>\n",
       "      <td>0.0</td>\n",
       "      <td>0.0</td>\n",
       "      <td>0.0</td>\n",
       "      <td>0.0</td>\n",
       "      <td>0.0</td>\n",
       "      <td>...</td>\n",
       "      <td>1.0</td>\n",
       "      <td>0.0</td>\n",
       "      <td>0.0</td>\n",
       "      <td>0.0</td>\n",
       "      <td>1.0</td>\n",
       "      <td>0.0</td>\n",
       "      <td>0.0</td>\n",
       "      <td>0.0</td>\n",
       "      <td>1.0</td>\n",
       "      <td>0.0</td>\n",
       "    </tr>\n",
       "    <tr>\n",
       "      <th>3</th>\n",
       "      <td>0.0</td>\n",
       "      <td>0.0</td>\n",
       "      <td>0.0</td>\n",
       "      <td>0.0</td>\n",
       "      <td>2.0</td>\n",
       "      <td>0.0</td>\n",
       "      <td>0.0</td>\n",
       "      <td>0.0</td>\n",
       "      <td>0.0</td>\n",
       "      <td>0.0</td>\n",
       "      <td>...</td>\n",
       "      <td>0.0</td>\n",
       "      <td>0.0</td>\n",
       "      <td>0.0</td>\n",
       "      <td>0.0</td>\n",
       "      <td>1.0</td>\n",
       "      <td>0.0</td>\n",
       "      <td>0.0</td>\n",
       "      <td>0.0</td>\n",
       "      <td>1.0</td>\n",
       "      <td>0.0</td>\n",
       "    </tr>\n",
       "    <tr>\n",
       "      <th>4</th>\n",
       "      <td>0.0</td>\n",
       "      <td>0.0</td>\n",
       "      <td>0.0</td>\n",
       "      <td>0.0</td>\n",
       "      <td>0.0</td>\n",
       "      <td>0.0</td>\n",
       "      <td>0.0</td>\n",
       "      <td>0.0</td>\n",
       "      <td>0.0</td>\n",
       "      <td>0.0</td>\n",
       "      <td>...</td>\n",
       "      <td>1.0</td>\n",
       "      <td>0.0</td>\n",
       "      <td>0.0</td>\n",
       "      <td>1.0</td>\n",
       "      <td>1.0</td>\n",
       "      <td>0.0</td>\n",
       "      <td>0.0</td>\n",
       "      <td>0.0</td>\n",
       "      <td>0.0</td>\n",
       "      <td>1.0</td>\n",
       "    </tr>\n",
       "    <tr>\n",
       "      <th>...</th>\n",
       "      <td>...</td>\n",
       "      <td>...</td>\n",
       "      <td>...</td>\n",
       "      <td>...</td>\n",
       "      <td>...</td>\n",
       "      <td>...</td>\n",
       "      <td>...</td>\n",
       "      <td>...</td>\n",
       "      <td>...</td>\n",
       "      <td>...</td>\n",
       "      <td>...</td>\n",
       "      <td>...</td>\n",
       "      <td>...</td>\n",
       "      <td>...</td>\n",
       "      <td>...</td>\n",
       "      <td>...</td>\n",
       "      <td>...</td>\n",
       "      <td>...</td>\n",
       "      <td>...</td>\n",
       "      <td>...</td>\n",
       "      <td>...</td>\n",
       "    </tr>\n",
       "    <tr>\n",
       "      <th>62674</th>\n",
       "      <td>0.0</td>\n",
       "      <td>0.0</td>\n",
       "      <td>0.0</td>\n",
       "      <td>0.0</td>\n",
       "      <td>0.0</td>\n",
       "      <td>0.0</td>\n",
       "      <td>0.0</td>\n",
       "      <td>0.0</td>\n",
       "      <td>0.0</td>\n",
       "      <td>1.0</td>\n",
       "      <td>...</td>\n",
       "      <td>0.0</td>\n",
       "      <td>0.0</td>\n",
       "      <td>0.0</td>\n",
       "      <td>1.0</td>\n",
       "      <td>0.0</td>\n",
       "      <td>0.0</td>\n",
       "      <td>0.0</td>\n",
       "      <td>0.0</td>\n",
       "      <td>1.0</td>\n",
       "      <td>0.0</td>\n",
       "    </tr>\n",
       "    <tr>\n",
       "      <th>62675</th>\n",
       "      <td>0.0</td>\n",
       "      <td>0.0</td>\n",
       "      <td>0.0</td>\n",
       "      <td>0.0</td>\n",
       "      <td>0.0</td>\n",
       "      <td>0.0</td>\n",
       "      <td>0.0</td>\n",
       "      <td>0.0</td>\n",
       "      <td>0.0</td>\n",
       "      <td>0.0</td>\n",
       "      <td>...</td>\n",
       "      <td>1.0</td>\n",
       "      <td>0.0</td>\n",
       "      <td>1.0</td>\n",
       "      <td>0.0</td>\n",
       "      <td>0.0</td>\n",
       "      <td>0.0</td>\n",
       "      <td>0.0</td>\n",
       "      <td>0.0</td>\n",
       "      <td>0.0</td>\n",
       "      <td>1.0</td>\n",
       "    </tr>\n",
       "    <tr>\n",
       "      <th>62676</th>\n",
       "      <td>1.0</td>\n",
       "      <td>0.0</td>\n",
       "      <td>0.0</td>\n",
       "      <td>0.0</td>\n",
       "      <td>0.0</td>\n",
       "      <td>0.0</td>\n",
       "      <td>0.0</td>\n",
       "      <td>0.0</td>\n",
       "      <td>0.0</td>\n",
       "      <td>0.0</td>\n",
       "      <td>...</td>\n",
       "      <td>1.0</td>\n",
       "      <td>0.0</td>\n",
       "      <td>0.0</td>\n",
       "      <td>1.0</td>\n",
       "      <td>1.0</td>\n",
       "      <td>1.0</td>\n",
       "      <td>0.0</td>\n",
       "      <td>0.0</td>\n",
       "      <td>1.0</td>\n",
       "      <td>0.0</td>\n",
       "    </tr>\n",
       "    <tr>\n",
       "      <th>62677</th>\n",
       "      <td>5.0</td>\n",
       "      <td>0.0</td>\n",
       "      <td>0.0</td>\n",
       "      <td>0.0</td>\n",
       "      <td>3.0</td>\n",
       "      <td>0.0</td>\n",
       "      <td>0.0</td>\n",
       "      <td>0.0</td>\n",
       "      <td>0.0</td>\n",
       "      <td>0.0</td>\n",
       "      <td>...</td>\n",
       "      <td>1.0</td>\n",
       "      <td>0.0</td>\n",
       "      <td>1.0</td>\n",
       "      <td>1.0</td>\n",
       "      <td>1.0</td>\n",
       "      <td>0.0</td>\n",
       "      <td>0.0</td>\n",
       "      <td>0.0</td>\n",
       "      <td>1.0</td>\n",
       "      <td>0.0</td>\n",
       "    </tr>\n",
       "    <tr>\n",
       "      <th>62678</th>\n",
       "      <td>0.0</td>\n",
       "      <td>0.0</td>\n",
       "      <td>0.0</td>\n",
       "      <td>0.0</td>\n",
       "      <td>1.0</td>\n",
       "      <td>0.0</td>\n",
       "      <td>0.0</td>\n",
       "      <td>0.0</td>\n",
       "      <td>0.0</td>\n",
       "      <td>1.0</td>\n",
       "      <td>...</td>\n",
       "      <td>1.0</td>\n",
       "      <td>0.0</td>\n",
       "      <td>0.0</td>\n",
       "      <td>0.0</td>\n",
       "      <td>1.0</td>\n",
       "      <td>0.0</td>\n",
       "      <td>0.0</td>\n",
       "      <td>0.0</td>\n",
       "      <td>1.0</td>\n",
       "      <td>0.0</td>\n",
       "    </tr>\n",
       "  </tbody>\n",
       "</table>\n",
       "<p>62679 rows × 26 columns</p>\n",
       "</div>"
      ],
      "text/plain": [
       "       num__previous_cancellations  num__booking_changes  \\\n",
       "0                              0.0                   2.0   \n",
       "1                              0.0                   0.0   \n",
       "2                              0.0                   0.0   \n",
       "3                              0.0                   0.0   \n",
       "4                              0.0                   0.0   \n",
       "...                            ...                   ...   \n",
       "62674                          0.0                   0.0   \n",
       "62675                          0.0                   0.0   \n",
       "62676                          1.0                   0.0   \n",
       "62677                          5.0                   0.0   \n",
       "62678                          0.0                   0.0   \n",
       "\n",
       "       num__days_in_waiting_list  num__required_car_parking_spaces  \\\n",
       "0                            0.0                               0.0   \n",
       "1                            0.0                               0.0   \n",
       "2                            0.0                               0.0   \n",
       "3                            0.0                               0.0   \n",
       "4                            0.0                               0.0   \n",
       "...                          ...                               ...   \n",
       "62674                        0.0                               0.0   \n",
       "62675                        0.0                               0.0   \n",
       "62676                        0.0                               0.0   \n",
       "62677                        0.0                               0.0   \n",
       "62678                        0.0                               0.0   \n",
       "\n",
       "       num__total_of_special_requests  binary__0_0  binary__0_1  binary__0_2  \\\n",
       "0                                 2.0          0.0          0.0          0.0   \n",
       "1                                 2.0          0.0          0.0          0.0   \n",
       "2                                 1.0          0.0          0.0          0.0   \n",
       "3                                 2.0          0.0          0.0          0.0   \n",
       "4                                 0.0          0.0          0.0          0.0   \n",
       "...                               ...          ...          ...          ...   \n",
       "62674                             0.0          0.0          0.0          0.0   \n",
       "62675                             0.0          0.0          0.0          0.0   \n",
       "62676                             0.0          0.0          0.0          0.0   \n",
       "62677                             3.0          0.0          0.0          0.0   \n",
       "62678                             1.0          0.0          0.0          0.0   \n",
       "\n",
       "       binary__0_3  binary__0_4  ...  binary__1_3  binary__2_0  binary__2_1  \\\n",
       "0              0.0          0.0  ...          1.0          0.0          0.0   \n",
       "1              0.0          0.0  ...          0.0          0.0          0.0   \n",
       "2              0.0          0.0  ...          1.0          0.0          0.0   \n",
       "3              0.0          0.0  ...          0.0          0.0          0.0   \n",
       "4              0.0          0.0  ...          1.0          0.0          0.0   \n",
       "...            ...          ...  ...          ...          ...          ...   \n",
       "62674          0.0          1.0  ...          0.0          0.0          0.0   \n",
       "62675          0.0          0.0  ...          1.0          0.0          1.0   \n",
       "62676          0.0          0.0  ...          1.0          0.0          0.0   \n",
       "62677          0.0          0.0  ...          1.0          0.0          1.0   \n",
       "62678          0.0          1.0  ...          1.0          0.0          0.0   \n",
       "\n",
       "       binary__2_2  binary__2_3  onehot__x0_Non Refund  onehot__x0_Refundable  \\\n",
       "0              0.0          1.0                    0.0                    0.0   \n",
       "1              1.0          0.0                    0.0                    0.0   \n",
       "2              0.0          1.0                    0.0                    0.0   \n",
       "3              0.0          1.0                    0.0                    0.0   \n",
       "4              1.0          1.0                    0.0                    0.0   \n",
       "...            ...          ...                    ...                    ...   \n",
       "62674          1.0          0.0                    0.0                    0.0   \n",
       "62675          0.0          0.0                    0.0                    0.0   \n",
       "62676          1.0          1.0                    1.0                    0.0   \n",
       "62677          1.0          1.0                    0.0                    0.0   \n",
       "62678          0.0          1.0                    0.0                    0.0   \n",
       "\n",
       "       onehot__x1_Group  onehot__x1_Transient  onehot__x1_Transient-Party  \n",
       "0                   0.0                   1.0                         0.0  \n",
       "1                   0.0                   1.0                         0.0  \n",
       "2                   0.0                   1.0                         0.0  \n",
       "3                   0.0                   1.0                         0.0  \n",
       "4                   0.0                   0.0                         1.0  \n",
       "...                 ...                   ...                         ...  \n",
       "62674               0.0                   1.0                         0.0  \n",
       "62675               0.0                   0.0                         1.0  \n",
       "62676               0.0                   1.0                         0.0  \n",
       "62677               0.0                   1.0                         0.0  \n",
       "62678               0.0                   1.0                         0.0  \n",
       "\n",
       "[62679 rows x 26 columns]"
      ]
     },
     "execution_count": 455,
     "metadata": {},
     "output_type": "execute_result"
    }
   ],
   "source": [
    "X_train_prep"
   ]
  },
  {
   "cell_type": "code",
   "execution_count": 456,
   "metadata": {},
   "outputs": [
    {
     "data": {
      "text/plain": [
       "num__previous_cancellations         0\n",
       "num__booking_changes                0\n",
       "num__days_in_waiting_list           0\n",
       "num__required_car_parking_spaces    0\n",
       "num__total_of_special_requests      0\n",
       "binary__0_0                         0\n",
       "binary__0_1                         0\n",
       "binary__0_2                         0\n",
       "binary__0_3                         0\n",
       "binary__0_4                         0\n",
       "binary__0_5                         0\n",
       "binary__0_6                         0\n",
       "binary__0_7                         0\n",
       "binary__1_0                         0\n",
       "binary__1_1                         0\n",
       "binary__1_2                         0\n",
       "binary__1_3                         0\n",
       "binary__2_0                         0\n",
       "binary__2_1                         0\n",
       "binary__2_2                         0\n",
       "binary__2_3                         0\n",
       "onehot__x0_Non Refund               0\n",
       "onehot__x0_Refundable               0\n",
       "onehot__x1_Group                    0\n",
       "onehot__x1_Transient                0\n",
       "onehot__x1_Transient-Party          0\n",
       "dtype: int64"
      ]
     },
     "execution_count": 456,
     "metadata": {},
     "output_type": "execute_result"
    }
   ],
   "source": [
    "X_train_prep.isna().sum()"
   ]
  },
  {
   "cell_type": "markdown",
   "metadata": {},
   "source": [
    "> ## *Feature Selection*\n"
   ]
  },
  {
   "cell_type": "markdown",
   "metadata": {},
   "source": [
    "### **Univariate Feature Selection**"
   ]
  },
  {
   "cell_type": "code",
   "execution_count": 457,
   "metadata": {},
   "outputs": [],
   "source": [
    "num_scaled = np.array(X_train_prep.columns)[:5]\n",
    "ctg_encoded = np.array(X_train_prep.columns)[5:]"
   ]
  },
  {
   "cell_type": "code",
   "execution_count": 458,
   "metadata": {},
   "outputs": [],
   "source": [
    "# Univariate\n",
    "num_selector = SelectKBest(score_func = f_classif, k = 3)\n",
    "ctg_selector = SelectKBest(score_func = mutual_info_classif, k=15)\n",
    "\n",
    "X_train_num_univa = num_selector.fit_transform(X_train_prep[num_scaled], y_train)\n",
    "X_test_num_univa = num_selector.transform(X_test_prep[num_scaled])\n",
    "\n",
    "X_train_ctg_univa = ctg_selector.fit_transform(X_train_prep[ctg_encoded], y_train)\n",
    "X_test_ctg_univa = ctg_selector.transform(X_test_prep[ctg_encoded])\n",
    "\n",
    "selected_cols = (num_scaled[num_selector.get_support().tolist()].tolist() \n",
    "                 + ctg_encoded[ctg_selector.get_support().tolist()].tolist())\n",
    "\n",
    "X_train_selected_univa = np.concatenate([X_train_num_univa, X_train_ctg_univa], axis=1)\n",
    "X_test_selected_univa = np.concatenate([X_test_num_univa, X_test_ctg_univa], axis=1)\n",
    "\n",
    "X_train_selected_univa = pd.DataFrame( data=X_train_selected_univa, columns=selected_cols)\n",
    "X_test_selected_univa = pd.DataFrame( data=X_test_selected_univa, columns=selected_cols)"
   ]
  },
  {
   "cell_type": "code",
   "execution_count": 459,
   "metadata": {},
   "outputs": [
    {
     "data": {
      "text/html": [
       "<div>\n",
       "<style scoped>\n",
       "    .dataframe tbody tr th:only-of-type {\n",
       "        vertical-align: middle;\n",
       "    }\n",
       "\n",
       "    .dataframe tbody tr th {\n",
       "        vertical-align: top;\n",
       "    }\n",
       "\n",
       "    .dataframe thead th {\n",
       "        text-align: right;\n",
       "    }\n",
       "</style>\n",
       "<table border=\"1\" class=\"dataframe\">\n",
       "  <thead>\n",
       "    <tr style=\"text-align: right;\">\n",
       "      <th></th>\n",
       "      <th>num__booking_changes</th>\n",
       "      <th>num__required_car_parking_spaces</th>\n",
       "      <th>num__total_of_special_requests</th>\n",
       "      <th>binary__0_3</th>\n",
       "      <th>binary__0_4</th>\n",
       "      <th>binary__0_5</th>\n",
       "      <th>binary__0_6</th>\n",
       "      <th>binary__0_7</th>\n",
       "      <th>binary__1_1</th>\n",
       "      <th>binary__1_2</th>\n",
       "      <th>binary__1_3</th>\n",
       "      <th>binary__2_0</th>\n",
       "      <th>binary__2_1</th>\n",
       "      <th>binary__2_2</th>\n",
       "      <th>binary__2_3</th>\n",
       "      <th>onehot__x0_Non Refund</th>\n",
       "      <th>onehot__x1_Transient</th>\n",
       "      <th>onehot__x1_Transient-Party</th>\n",
       "    </tr>\n",
       "  </thead>\n",
       "  <tbody>\n",
       "    <tr>\n",
       "      <th>0</th>\n",
       "      <td>2.0</td>\n",
       "      <td>0.0</td>\n",
       "      <td>2.0</td>\n",
       "      <td>0.0</td>\n",
       "      <td>0.0</td>\n",
       "      <td>0.0</td>\n",
       "      <td>0.0</td>\n",
       "      <td>1.0</td>\n",
       "      <td>0.0</td>\n",
       "      <td>0.0</td>\n",
       "      <td>1.0</td>\n",
       "      <td>0.0</td>\n",
       "      <td>0.0</td>\n",
       "      <td>0.0</td>\n",
       "      <td>1.0</td>\n",
       "      <td>0.0</td>\n",
       "      <td>1.0</td>\n",
       "      <td>0.0</td>\n",
       "    </tr>\n",
       "    <tr>\n",
       "      <th>1</th>\n",
       "      <td>0.0</td>\n",
       "      <td>0.0</td>\n",
       "      <td>2.0</td>\n",
       "      <td>0.0</td>\n",
       "      <td>0.0</td>\n",
       "      <td>0.0</td>\n",
       "      <td>1.0</td>\n",
       "      <td>0.0</td>\n",
       "      <td>0.0</td>\n",
       "      <td>1.0</td>\n",
       "      <td>0.0</td>\n",
       "      <td>0.0</td>\n",
       "      <td>0.0</td>\n",
       "      <td>1.0</td>\n",
       "      <td>0.0</td>\n",
       "      <td>0.0</td>\n",
       "      <td>1.0</td>\n",
       "      <td>0.0</td>\n",
       "    </tr>\n",
       "    <tr>\n",
       "      <th>2</th>\n",
       "      <td>0.0</td>\n",
       "      <td>0.0</td>\n",
       "      <td>1.0</td>\n",
       "      <td>0.0</td>\n",
       "      <td>0.0</td>\n",
       "      <td>0.0</td>\n",
       "      <td>1.0</td>\n",
       "      <td>1.0</td>\n",
       "      <td>0.0</td>\n",
       "      <td>1.0</td>\n",
       "      <td>1.0</td>\n",
       "      <td>0.0</td>\n",
       "      <td>0.0</td>\n",
       "      <td>0.0</td>\n",
       "      <td>1.0</td>\n",
       "      <td>0.0</td>\n",
       "      <td>1.0</td>\n",
       "      <td>0.0</td>\n",
       "    </tr>\n",
       "    <tr>\n",
       "      <th>3</th>\n",
       "      <td>0.0</td>\n",
       "      <td>0.0</td>\n",
       "      <td>2.0</td>\n",
       "      <td>0.0</td>\n",
       "      <td>0.0</td>\n",
       "      <td>1.0</td>\n",
       "      <td>0.0</td>\n",
       "      <td>0.0</td>\n",
       "      <td>1.0</td>\n",
       "      <td>0.0</td>\n",
       "      <td>0.0</td>\n",
       "      <td>0.0</td>\n",
       "      <td>0.0</td>\n",
       "      <td>0.0</td>\n",
       "      <td>1.0</td>\n",
       "      <td>0.0</td>\n",
       "      <td>1.0</td>\n",
       "      <td>0.0</td>\n",
       "    </tr>\n",
       "    <tr>\n",
       "      <th>4</th>\n",
       "      <td>0.0</td>\n",
       "      <td>0.0</td>\n",
       "      <td>0.0</td>\n",
       "      <td>0.0</td>\n",
       "      <td>0.0</td>\n",
       "      <td>1.0</td>\n",
       "      <td>0.0</td>\n",
       "      <td>0.0</td>\n",
       "      <td>0.0</td>\n",
       "      <td>1.0</td>\n",
       "      <td>1.0</td>\n",
       "      <td>0.0</td>\n",
       "      <td>0.0</td>\n",
       "      <td>1.0</td>\n",
       "      <td>1.0</td>\n",
       "      <td>0.0</td>\n",
       "      <td>0.0</td>\n",
       "      <td>1.0</td>\n",
       "    </tr>\n",
       "    <tr>\n",
       "      <th>...</th>\n",
       "      <td>...</td>\n",
       "      <td>...</td>\n",
       "      <td>...</td>\n",
       "      <td>...</td>\n",
       "      <td>...</td>\n",
       "      <td>...</td>\n",
       "      <td>...</td>\n",
       "      <td>...</td>\n",
       "      <td>...</td>\n",
       "      <td>...</td>\n",
       "      <td>...</td>\n",
       "      <td>...</td>\n",
       "      <td>...</td>\n",
       "      <td>...</td>\n",
       "      <td>...</td>\n",
       "      <td>...</td>\n",
       "      <td>...</td>\n",
       "      <td>...</td>\n",
       "    </tr>\n",
       "    <tr>\n",
       "      <th>62674</th>\n",
       "      <td>0.0</td>\n",
       "      <td>0.0</td>\n",
       "      <td>0.0</td>\n",
       "      <td>0.0</td>\n",
       "      <td>1.0</td>\n",
       "      <td>0.0</td>\n",
       "      <td>0.0</td>\n",
       "      <td>1.0</td>\n",
       "      <td>1.0</td>\n",
       "      <td>0.0</td>\n",
       "      <td>0.0</td>\n",
       "      <td>0.0</td>\n",
       "      <td>0.0</td>\n",
       "      <td>1.0</td>\n",
       "      <td>0.0</td>\n",
       "      <td>0.0</td>\n",
       "      <td>1.0</td>\n",
       "      <td>0.0</td>\n",
       "    </tr>\n",
       "    <tr>\n",
       "      <th>62675</th>\n",
       "      <td>0.0</td>\n",
       "      <td>0.0</td>\n",
       "      <td>0.0</td>\n",
       "      <td>0.0</td>\n",
       "      <td>0.0</td>\n",
       "      <td>0.0</td>\n",
       "      <td>0.0</td>\n",
       "      <td>1.0</td>\n",
       "      <td>0.0</td>\n",
       "      <td>1.0</td>\n",
       "      <td>1.0</td>\n",
       "      <td>0.0</td>\n",
       "      <td>1.0</td>\n",
       "      <td>0.0</td>\n",
       "      <td>0.0</td>\n",
       "      <td>0.0</td>\n",
       "      <td>0.0</td>\n",
       "      <td>1.0</td>\n",
       "    </tr>\n",
       "    <tr>\n",
       "      <th>62676</th>\n",
       "      <td>0.0</td>\n",
       "      <td>0.0</td>\n",
       "      <td>0.0</td>\n",
       "      <td>0.0</td>\n",
       "      <td>0.0</td>\n",
       "      <td>0.0</td>\n",
       "      <td>0.0</td>\n",
       "      <td>1.0</td>\n",
       "      <td>0.0</td>\n",
       "      <td>1.0</td>\n",
       "      <td>1.0</td>\n",
       "      <td>0.0</td>\n",
       "      <td>0.0</td>\n",
       "      <td>1.0</td>\n",
       "      <td>1.0</td>\n",
       "      <td>1.0</td>\n",
       "      <td>1.0</td>\n",
       "      <td>0.0</td>\n",
       "    </tr>\n",
       "    <tr>\n",
       "      <th>62677</th>\n",
       "      <td>0.0</td>\n",
       "      <td>0.0</td>\n",
       "      <td>3.0</td>\n",
       "      <td>0.0</td>\n",
       "      <td>0.0</td>\n",
       "      <td>0.0</td>\n",
       "      <td>0.0</td>\n",
       "      <td>1.0</td>\n",
       "      <td>0.0</td>\n",
       "      <td>1.0</td>\n",
       "      <td>1.0</td>\n",
       "      <td>0.0</td>\n",
       "      <td>1.0</td>\n",
       "      <td>1.0</td>\n",
       "      <td>1.0</td>\n",
       "      <td>0.0</td>\n",
       "      <td>1.0</td>\n",
       "      <td>0.0</td>\n",
       "    </tr>\n",
       "    <tr>\n",
       "      <th>62678</th>\n",
       "      <td>0.0</td>\n",
       "      <td>0.0</td>\n",
       "      <td>1.0</td>\n",
       "      <td>0.0</td>\n",
       "      <td>1.0</td>\n",
       "      <td>0.0</td>\n",
       "      <td>0.0</td>\n",
       "      <td>1.0</td>\n",
       "      <td>0.0</td>\n",
       "      <td>1.0</td>\n",
       "      <td>1.0</td>\n",
       "      <td>0.0</td>\n",
       "      <td>0.0</td>\n",
       "      <td>0.0</td>\n",
       "      <td>1.0</td>\n",
       "      <td>0.0</td>\n",
       "      <td>1.0</td>\n",
       "      <td>0.0</td>\n",
       "    </tr>\n",
       "  </tbody>\n",
       "</table>\n",
       "<p>62679 rows × 18 columns</p>\n",
       "</div>"
      ],
      "text/plain": [
       "       num__booking_changes  num__required_car_parking_spaces  \\\n",
       "0                       2.0                               0.0   \n",
       "1                       0.0                               0.0   \n",
       "2                       0.0                               0.0   \n",
       "3                       0.0                               0.0   \n",
       "4                       0.0                               0.0   \n",
       "...                     ...                               ...   \n",
       "62674                   0.0                               0.0   \n",
       "62675                   0.0                               0.0   \n",
       "62676                   0.0                               0.0   \n",
       "62677                   0.0                               0.0   \n",
       "62678                   0.0                               0.0   \n",
       "\n",
       "       num__total_of_special_requests  binary__0_3  binary__0_4  binary__0_5  \\\n",
       "0                                 2.0          0.0          0.0          0.0   \n",
       "1                                 2.0          0.0          0.0          0.0   \n",
       "2                                 1.0          0.0          0.0          0.0   \n",
       "3                                 2.0          0.0          0.0          1.0   \n",
       "4                                 0.0          0.0          0.0          1.0   \n",
       "...                               ...          ...          ...          ...   \n",
       "62674                             0.0          0.0          1.0          0.0   \n",
       "62675                             0.0          0.0          0.0          0.0   \n",
       "62676                             0.0          0.0          0.0          0.0   \n",
       "62677                             3.0          0.0          0.0          0.0   \n",
       "62678                             1.0          0.0          1.0          0.0   \n",
       "\n",
       "       binary__0_6  binary__0_7  binary__1_1  binary__1_2  binary__1_3  \\\n",
       "0              0.0          1.0          0.0          0.0          1.0   \n",
       "1              1.0          0.0          0.0          1.0          0.0   \n",
       "2              1.0          1.0          0.0          1.0          1.0   \n",
       "3              0.0          0.0          1.0          0.0          0.0   \n",
       "4              0.0          0.0          0.0          1.0          1.0   \n",
       "...            ...          ...          ...          ...          ...   \n",
       "62674          0.0          1.0          1.0          0.0          0.0   \n",
       "62675          0.0          1.0          0.0          1.0          1.0   \n",
       "62676          0.0          1.0          0.0          1.0          1.0   \n",
       "62677          0.0          1.0          0.0          1.0          1.0   \n",
       "62678          0.0          1.0          0.0          1.0          1.0   \n",
       "\n",
       "       binary__2_0  binary__2_1  binary__2_2  binary__2_3  \\\n",
       "0              0.0          0.0          0.0          1.0   \n",
       "1              0.0          0.0          1.0          0.0   \n",
       "2              0.0          0.0          0.0          1.0   \n",
       "3              0.0          0.0          0.0          1.0   \n",
       "4              0.0          0.0          1.0          1.0   \n",
       "...            ...          ...          ...          ...   \n",
       "62674          0.0          0.0          1.0          0.0   \n",
       "62675          0.0          1.0          0.0          0.0   \n",
       "62676          0.0          0.0          1.0          1.0   \n",
       "62677          0.0          1.0          1.0          1.0   \n",
       "62678          0.0          0.0          0.0          1.0   \n",
       "\n",
       "       onehot__x0_Non Refund  onehot__x1_Transient  onehot__x1_Transient-Party  \n",
       "0                        0.0                   1.0                         0.0  \n",
       "1                        0.0                   1.0                         0.0  \n",
       "2                        0.0                   1.0                         0.0  \n",
       "3                        0.0                   1.0                         0.0  \n",
       "4                        0.0                   0.0                         1.0  \n",
       "...                      ...                   ...                         ...  \n",
       "62674                    0.0                   1.0                         0.0  \n",
       "62675                    0.0                   0.0                         1.0  \n",
       "62676                    1.0                   1.0                         0.0  \n",
       "62677                    0.0                   1.0                         0.0  \n",
       "62678                    0.0                   1.0                         0.0  \n",
       "\n",
       "[62679 rows x 18 columns]"
      ]
     },
     "execution_count": 459,
     "metadata": {},
     "output_type": "execute_result"
    }
   ],
   "source": [
    "X_train_selected_univa"
   ]
  },
  {
   "cell_type": "code",
   "execution_count": 460,
   "metadata": {},
   "outputs": [
    {
     "data": {
      "text/plain": [
       "0.7657110036854449"
      ]
     },
     "execution_count": 460,
     "metadata": {},
     "output_type": "execute_result"
    }
   ],
   "source": [
    "log_reg = LogisticRegression(random_state=89, penalty='none', max_iter=1000)\n",
    "log_reg.fit(X_train_selected_univa, y_train)\n",
    "log_reg.score(X_train_selected_univa, y_train)"
   ]
  },
  {
   "cell_type": "code",
   "execution_count": 461,
   "metadata": {},
   "outputs": [
    {
     "data": {
      "text/plain": [
       "0.7671101751699052"
      ]
     },
     "execution_count": 461,
     "metadata": {},
     "output_type": "execute_result"
    }
   ],
   "source": [
    "log_reg.score(X_test_selected_univa, y_test)"
   ]
  },
  {
   "cell_type": "markdown",
   "metadata": {},
   "source": [
    "### **SelectFrom Model**"
   ]
  },
  {
   "cell_type": "code",
   "execution_count": 462,
   "metadata": {},
   "outputs": [
    {
     "data": {
      "text/html": [
       "<style>#sk-container-id-11 {color: black;background-color: white;}#sk-container-id-11 pre{padding: 0;}#sk-container-id-11 div.sk-toggleable {background-color: white;}#sk-container-id-11 label.sk-toggleable__label {cursor: pointer;display: block;width: 100%;margin-bottom: 0;padding: 0.3em;box-sizing: border-box;text-align: center;}#sk-container-id-11 label.sk-toggleable__label-arrow:before {content: \"▸\";float: left;margin-right: 0.25em;color: #696969;}#sk-container-id-11 label.sk-toggleable__label-arrow:hover:before {color: black;}#sk-container-id-11 div.sk-estimator:hover label.sk-toggleable__label-arrow:before {color: black;}#sk-container-id-11 div.sk-toggleable__content {max-height: 0;max-width: 0;overflow: hidden;text-align: left;background-color: #f0f8ff;}#sk-container-id-11 div.sk-toggleable__content pre {margin: 0.2em;color: black;border-radius: 0.25em;background-color: #f0f8ff;}#sk-container-id-11 input.sk-toggleable__control:checked~div.sk-toggleable__content {max-height: 200px;max-width: 100%;overflow: auto;}#sk-container-id-11 input.sk-toggleable__control:checked~label.sk-toggleable__label-arrow:before {content: \"▾\";}#sk-container-id-11 div.sk-estimator input.sk-toggleable__control:checked~label.sk-toggleable__label {background-color: #d4ebff;}#sk-container-id-11 div.sk-label input.sk-toggleable__control:checked~label.sk-toggleable__label {background-color: #d4ebff;}#sk-container-id-11 input.sk-hidden--visually {border: 0;clip: rect(1px 1px 1px 1px);clip: rect(1px, 1px, 1px, 1px);height: 1px;margin: -1px;overflow: hidden;padding: 0;position: absolute;width: 1px;}#sk-container-id-11 div.sk-estimator {font-family: monospace;background-color: #f0f8ff;border: 1px dotted black;border-radius: 0.25em;box-sizing: border-box;margin-bottom: 0.5em;}#sk-container-id-11 div.sk-estimator:hover {background-color: #d4ebff;}#sk-container-id-11 div.sk-parallel-item::after {content: \"\";width: 100%;border-bottom: 1px solid gray;flex-grow: 1;}#sk-container-id-11 div.sk-label:hover label.sk-toggleable__label {background-color: #d4ebff;}#sk-container-id-11 div.sk-serial::before {content: \"\";position: absolute;border-left: 1px solid gray;box-sizing: border-box;top: 0;bottom: 0;left: 50%;z-index: 0;}#sk-container-id-11 div.sk-serial {display: flex;flex-direction: column;align-items: center;background-color: white;padding-right: 0.2em;padding-left: 0.2em;position: relative;}#sk-container-id-11 div.sk-item {position: relative;z-index: 1;}#sk-container-id-11 div.sk-parallel {display: flex;align-items: stretch;justify-content: center;background-color: white;position: relative;}#sk-container-id-11 div.sk-item::before, #sk-container-id-11 div.sk-parallel-item::before {content: \"\";position: absolute;border-left: 1px solid gray;box-sizing: border-box;top: 0;bottom: 0;left: 50%;z-index: -1;}#sk-container-id-11 div.sk-parallel-item {display: flex;flex-direction: column;z-index: 1;position: relative;background-color: white;}#sk-container-id-11 div.sk-parallel-item:first-child::after {align-self: flex-end;width: 50%;}#sk-container-id-11 div.sk-parallel-item:last-child::after {align-self: flex-start;width: 50%;}#sk-container-id-11 div.sk-parallel-item:only-child::after {width: 0;}#sk-container-id-11 div.sk-dashed-wrapped {border: 1px dashed gray;margin: 0 0.4em 0.5em 0.4em;box-sizing: border-box;padding-bottom: 0.4em;background-color: white;}#sk-container-id-11 div.sk-label label {font-family: monospace;font-weight: bold;display: inline-block;line-height: 1.2em;}#sk-container-id-11 div.sk-label-container {text-align: center;}#sk-container-id-11 div.sk-container {/* jupyter's `normalize.less` sets `[hidden] { display: none; }` but bootstrap.min.css set `[hidden] { display: none !important; }` so we also need the `!important` here to be able to override the default hidden behavior on the sphinx rendered scikit-learn.org. See: https://github.com/scikit-learn/scikit-learn/issues/21755 */display: inline-block !important;position: relative;}#sk-container-id-11 div.sk-text-repr-fallback {display: none;}</style><div id=\"sk-container-id-11\" class=\"sk-top-container\"><div class=\"sk-text-repr-fallback\"><pre>LogisticRegression(max_iter=1000, penalty=&#x27;none&#x27;, random_state=89)</pre><b>In a Jupyter environment, please rerun this cell to show the HTML representation or trust the notebook. <br />On GitHub, the HTML representation is unable to render, please try loading this page with nbviewer.org.</b></div><div class=\"sk-container\" hidden><div class=\"sk-item\"><div class=\"sk-estimator sk-toggleable\"><input class=\"sk-toggleable__control sk-hidden--visually\" id=\"sk-estimator-id-17\" type=\"checkbox\" checked><label for=\"sk-estimator-id-17\" class=\"sk-toggleable__label sk-toggleable__label-arrow\">LogisticRegression</label><div class=\"sk-toggleable__content\"><pre>LogisticRegression(max_iter=1000, penalty=&#x27;none&#x27;, random_state=89)</pre></div></div></div></div></div>"
      ],
      "text/plain": [
       "LogisticRegression(max_iter=1000, penalty='none', random_state=89)"
      ]
     },
     "execution_count": 462,
     "metadata": {},
     "output_type": "execute_result"
    }
   ],
   "source": [
    "# model_based\n",
    "# approach 1: without SelectFromModel\n",
    "log_reg = LogisticRegression(random_state=89, penalty='none', max_iter=1000)\n",
    "log_reg.fit(X_train_prep, y_train)\n"
   ]
  },
  {
   "cell_type": "code",
   "execution_count": 463,
   "metadata": {},
   "outputs": [
    {
     "data": {
      "text/plain": [
       "0.7805644633768886"
      ]
     },
     "execution_count": 463,
     "metadata": {},
     "output_type": "execute_result"
    }
   ],
   "source": [
    "log_reg.score(X_train_prep, y_train)"
   ]
  },
  {
   "cell_type": "code",
   "execution_count": 464,
   "metadata": {},
   "outputs": [
    {
     "data": {
      "text/plain": [
       "<AxesSubplot:xlabel='coef', ylabel='col_name'>"
      ]
     },
     "execution_count": 464,
     "metadata": {},
     "output_type": "execute_result"
    },
    {
     "data": {
      "image/png": "[encoded data removed]",
      "text/plain": [
       "<Figure size 864x576 with 1 Axes>"
      ]
     },
     "metadata": {},
     "output_type": "display_data"
    }
   ],
   "source": [
    "df_coef = pd.DataFrame({\n",
    "    'col_name': X_train_prep.columns,\n",
    "    'coef': (log_reg.coef_[0, :]),\n",
    "})\n",
    "plt.figure(figsize=(12,8))\n",
    "sns.barplot(x='coef', y='col_name', data=df_coef.sort_values(by='coef', ascending=False))"
   ]
  },
  {
   "cell_type": "code",
   "execution_count": 466,
   "metadata": {},
   "outputs": [],
   "source": [
    "# approach 2: SelectFromModel\n",
    "log_reg_selector = SelectFromModel(\n",
    "    LogisticRegression(random_state=89, penalty='none', max_iter=1000),\n",
    "    max_features=20\n",
    ")\n",
    "\n",
    "dt_selector = SelectFromModel(\n",
    "    DecisionTreeClassifier(random_state=89),\n",
    "    max_features=15\n",
    ")\n",
    "\n",
    "X_train_selected_logreg = log_reg_selector.fit_transform(X_train_prep, y_train)\n",
    "X_test_selected_logreg = log_reg_selector.transform(X_test_prep)\n",
    "\n",
    "X_train_selected_dt = dt_selector.fit_transform(X_train_prep, y_train)\n",
    "X_test_selected_dt = dt_selector.transform(X_test_prep)"
   ]
  },
  {
   "cell_type": "code",
   "execution_count": 467,
   "metadata": {},
   "outputs": [
    {
     "data": {
      "text/plain": [
       "array(['num__previous_cancellations', 'num__required_car_parking_spaces',\n",
       "       'binary__2_1', 'binary__2_2', 'onehot__x0_Non Refund'],\n",
       "      dtype=object)"
      ]
     },
     "execution_count": 467,
     "metadata": {},
     "output_type": "execute_result"
    }
   ],
   "source": [
    "log_reg_selector.get_feature_names_out()"
   ]
  },
  {
   "cell_type": "code",
   "execution_count": 468,
   "metadata": {},
   "outputs": [
    {
     "data": {
      "text/plain": [
       "array(['num__previous_cancellations', 'num__required_car_parking_spaces',\n",
       "       'num__total_of_special_requests', 'binary__0_5', 'binary__2_1',\n",
       "       'binary__2_2', 'onehot__x0_Non Refund', 'onehot__x1_Transient'],\n",
       "      dtype=object)"
      ]
     },
     "execution_count": 468,
     "metadata": {},
     "output_type": "execute_result"
    }
   ],
   "source": [
    "dt_selector.get_feature_names_out()"
   ]
  },
  {
   "cell_type": "markdown",
   "metadata": {},
   "source": [
    "### **Iterative Feature Selection (RFE)**"
   ]
  },
  {
   "cell_type": "code",
   "execution_count": 469,
   "metadata": {},
   "outputs": [],
   "source": [
    "# iterative feature selection (RFE)\n",
    "rfe_selector = RFE(\n",
    "    LogisticRegression(random_state=89, penalty='none', max_iter=1000),\n",
    "    n_features_to_select=20)\n",
    "\n",
    "X_train_selected_rfe = rfe_selector.fit_transform(X_train_prep, y_train)\n",
    "X_test_selected_rfe = rfe_selector.transform(X_test_prep)"
   ]
  },
  {
   "cell_type": "code",
   "execution_count": 470,
   "metadata": {},
   "outputs": [
    {
     "data": {
      "text/plain": [
       "array(['num__previous_cancellations', 'num__booking_changes',\n",
       "       'num__required_car_parking_spaces',\n",
       "       'num__total_of_special_requests', 'binary__0_0', 'binary__0_2',\n",
       "       'binary__0_3', 'binary__0_4', 'binary__0_5', 'binary__0_6',\n",
       "       'binary__1_0', 'binary__1_2', 'binary__2_0', 'binary__2_1',\n",
       "       'binary__2_2', 'binary__2_3', 'onehot__x0_Non Refund',\n",
       "       'onehot__x1_Group', 'onehot__x1_Transient',\n",
       "       'onehot__x1_Transient-Party'], dtype=object)"
      ]
     },
     "execution_count": 470,
     "metadata": {},
     "output_type": "execute_result"
    }
   ],
   "source": [
    "rfe_selector.get_feature_names_out()"
   ]
  },
  {
   "cell_type": "markdown",
   "metadata": {},
   "source": [
    "# 4. **MODEL TRAINING**\n",
    "\n",
    "For feature selection, we choose RFE method as it gives higher score than other approaches."
   ]
  },
  {
   "cell_type": "code",
   "execution_count": 471,
   "metadata": {},
   "outputs": [
    {
     "name": "stdout",
     "output_type": "stream",
     "text": [
      "0.7657110036854449\n",
      "0.7660460441296127\n",
      "0.7836276902949951\n"
     ]
    }
   ],
   "source": [
    "log_reg = LogisticRegression(random_state=89, penalty='none', max_iter=1000)\n",
    "\n",
    "for X_features in [X_train_selected_univa, X_train_selected_logreg, X_train_selected_rfe]:\n",
    "    log_reg.fit(X_features, y_train)\n",
    "    print(log_reg.score(X_features, y_train))"
   ]
  },
  {
   "cell_type": "code",
   "execution_count": 472,
   "metadata": {},
   "outputs": [
    {
     "data": {
      "text/plain": [
       "0.7829520436488944"
      ]
     },
     "execution_count": 472,
     "metadata": {},
     "output_type": "execute_result"
    }
   ],
   "source": [
    "dt = DecisionTreeClassifier(max_depth=5, random_state=89)\n",
    "dt.fit(X_train_prep, y_train)\n",
    "dt.score(X_test_prep, y_test)"
   ]
  },
  {
   "cell_type": "code",
   "execution_count": 473,
   "metadata": {},
   "outputs": [
    {
     "data": {
      "text/plain": [
       "0.7833086041576923"
      ]
     },
     "execution_count": 473,
     "metadata": {},
     "output_type": "execute_result"
    }
   ],
   "source": [
    "dt.score(X_train_prep, y_train)"
   ]
  },
  {
   "cell_type": "markdown",
   "metadata": {},
   "source": [
    "**Summary**  \n",
    "\n",
    "After we tried several methods of feature selections, the highest score is RFE method. Therefore, we will use this X_train_selected_rfe afterward. "
   ]
  },
  {
   "cell_type": "markdown",
   "metadata": {},
   "source": [
    "# 5. **MODEL SELECTION**"
   ]
  },
  {
   "cell_type": "markdown",
   "metadata": {},
   "source": [
    "> ## *Logistic Regression*"
   ]
  },
  {
   "cell_type": "code",
   "execution_count": 474,
   "metadata": {},
   "outputs": [
    {
     "name": "stdout",
     "output_type": "stream",
     "text": [
      "Accuracy Score of Logistic Regression is: 0.7844357231741169\n",
      "Confusion Matrix of Logistic Regression is: \n",
      "[[11927  1272]\n",
      " [ 3232  4463]]\n",
      "Classification Report of Logistic Regression is: \n",
      "              precision    recall  f1-score   support\n",
      "\n",
      "           0       0.79      0.90      0.84     13199\n",
      "           1       0.78      0.58      0.66      7695\n",
      "\n",
      "    accuracy                           0.78     20894\n",
      "   macro avg       0.78      0.74      0.75     20894\n",
      "weighted avg       0.78      0.78      0.78     20894\n",
      "\n"
     ]
    }
   ],
   "source": [
    "log_reg = LogisticRegression()\n",
    "log_reg.fit(X_train_selected_rfe, y_train)\n",
    "\n",
    "logreg_y_pred = log_reg.predict(X_test_selected_rfe)\n",
    "\n",
    "accuracy_logreg = accuracy_score(y_test, logreg_y_pred)\n",
    "conf_logreg = confusion_matrix(y_test, logreg_y_pred)\n",
    "classif_report_logreg = classification_report(y_test, logreg_y_pred)\n",
    "\n",
    "print(f\"Accuracy Score of Logistic Regression is: {accuracy_logreg}\")\n",
    "print(f\"Confusion Matrix of Logistic Regression is: \\n{conf_logreg}\")\n",
    "print(f\"Classification Report of Logistic Regression is: \\n{classif_report_logreg}\")"
   ]
  },
  {
   "cell_type": "code",
   "execution_count": 475,
   "metadata": {},
   "outputs": [
    {
     "data": {
      "image/png": "[encoded data removed]",
      "text/plain": [
       "<Figure size 432x288 with 2 Axes>"
      ]
     },
     "metadata": {},
     "output_type": "display_data"
    }
   ],
   "source": [
    "ConfusionMatrixDisplay(conf_logreg, display_labels=np.array(['Not Cancelled', 'Cancelled'])).plot();"
   ]
  },
  {
   "cell_type": "code",
   "execution_count": 476,
   "metadata": {},
   "outputs": [
    {
     "data": {
      "text/plain": [
       "array([0.78310466, 0.78661455, 0.78342374, 0.78150925, 0.78284803])"
      ]
     },
     "execution_count": 476,
     "metadata": {},
     "output_type": "execute_result"
    }
   ],
   "source": [
    "cross_val_score(\n",
    "    log_reg,\n",
    "    X_train_selected_rfe, y_train,\n",
    "    scoring='accuracy',\n",
    "    cv=5\n",
    ")"
   ]
  },
  {
   "cell_type": "code",
   "execution_count": 477,
   "metadata": {},
   "outputs": [],
   "source": [
    "y_train_proba = log_reg.predict_proba(X_train_selected_rfe)\n",
    "pr_curve_raw = precision_recall_curve(y_train, y_train_proba[:, 1])"
   ]
  },
  {
   "cell_type": "code",
   "execution_count": 478,
   "metadata": {},
   "outputs": [
    {
     "data": {
      "text/plain": [
       "array([1.13610590e-22, 2.29225423e-22, 4.54695345e-09, ...,\n",
       "       1.00000000e+00, 1.00000000e+00, 1.00000000e+00])"
      ]
     },
     "execution_count": 478,
     "metadata": {},
     "output_type": "execute_result"
    }
   ],
   "source": [
    "pr_curve_raw[2]"
   ]
  },
  {
   "cell_type": "code",
   "execution_count": 479,
   "metadata": {},
   "outputs": [],
   "source": [
    "df_pr_curve = pd.DataFrame({\n",
    "    'precision': pr_curve_raw[0][:-1],\n",
    "    'recall': pr_curve_raw[1][:-1],\n",
    "    'threshold': pr_curve_raw[2],\n",
    "})\n",
    "\n",
    "used_threshold = df_pr_curve[df_pr_curve['precision'] >= 0.8].iloc[0]['threshold']"
   ]
  },
  {
   "cell_type": "code",
   "execution_count": 480,
   "metadata": {},
   "outputs": [
    {
     "data": {
      "text/plain": [
       "array([0.25177462, 0.10729962, 0.47897416, ..., 0.99710912, 0.87065759,\n",
       "       0.42888177])"
      ]
     },
     "execution_count": 480,
     "metadata": {},
     "output_type": "execute_result"
    }
   ],
   "source": [
    "y_train_proba[:, 1]"
   ]
  },
  {
   "cell_type": "code",
   "execution_count": 481,
   "metadata": {},
   "outputs": [
    {
     "data": {
      "image/png": "[encoded data removed]",
      "text/plain": [
       "<Figure size 432x288 with 1 Axes>"
      ]
     },
     "metadata": {},
     "output_type": "display_data"
    }
   ],
   "source": [
    "PrecisionRecallDisplay(pr_curve_raw[0], pr_curve_raw[1]).plot()\n",
    "plt.axhline(0.8, ls=':');"
   ]
  },
  {
   "cell_type": "code",
   "execution_count": 482,
   "metadata": {},
   "outputs": [
    {
     "data": {
      "text/html": [
       "<div>\n",
       "<style scoped>\n",
       "    .dataframe tbody tr th:only-of-type {\n",
       "        vertical-align: middle;\n",
       "    }\n",
       "\n",
       "    .dataframe tbody tr th {\n",
       "        vertical-align: top;\n",
       "    }\n",
       "\n",
       "    .dataframe thead th {\n",
       "        text-align: right;\n",
       "    }\n",
       "</style>\n",
       "<table border=\"1\" class=\"dataframe\">\n",
       "  <thead>\n",
       "    <tr style=\"text-align: right;\">\n",
       "      <th></th>\n",
       "      <th>fpr</th>\n",
       "      <th>tpr</th>\n",
       "      <th>threshold</th>\n",
       "    </tr>\n",
       "  </thead>\n",
       "  <tbody>\n",
       "    <tr>\n",
       "      <th>0</th>\n",
       "      <td>0.000000</td>\n",
       "      <td>0.000000</td>\n",
       "      <td>2.000000e+00</td>\n",
       "    </tr>\n",
       "    <tr>\n",
       "      <th>1</th>\n",
       "      <td>0.000000</td>\n",
       "      <td>0.001690</td>\n",
       "      <td>1.000000e+00</td>\n",
       "    </tr>\n",
       "    <tr>\n",
       "      <th>2</th>\n",
       "      <td>0.000000</td>\n",
       "      <td>0.002209</td>\n",
       "      <td>1.000000e+00</td>\n",
       "    </tr>\n",
       "    <tr>\n",
       "      <th>3</th>\n",
       "      <td>0.000000</td>\n",
       "      <td>0.002686</td>\n",
       "      <td>1.000000e+00</td>\n",
       "    </tr>\n",
       "    <tr>\n",
       "      <th>4</th>\n",
       "      <td>0.000000</td>\n",
       "      <td>0.002729</td>\n",
       "      <td>1.000000e+00</td>\n",
       "    </tr>\n",
       "    <tr>\n",
       "      <th>...</th>\n",
       "      <td>...</td>\n",
       "      <td>...</td>\n",
       "      <td>...</td>\n",
       "    </tr>\n",
       "    <tr>\n",
       "      <th>3455</th>\n",
       "      <td>0.998939</td>\n",
       "      <td>1.000000</td>\n",
       "      <td>4.097763e-05</td>\n",
       "    </tr>\n",
       "    <tr>\n",
       "      <th>3456</th>\n",
       "      <td>0.998990</td>\n",
       "      <td>1.000000</td>\n",
       "      <td>4.035255e-05</td>\n",
       "    </tr>\n",
       "    <tr>\n",
       "      <th>3457</th>\n",
       "      <td>0.999116</td>\n",
       "      <td>1.000000</td>\n",
       "      <td>2.901115e-05</td>\n",
       "    </tr>\n",
       "    <tr>\n",
       "      <th>3458</th>\n",
       "      <td>0.999167</td>\n",
       "      <td>1.000000</td>\n",
       "      <td>2.885850e-05</td>\n",
       "    </tr>\n",
       "    <tr>\n",
       "      <th>3459</th>\n",
       "      <td>1.000000</td>\n",
       "      <td>1.000000</td>\n",
       "      <td>1.136106e-22</td>\n",
       "    </tr>\n",
       "  </tbody>\n",
       "</table>\n",
       "<p>3460 rows × 3 columns</p>\n",
       "</div>"
      ],
      "text/plain": [
       "           fpr       tpr     threshold\n",
       "0     0.000000  0.000000  2.000000e+00\n",
       "1     0.000000  0.001690  1.000000e+00\n",
       "2     0.000000  0.002209  1.000000e+00\n",
       "3     0.000000  0.002686  1.000000e+00\n",
       "4     0.000000  0.002729  1.000000e+00\n",
       "...        ...       ...           ...\n",
       "3455  0.998939  1.000000  4.097763e-05\n",
       "3456  0.998990  1.000000  4.035255e-05\n",
       "3457  0.999116  1.000000  2.901115e-05\n",
       "3458  0.999167  1.000000  2.885850e-05\n",
       "3459  1.000000  1.000000  1.136106e-22\n",
       "\n",
       "[3460 rows x 3 columns]"
      ]
     },
     "execution_count": 482,
     "metadata": {},
     "output_type": "execute_result"
    }
   ],
   "source": [
    "roc_curve_raw = roc_curve(y_train, y_train_proba[:, 1])\n",
    "df_roc_curve = pd.DataFrame({\n",
    "    'fpr': roc_curve_raw[0],\n",
    "    'tpr': roc_curve_raw[1],\n",
    "    'threshold': roc_curve_raw[2],\n",
    "})\n",
    "df_roc_curve"
   ]
  },
  {
   "cell_type": "code",
   "execution_count": 483,
   "metadata": {},
   "outputs": [
    {
     "data": {
      "text/plain": [
       "<sklearn.metrics._plot.roc_curve.RocCurveDisplay at 0x7fd24dc369a0>"
      ]
     },
     "execution_count": 483,
     "metadata": {},
     "output_type": "execute_result"
    },
    {
     "data": {
      "image/png": "[encoded data removed]",
      "text/plain": [
       "<Figure size 432x288 with 1 Axes>"
      ]
     },
     "metadata": {},
     "output_type": "display_data"
    }
   ],
   "source": [
    "RocCurveDisplay(fpr=roc_curve_raw[0], tpr=roc_curve_raw[1]).plot()"
   ]
  },
  {
   "cell_type": "code",
   "execution_count": 484,
   "metadata": {},
   "outputs": [
    {
     "data": {
      "text/plain": [
       "0.850405059563227"
      ]
     },
     "execution_count": 484,
     "metadata": {},
     "output_type": "execute_result"
    }
   ],
   "source": [
    "roc_auc_score(y_train, y_train_proba[:, 1])"
   ]
  },
  {
   "cell_type": "markdown",
   "metadata": {},
   "source": [
    "**Summary**  \n",
    "\n",
    "The higher the AUC, the better the performance of the model at distinguishing between the positive and negative classes. ROC AUC of logistic regression is arounf 85% which means this model has good performance to distinguish between the positive and negative classes."
   ]
  },
  {
   "cell_type": "markdown",
   "metadata": {},
   "source": [
    "> ## *Decision Tree*"
   ]
  },
  {
   "cell_type": "code",
   "execution_count": 507,
   "metadata": {},
   "outputs": [
    {
     "name": "stdout",
     "output_type": "stream",
     "text": [
      "Accuracy Score of Decision Tree is : 0.8170200545637295\n",
      "Confusion Matrix : \n",
      "[[34709  4887]\n",
      " [ 6582 16501]]\n",
      "Classification Report : \n",
      "              precision    recall  f1-score   support\n",
      "\n",
      "           0       0.84      0.88      0.86     39596\n",
      "           1       0.77      0.71      0.74     23083\n",
      "\n",
      "    accuracy                           0.82     62679\n",
      "   macro avg       0.81      0.80      0.80     62679\n",
      "weighted avg       0.82      0.82      0.82     62679\n",
      "\n"
     ]
    }
   ],
   "source": [
    "dt = DecisionTreeClassifier(random_state=89)\n",
    "dt.fit(X_train_selected_rfe, y_train)\n",
    "\n",
    "y_pred_dt = dt.predict(X_train_selected_rfe)\n",
    "\n",
    "acc_dt = accuracy_score(y_train, y_pred_dt)\n",
    "conf_matrix_dt = confusion_matrix(y_train, y_pred_dt)\n",
    "classif_report_dt = classification_report(y_train, y_pred_dt)\n",
    "\n",
    "print(f\"Accuracy Score of Decision Tree is : {acc_dt}\")\n",
    "print(f\"Confusion Matrix : \\n{conf_matrix_dt}\")\n",
    "print(f\"Classification Report : \\n{classif_report_dt}\")\n",
    "\n",
    "print(f\"Classification Report : \\n\", classification_report(y_test, y_pred_dt))"
   ]
  },
  {
   "cell_type": "code",
   "execution_count": 490,
   "metadata": {},
   "outputs": [
    {
     "data": {
      "image/png": "[encoded data removed]",
      "text/plain": [
       "<Figure size 432x288 with 2 Axes>"
      ]
     },
     "metadata": {},
     "output_type": "display_data"
    }
   ],
   "source": [
    "ConfusionMatrixDisplay(conf_matrix_dt, display_labels=np.array(['Not Cancelled', 'Cancelled'])).plot();"
   ]
  },
  {
   "cell_type": "code",
   "execution_count": 491,
   "metadata": {},
   "outputs": [
    {
     "data": {
      "text/plain": [
       "array([0.80783344, 0.80799298, 0.80512125, 0.80216975, 0.8095732 ])"
      ]
     },
     "execution_count": 491,
     "metadata": {},
     "output_type": "execute_result"
    }
   ],
   "source": [
    "cross_val_score(\n",
    "    dt,\n",
    "    X_train_selected_rfe, y_train,\n",
    "    scoring='accuracy',\n",
    "    cv=5\n",
    ")"
   ]
  },
  {
   "cell_type": "code",
   "execution_count": 243,
   "metadata": {},
   "outputs": [],
   "source": [
    "# plt.figure(figsize=(10,7))\n",
    "# plot_tree(dt, feature_names = list(X_train_selected_rfe), class_names = ['Not Cancelled','Cancelled'], filled = True)\n",
    "# plt.show()"
   ]
  },
  {
   "cell_type": "markdown",
   "metadata": {},
   "source": [
    "**Summary**  \n",
    "From the confusion matrix, algorithm of Decision Tree misclassified about 11,469 data that gives 82.0 % accuracy. As negative and positive classes is equally important to us, the f1 score for both classes is relatively good. The Cross Validation score is slightly the same with the train set score which is at roughly 81%. "
   ]
  },
  {
   "cell_type": "markdown",
   "metadata": {},
   "source": [
    "> ## *Voting*"
   ]
  },
  {
   "cell_type": "code",
   "execution_count": 508,
   "metadata": {},
   "outputs": [
    {
     "data": {
      "text/html": [
       "<style>#sk-container-id-13 {color: black;background-color: white;}#sk-container-id-13 pre{padding: 0;}#sk-container-id-13 div.sk-toggleable {background-color: white;}#sk-container-id-13 label.sk-toggleable__label {cursor: pointer;display: block;width: 100%;margin-bottom: 0;padding: 0.3em;box-sizing: border-box;text-align: center;}#sk-container-id-13 label.sk-toggleable__label-arrow:before {content: \"▸\";float: left;margin-right: 0.25em;color: #696969;}#sk-container-id-13 label.sk-toggleable__label-arrow:hover:before {color: black;}#sk-container-id-13 div.sk-estimator:hover label.sk-toggleable__label-arrow:before {color: black;}#sk-container-id-13 div.sk-toggleable__content {max-height: 0;max-width: 0;overflow: hidden;text-align: left;background-color: #f0f8ff;}#sk-container-id-13 div.sk-toggleable__content pre {margin: 0.2em;color: black;border-radius: 0.25em;background-color: #f0f8ff;}#sk-container-id-13 input.sk-toggleable__control:checked~div.sk-toggleable__content {max-height: 200px;max-width: 100%;overflow: auto;}#sk-container-id-13 input.sk-toggleable__control:checked~label.sk-toggleable__label-arrow:before {content: \"▾\";}#sk-container-id-13 div.sk-estimator input.sk-toggleable__control:checked~label.sk-toggleable__label {background-color: #d4ebff;}#sk-container-id-13 div.sk-label input.sk-toggleable__control:checked~label.sk-toggleable__label {background-color: #d4ebff;}#sk-container-id-13 input.sk-hidden--visually {border: 0;clip: rect(1px 1px 1px 1px);clip: rect(1px, 1px, 1px, 1px);height: 1px;margin: -1px;overflow: hidden;padding: 0;position: absolute;width: 1px;}#sk-container-id-13 div.sk-estimator {font-family: monospace;background-color: #f0f8ff;border: 1px dotted black;border-radius: 0.25em;box-sizing: border-box;margin-bottom: 0.5em;}#sk-container-id-13 div.sk-estimator:hover {background-color: #d4ebff;}#sk-container-id-13 div.sk-parallel-item::after {content: \"\";width: 100%;border-bottom: 1px solid gray;flex-grow: 1;}#sk-container-id-13 div.sk-label:hover label.sk-toggleable__label {background-color: #d4ebff;}#sk-container-id-13 div.sk-serial::before {content: \"\";position: absolute;border-left: 1px solid gray;box-sizing: border-box;top: 0;bottom: 0;left: 50%;z-index: 0;}#sk-container-id-13 div.sk-serial {display: flex;flex-direction: column;align-items: center;background-color: white;padding-right: 0.2em;padding-left: 0.2em;position: relative;}#sk-container-id-13 div.sk-item {position: relative;z-index: 1;}#sk-container-id-13 div.sk-parallel {display: flex;align-items: stretch;justify-content: center;background-color: white;position: relative;}#sk-container-id-13 div.sk-item::before, #sk-container-id-13 div.sk-parallel-item::before {content: \"\";position: absolute;border-left: 1px solid gray;box-sizing: border-box;top: 0;bottom: 0;left: 50%;z-index: -1;}#sk-container-id-13 div.sk-parallel-item {display: flex;flex-direction: column;z-index: 1;position: relative;background-color: white;}#sk-container-id-13 div.sk-parallel-item:first-child::after {align-self: flex-end;width: 50%;}#sk-container-id-13 div.sk-parallel-item:last-child::after {align-self: flex-start;width: 50%;}#sk-container-id-13 div.sk-parallel-item:only-child::after {width: 0;}#sk-container-id-13 div.sk-dashed-wrapped {border: 1px dashed gray;margin: 0 0.4em 0.5em 0.4em;box-sizing: border-box;padding-bottom: 0.4em;background-color: white;}#sk-container-id-13 div.sk-label label {font-family: monospace;font-weight: bold;display: inline-block;line-height: 1.2em;}#sk-container-id-13 div.sk-label-container {text-align: center;}#sk-container-id-13 div.sk-container {/* jupyter's `normalize.less` sets `[hidden] { display: none; }` but bootstrap.min.css set `[hidden] { display: none !important; }` so we also need the `!important` here to be able to override the default hidden behavior on the sphinx rendered scikit-learn.org. See: https://github.com/scikit-learn/scikit-learn/issues/21755 */display: inline-block !important;position: relative;}#sk-container-id-13 div.sk-text-repr-fallback {display: none;}</style><div id=\"sk-container-id-13\" class=\"sk-top-container\"><div class=\"sk-text-repr-fallback\"><pre>VotingClassifier(estimators=[(&#x27;log_reg&#x27;,\n",
       "                              LogisticRegression(max_iter=1000,\n",
       "                                                 random_state=89)),\n",
       "                             (&#x27;dt&#x27;, DecisionTreeClassifier(random_state=89))],\n",
       "                 voting=&#x27;soft&#x27;)</pre><b>In a Jupyter environment, please rerun this cell to show the HTML representation or trust the notebook. <br />On GitHub, the HTML representation is unable to render, please try loading this page with nbviewer.org.</b></div><div class=\"sk-container\" hidden><div class=\"sk-item sk-dashed-wrapped\"><div class=\"sk-label-container\"><div class=\"sk-label sk-toggleable\"><input class=\"sk-toggleable__control sk-hidden--visually\" id=\"sk-estimator-id-21\" type=\"checkbox\" ><label for=\"sk-estimator-id-21\" class=\"sk-toggleable__label sk-toggleable__label-arrow\">VotingClassifier</label><div class=\"sk-toggleable__content\"><pre>VotingClassifier(estimators=[(&#x27;log_reg&#x27;,\n",
       "                              LogisticRegression(max_iter=1000,\n",
       "                                                 random_state=89)),\n",
       "                             (&#x27;dt&#x27;, DecisionTreeClassifier(random_state=89))],\n",
       "                 voting=&#x27;soft&#x27;)</pre></div></div></div><div class=\"sk-parallel\"><div class=\"sk-parallel-item\"><div class=\"sk-item\"><div class=\"sk-label-container\"><div class=\"sk-label sk-toggleable\"><label>log_reg</label></div></div><div class=\"sk-serial\"><div class=\"sk-item\"><div class=\"sk-estimator sk-toggleable\"><input class=\"sk-toggleable__control sk-hidden--visually\" id=\"sk-estimator-id-22\" type=\"checkbox\" ><label for=\"sk-estimator-id-22\" class=\"sk-toggleable__label sk-toggleable__label-arrow\">LogisticRegression</label><div class=\"sk-toggleable__content\"><pre>LogisticRegression(max_iter=1000, random_state=89)</pre></div></div></div></div></div></div><div class=\"sk-parallel-item\"><div class=\"sk-item\"><div class=\"sk-label-container\"><div class=\"sk-label sk-toggleable\"><label>dt</label></div></div><div class=\"sk-serial\"><div class=\"sk-item\"><div class=\"sk-estimator sk-toggleable\"><input class=\"sk-toggleable__control sk-hidden--visually\" id=\"sk-estimator-id-23\" type=\"checkbox\" ><label for=\"sk-estimator-id-23\" class=\"sk-toggleable__label sk-toggleable__label-arrow\">DecisionTreeClassifier</label><div class=\"sk-toggleable__content\"><pre>DecisionTreeClassifier(random_state=89)</pre></div></div></div></div></div></div></div></div></div></div>"
      ],
      "text/plain": [
       "VotingClassifier(estimators=[('log_reg',\n",
       "                              LogisticRegression(max_iter=1000,\n",
       "                                                 random_state=89)),\n",
       "                             ('dt', DecisionTreeClassifier(random_state=89))],\n",
       "                 voting='soft')"
      ]
     },
     "execution_count": 508,
     "metadata": {},
     "output_type": "execute_result"
    }
   ],
   "source": [
    "# voting\n",
    "base_learners = [\n",
    "    ('log_reg', LogisticRegression(random_state=89, max_iter=1000)),\n",
    "    ('dt', DecisionTreeClassifier(random_state=89))\n",
    "]\n",
    "voting_classifer = VotingClassifier(estimators=base_learners, voting='soft')\n",
    "voting_classifer.fit(X_train_selected_rfe, y_train)"
   ]
  },
  {
   "cell_type": "code",
   "execution_count": 509,
   "metadata": {},
   "outputs": [
    {
     "data": {
      "text/plain": [
       "(array([10645., 11186., 10898.,  7809.,  4899.,  5030.,  3761.,   628.,\n",
       "          164.,  7659.]),\n",
       " array([1.1361059e-22, 1.0000000e-01, 2.0000000e-01, 3.0000000e-01,\n",
       "        4.0000000e-01, 5.0000000e-01, 6.0000000e-01, 7.0000000e-01,\n",
       "        8.0000000e-01, 9.0000000e-01, 1.0000000e+00]),\n",
       " <BarContainer object of 10 artists>)"
      ]
     },
     "execution_count": 509,
     "metadata": {},
     "output_type": "execute_result"
    },
    {
     "data": {
      "image/png": "[encoded data removed]",
      "text/plain": [
       "<Figure size 432x288 with 1 Axes>"
      ]
     },
     "metadata": {},
     "output_type": "display_data"
    }
   ],
   "source": [
    "plt.hist(log_reg.predict_proba(X_train_selected_rfe)[:, 1])"
   ]
  },
  {
   "cell_type": "code",
   "execution_count": 510,
   "metadata": {},
   "outputs": [
    {
     "name": "stdout",
     "output_type": "stream",
     "text": [
      "LogisticRegression 0.7835798273743997\n",
      "DecisionTreeClassifier 0.8170200545637295\n",
      "VotingClassifier 0.8070007498524226\n"
     ]
    }
   ],
   "source": [
    "for estimator_ in [log_reg, dt, voting_classifer]:\n",
    "    print(estimator_.__class__.__name__, estimator_.score(X_train_selected_rfe, y_train))"
   ]
  },
  {
   "cell_type": "code",
   "execution_count": 511,
   "metadata": {},
   "outputs": [
    {
     "name": "stdout",
     "output_type": "stream",
     "text": [
      "LogisticRegression\n",
      "Classif Report\n",
      "               precision    recall  f1-score   support\n",
      "\n",
      "           0       0.79      0.90      0.84     39596\n",
      "           1       0.78      0.58      0.66     23083\n",
      "\n",
      "    accuracy                           0.78     62679\n",
      "   macro avg       0.78      0.74      0.75     62679\n",
      "weighted avg       0.78      0.78      0.78     62679\n",
      "\n",
      "==============\n",
      "DecisionTreeClassifier\n",
      "Classif Report\n",
      "               precision    recall  f1-score   support\n",
      "\n",
      "           0       0.84      0.88      0.86     39596\n",
      "           1       0.77      0.71      0.74     23083\n",
      "\n",
      "    accuracy                           0.82     62679\n",
      "   macro avg       0.81      0.80      0.80     62679\n",
      "weighted avg       0.82      0.82      0.82     62679\n",
      "\n",
      "==============\n",
      "VotingClassifier\n",
      "Classif Report\n",
      "               precision    recall  f1-score   support\n",
      "\n",
      "           0       0.80      0.92      0.86     39596\n",
      "           1       0.82      0.61      0.70     23083\n",
      "\n",
      "    accuracy                           0.81     62679\n",
      "   macro avg       0.81      0.77      0.78     62679\n",
      "weighted avg       0.81      0.81      0.80     62679\n",
      "\n",
      "==============\n"
     ]
    }
   ],
   "source": [
    "for estimator_ in [log_reg, dt, voting_classifer]:\n",
    "    print(estimator_.__class__.__name__)\n",
    "    y_train_pred = estimator_.predict(X_train_selected_rfe)\n",
    "    print('Classif Report\\n', classification_report(y_train, y_train_pred))\n",
    "    print('==============')"
   ]
  },
  {
   "cell_type": "code",
   "execution_count": 512,
   "metadata": {},
   "outputs": [
    {
     "data": {
      "text/plain": [
       "array([0, 0, 0, 0, 0, 1, 1, 0, 0, 0, 0, 0, 0, 0, 0, 0, 0, 0, 0, 0, 1, 1,\n",
       "       0, 1, 0, 0, 1, 0, 0, 0])"
      ]
     },
     "execution_count": 512,
     "metadata": {},
     "output_type": "execute_result"
    }
   ],
   "source": [
    "log_reg.predict(X_train_selected_rfe)[:30]"
   ]
  },
  {
   "cell_type": "code",
   "execution_count": 513,
   "metadata": {},
   "outputs": [
    {
     "data": {
      "text/plain": [
       "array([0, 0, 0, 0, 0, 1, 0, 0, 1, 0, 0, 0, 0, 0, 0, 0, 0, 0, 0, 0, 1, 1,\n",
       "       1, 1, 0, 0, 1, 0, 0, 1])"
      ]
     },
     "execution_count": 513,
     "metadata": {},
     "output_type": "execute_result"
    }
   ],
   "source": [
    "dt.predict(X_train_selected_rfe)[:30]"
   ]
  },
  {
   "cell_type": "code",
   "execution_count": 514,
   "metadata": {},
   "outputs": [
    {
     "data": {
      "text/plain": [
       "array([0, 0, 0, 0, 0, 1, 0, 0, 1, 0, 0, 0, 0, 0, 0, 0, 0, 0, 0, 0, 1, 1,\n",
       "       0, 1, 0, 0, 1, 0, 0, 0])"
      ]
     },
     "execution_count": 514,
     "metadata": {},
     "output_type": "execute_result"
    }
   ],
   "source": [
    "voting_classifer.predict(X_train_selected_rfe)[:30]"
   ]
  },
  {
   "cell_type": "markdown",
   "metadata": {},
   "source": [
    "**Summary**  \n",
    "\n",
    "The best model if we compared between Logistic Regression, Decision Tree, Voting Classifier is `Decision Tree Classifier` which has accuracy score at 82% with good f1-score. Therefore, we still stick with Decision Tree model until we tried the next approaches such as Stacking, Bagging, and Boosting. "
   ]
  },
  {
   "cell_type": "markdown",
   "metadata": {},
   "source": [
    "> ## *Stacking*"
   ]
  },
  {
   "cell_type": "code",
   "execution_count": 515,
   "metadata": {},
   "outputs": [
    {
     "name": "stdout",
     "output_type": "stream",
     "text": [
      "Classif Report \n",
      "               precision    recall  f1-score   support\n",
      "\n",
      "           0       0.83      0.89      0.86     39596\n",
      "           1       0.79      0.68      0.73     23083\n",
      "\n",
      "    accuracy                           0.81     62679\n",
      "   macro avg       0.81      0.79      0.79     62679\n",
      "weighted avg       0.81      0.81      0.81     62679\n",
      "\n"
     ]
    }
   ],
   "source": [
    "# stacking\n",
    "stacking_classifier = StackingClassifier(\n",
    "    estimators=base_learners,\n",
    "    final_estimator=LogisticRegression(random_state=89, max_iter=1000)\n",
    ")\n",
    "\n",
    "stacking_classifier.fit(X_train_selected_rfe, y_train)\n",
    "y_train_pred = stacking_classifier.predict(X_train_selected_rfe)\n",
    "print('Classif Report \\n', classification_report(y_train, y_train_pred))"
   ]
  },
  {
   "cell_type": "code",
   "execution_count": 516,
   "metadata": {},
   "outputs": [
    {
     "name": "stdout",
     "output_type": "stream",
     "text": [
      "Classif Report \n",
      "               precision    recall  f1-score   support\n",
      "\n",
      "           0       0.82      0.86      0.84     39596\n",
      "           1       0.74      0.69      0.71     23083\n",
      "\n",
      "    accuracy                           0.79     62679\n",
      "   macro avg       0.78      0.77      0.78     62679\n",
      "weighted avg       0.79      0.79      0.79     62679\n",
      "\n"
     ]
    }
   ],
   "source": [
    "# stacking\n",
    "stacking_classifier = StackingClassifier(\n",
    "    estimators=base_learners,\n",
    "    final_estimator=DecisionTreeClassifier(random_state=89)\n",
    ")\n",
    "\n",
    "stacking_classifier.fit(X_train_selected_rfe, y_train)\n",
    "y_train_pred = stacking_classifier.predict(X_train_selected_rfe)\n",
    "print('Classif Report \\n', classification_report(y_train, y_train_pred))"
   ]
  },
  {
   "cell_type": "markdown",
   "metadata": {},
   "source": [
    "**Summary**  \n",
    "\n",
    "Stacking with final_estimator of Logistic Regression is higher than with final_estimator of Decision Tree. Yet, Decision Tree still has the highest score of accuracy. Therefore, we still stick with Decision Tree model. "
   ]
  },
  {
   "cell_type": "markdown",
   "metadata": {},
   "source": [
    "> ## *Bagging*"
   ]
  },
  {
   "cell_type": "code",
   "execution_count": 517,
   "metadata": {},
   "outputs": [
    {
     "name": "stdout",
     "output_type": "stream",
     "text": [
      "Train set\n",
      "Classif Report \n",
      "               precision    recall  f1-score   support\n",
      "\n",
      "           0       0.84      0.87      0.86     39596\n",
      "           1       0.77      0.72      0.74     23083\n",
      "\n",
      "    accuracy                           0.82     62679\n",
      "   macro avg       0.81      0.80      0.80     62679\n",
      "weighted avg       0.82      0.82      0.82     62679\n",
      "\n",
      "Test set\n",
      "Classif Report \n",
      "               precision    recall  f1-score   support\n",
      "\n",
      "           0       0.83      0.86      0.85     13199\n",
      "           1       0.75      0.70      0.73      7695\n",
      "\n",
      "    accuracy                           0.80     20894\n",
      "   macro avg       0.79      0.78      0.79     20894\n",
      "weighted avg       0.80      0.80      0.80     20894\n",
      "\n"
     ]
    }
   ],
   "source": [
    "# bagging\n",
    "bagging_classifier = BaggingClassifier(\n",
    "    base_estimator=DecisionTreeClassifier(),\n",
    "    n_estimators=500, random_state=89, n_jobs=-1\n",
    ")\n",
    "bagging_classifier.fit(X_train_selected_rfe, y_train)\n",
    "y_train_pred = bagging_classifier.predict(X_train_selected_rfe)\n",
    "y_test_pred = bagging_classifier.predict(X_test_selected_rfe)\n",
    "print('Train set')\n",
    "print('Classif Report \\n', classification_report(y_train, y_train_pred))\n",
    "\n",
    "print('Test set')\n",
    "print('Classif Report \\n', classification_report(y_test, y_test_pred))"
   ]
  },
  {
   "cell_type": "markdown",
   "metadata": {},
   "source": [
    "> ## *Random Forest*"
   ]
  },
  {
   "cell_type": "code",
   "execution_count": 505,
   "metadata": {},
   "outputs": [
    {
     "name": "stdout",
     "output_type": "stream",
     "text": [
      "Train set\n",
      "              precision    recall  f1-score   support\n",
      "\n",
      "           0       0.83      0.86      0.85     39596\n",
      "           1       0.75      0.71      0.73     23083\n",
      "\n",
      "    accuracy                           0.81     62679\n",
      "   macro avg       0.79      0.78      0.79     62679\n",
      "weighted avg       0.80      0.81      0.80     62679\n",
      "\n",
      "=================================================\n",
      "Test set\n",
      "              precision    recall  f1-score   support\n",
      "\n",
      "           0       0.83      0.86      0.84     13199\n",
      "           1       0.74      0.70      0.72      7695\n",
      "\n",
      "    accuracy                           0.80     20894\n",
      "   macro avg       0.79      0.78      0.78     20894\n",
      "weighted avg       0.80      0.80      0.80     20894\n",
      "\n"
     ]
    }
   ],
   "source": [
    "rf = RandomForestClassifier(\n",
    "    n_estimators=100, random_state=89, n_jobs=-1, max_depth=7,\n",
    "    max_features='sqrt', class_weight='balanced'\n",
    ")\n",
    "rf.fit(X_train_selected_rfe, y_train)\n",
    "y_train_pred = rf.predict(X_train_selected_rfe)\n",
    "y_test_pred = rf.predict(X_test_selected_rfe)\n",
    "print('Train set')\n",
    "print(classification_report(y_train, y_train_pred))\n",
    "print('=================================================')\n",
    "print('Test set')\n",
    "print(classification_report(y_test, y_test_pred))\n"
   ]
  },
  {
   "cell_type": "code",
   "execution_count": 520,
   "metadata": {},
   "outputs": [
    {
     "data": {
      "text/plain": [
       "array([0.8047224 , 0.80719528, 0.80017549, 0.80169113, 0.80398883])"
      ]
     },
     "execution_count": 520,
     "metadata": {},
     "output_type": "execute_result"
    }
   ],
   "source": [
    "cross_val_score(\n",
    "    rf,\n",
    "    X_train_selected_rfe, y_train,\n",
    "    scoring='accuracy',\n",
    "    cv=5\n",
    ")"
   ]
  },
  {
   "cell_type": "markdown",
   "metadata": {},
   "source": [
    "> ## *Boosting*"
   ]
  },
  {
   "cell_type": "code",
   "execution_count": 525,
   "metadata": {},
   "outputs": [
    {
     "name": "stdout",
     "output_type": "stream",
     "text": [
      "Accuracy Score of Ada Boost Classifier is : 0.8170200545637295\n",
      "Confusion Matrix : \n",
      "[[34690  4906]\n",
      " [ 6563 16520]]\n",
      "Classification Report : \n",
      "              precision    recall  f1-score   support\n",
      "\n",
      "           0       0.84      0.88      0.86     39596\n",
      "           1       0.77      0.72      0.74     23083\n",
      "\n",
      "    accuracy                           0.82     62679\n",
      "   macro avg       0.81      0.80      0.80     62679\n",
      "weighted avg       0.82      0.82      0.82     62679\n",
      "\n"
     ]
    }
   ],
   "source": [
    "# AdaBoost\n",
    "\n",
    "ada = AdaBoostClassifier(base_estimator = dt, n_estimators=10)\n",
    "ada.fit(X_train_selected_rfe, y_train)\n",
    "\n",
    "y_pred_ada = ada.predict(X_train_selected_rfe)\n",
    "\n",
    "acc_ada = accuracy_score(y_train, y_pred_ada)\n",
    "conf = confusion_matrix(y_train, y_pred_ada)\n",
    "clf_report = classification_report(y_train, y_pred_ada)\n",
    "\n",
    "print(f\"Accuracy Score of Ada Boost Classifier is : {acc_ada}\")\n",
    "print(f\"Confusion Matrix : \\n{conf}\")\n",
    "print(f\"Classification Report : \\n{clf_report}\")"
   ]
  },
  {
   "cell_type": "code",
   "execution_count": 526,
   "metadata": {},
   "outputs": [
    {
     "data": {
      "text/plain": [
       "array([0.80775367, 0.80655712, 0.80559987, 0.80145182, 0.80933387])"
      ]
     },
     "execution_count": 526,
     "metadata": {},
     "output_type": "execute_result"
    }
   ],
   "source": [
    "cross_val_score(\n",
    "    ada,\n",
    "    X_train_selected_rfe, y_train,\n",
    "    scoring='accuracy',\n",
    "    cv=5\n",
    ")"
   ]
  },
  {
   "cell_type": "markdown",
   "metadata": {},
   "source": [
    "**Summary**  \n",
    "\n",
    "Ada boost has similar performance with Decision Tree at 82% Accuracy score and good f1-score too. Followed by Random Forest. Let's compare these three performance into one table by their f1-score in the next step."
   ]
  },
  {
   "cell_type": "markdown",
   "metadata": {},
   "source": [
    "# 6. **MODEL PERFORMANCE**"
   ]
  },
  {
   "cell_type": "code",
   "execution_count": 537,
   "metadata": {},
   "outputs": [
    {
     "name": "stdout",
     "output_type": "stream",
     "text": [
      "[0.64960928 0.66986116 0.65231079 0.66257207 0.65647324] LogisticRegression(random_state=89)\n",
      "[0.70134149 0.72666068 0.72413793 0.72597208 0.7270258 ] DecisionTreeClassifier(random_state=89)\n",
      "[0.70360371 0.72678331 0.72434743 0.72681126 0.72860691] RandomForestClassifier(random_state=89)\n",
      "[0.64665006 0.67698306 0.66531543 0.6539267  0.67442449] AdaBoostClassifier(random_state=89)\n"
     ]
    }
   ],
   "source": [
    "# Model Performance\n",
    "\n",
    "# Define models\n",
    "log_reg = LogisticRegression(random_state=89)\n",
    "dt = DecisionTreeClassifier(random_state=89)\n",
    "rf = RandomForestClassifier(random_state=89)\n",
    "ab = AdaBoostClassifier(random_state=89)\n",
    "\n",
    "# Define imbalance treatment methods\n",
    "models = [log_reg, dt, rf, ab]\n",
    "score = []\n",
    "mean_score = []\n",
    "std_score = []\n",
    "\n",
    "for i in models:\n",
    "    \n",
    "    skfold = StratifiedKFold(n_splits=5, shuffle=True, random_state=89)\n",
    "\n",
    "    estimator = Pipeline([\n",
    "        ('preprocessing', preprocessor),\n",
    "        ('feature selection', rfe_selector),\n",
    "        ('model', i)\n",
    "    ])\n",
    "\n",
    "    model_cv = cross_val_score(\n",
    "        estimator, \n",
    "        X_train, \n",
    "        y_train, \n",
    "        cv=skfold, \n",
    "        scoring='f1', \n",
    "        error_score='raise'\n",
    "        )\n",
    "\n",
    "    print(model_cv, i)\n",
    "\n",
    "\n",
    "    score.append(model_cv)\n",
    "    mean_score.append(model_cv.mean())\n",
    "    std_score.append(model_cv.std())"
   ]
  },
  {
   "cell_type": "code",
   "execution_count": 538,
   "metadata": {},
   "outputs": [
    {
     "data": {
      "text/html": [
       "<div>\n",
       "<style scoped>\n",
       "    .dataframe tbody tr th:only-of-type {\n",
       "        vertical-align: middle;\n",
       "    }\n",
       "\n",
       "    .dataframe tbody tr th {\n",
       "        vertical-align: top;\n",
       "    }\n",
       "\n",
       "    .dataframe thead th {\n",
       "        text-align: right;\n",
       "    }\n",
       "</style>\n",
       "<table border=\"1\" class=\"dataframe\">\n",
       "  <thead>\n",
       "    <tr style=\"text-align: right;\">\n",
       "      <th></th>\n",
       "      <th>model</th>\n",
       "      <th>mean</th>\n",
       "      <th>std</th>\n",
       "    </tr>\n",
       "  </thead>\n",
       "  <tbody>\n",
       "    <tr>\n",
       "      <th>0</th>\n",
       "      <td>log_reg</td>\n",
       "      <td>0.658165</td>\n",
       "      <td>0.007301</td>\n",
       "    </tr>\n",
       "    <tr>\n",
       "      <th>1</th>\n",
       "      <td>dt</td>\n",
       "      <td>0.721028</td>\n",
       "      <td>0.009893</td>\n",
       "    </tr>\n",
       "    <tr>\n",
       "      <th>2</th>\n",
       "      <td>rf</td>\n",
       "      <td>0.722031</td>\n",
       "      <td>0.009312</td>\n",
       "    </tr>\n",
       "    <tr>\n",
       "      <th>3</th>\n",
       "      <td>ab</td>\n",
       "      <td>0.663460</td>\n",
       "      <td>0.011662</td>\n",
       "    </tr>\n",
       "  </tbody>\n",
       "</table>\n",
       "</div>"
      ],
      "text/plain": [
       "     model      mean       std\n",
       "0  log_reg  0.658165  0.007301\n",
       "1       dt  0.721028  0.009893\n",
       "2       rf  0.722031  0.009312\n",
       "3       ab  0.663460  0.011662"
      ]
     },
     "execution_count": 538,
     "metadata": {},
     "output_type": "execute_result"
    }
   ],
   "source": [
    "pd.DataFrame({\n",
    "    'model':['log_reg', 'dt', 'rf', 'ab'],\n",
    "    'mean':mean_score,\n",
    "    'std':std_score\n",
    "})"
   ]
  },
  {
   "cell_type": "markdown",
   "metadata": {},
   "source": [
    "**Notes**\n",
    "\n",
    "From the results of the cross validation above, it can be seen that the random forest model has the best and most stable performance when we check from the average F1-score and standard deviation. As for decision tree, the result are only slightly different, but random forest is slightly better."
   ]
  },
  {
   "cell_type": "markdown",
   "metadata": {},
   "source": [
    "# 6. **MODEL PERFORMANCE ON TEST SET**"
   ]
  },
  {
   "cell_type": "code",
   "execution_count": 539,
   "metadata": {},
   "outputs": [
    {
     "data": {
      "text/html": [
       "<div>\n",
       "<style scoped>\n",
       "    .dataframe tbody tr th:only-of-type {\n",
       "        vertical-align: middle;\n",
       "    }\n",
       "\n",
       "    .dataframe tbody tr th {\n",
       "        vertical-align: top;\n",
       "    }\n",
       "\n",
       "    .dataframe thead th {\n",
       "        text-align: right;\n",
       "    }\n",
       "</style>\n",
       "<table border=\"1\" class=\"dataframe\">\n",
       "  <thead>\n",
       "    <tr style=\"text-align: right;\">\n",
       "      <th></th>\n",
       "      <th>F1 score</th>\n",
       "    </tr>\n",
       "  </thead>\n",
       "  <tbody>\n",
       "    <tr>\n",
       "      <th>Decision Tree</th>\n",
       "      <td>0.724228</td>\n",
       "    </tr>\n",
       "    <tr>\n",
       "      <th>Random Forest</th>\n",
       "      <td>0.725784</td>\n",
       "    </tr>\n",
       "  </tbody>\n",
       "</table>\n",
       "</div>"
      ],
      "text/plain": [
       "               F1 score\n",
       "Decision Tree  0.724228\n",
       "Random Forest  0.725784"
      ]
     },
     "execution_count": 539,
     "metadata": {},
     "output_type": "execute_result"
    }
   ],
   "source": [
    "models = {\n",
    "    'Decision Tree': DecisionTreeClassifier(random_state=89),\n",
    "    'Random Forest': RandomForestClassifier(random_state=89),  \n",
    "}\n",
    "\n",
    "score=[]\n",
    "\n",
    "for i in models:\n",
    "    \n",
    "    model = Pipeline([\n",
    "        ('preprocessing', preprocessor),\n",
    "        ('feature selection', rfe_selector),\n",
    "        ('model', models[i])\n",
    "    ])\n",
    "\n",
    "    # fitting\n",
    "    model.fit(X_train, y_train)\n",
    "\n",
    "    # predict\n",
    "    y_pred = model.predict(X_test)\n",
    "\n",
    "    # f1 score\n",
    "    score.append([f1_score(y_test, y_pred)])\n",
    "\n",
    "# tapilkan dalam dataframe\n",
    "score_before_tuning = pd.DataFrame(score, columns=['F1 score'], index = models.keys())\n",
    "score_before_tuning\n"
   ]
  },
  {
   "cell_type": "markdown",
   "metadata": {},
   "source": [
    "**Summary**  \n",
    "\n",
    "Random forest has slightly higher than the decision tree. Therefore, we choose this model to generate booking cancellation prediction. Next, we need to do the following step: Hyperparameter Tuning"
   ]
  },
  {
   "cell_type": "markdown",
   "metadata": {},
   "source": [
    "# **6. HYPERPARAMETER TUNING**"
   ]
  },
  {
   "cell_type": "markdown",
   "metadata": {},
   "source": [
    "**Hyperparameter Tuning for Random Forest:**\n",
    "\n",
    "- Adding n_estimator ---> more averaging ---> decrease overfit\n",
    "- Adding max_fetures ---> prone to best decision ---> overfit prone\n",
    "- Adding max_depth ---> more decision ---> overfit prone\n",
    "- Adding min_samples_leaf ---> prevent split ---> decrease overfit\n",
    "- Adding min_samples_split ---> prevent split ---> decrease overfit\n"
   ]
  },
  {
   "cell_type": "code",
   "execution_count": 542,
   "metadata": {},
   "outputs": [],
   "source": [
    "# Number of trees in random forest\n",
    "n_estimators = list(np.arange(100, 2000, 1))\n",
    "\n",
    "# Number of features to consider at every split\n",
    "max_features = list(np.arange(2, 9, 1))\n",
    "\n",
    "# Maximum number of levels in tree\n",
    "max_depth = list(np.arange(20, 101, 1))\n",
    "\n",
    "# Minimum number of samples required to split a node\n",
    "min_samples_split = list(np.arange(2, 21, 1))\n",
    "\n",
    "# Minimum number of samples required at each leaf node\n",
    "min_samples_leaf = list(np.arange(1, 21, 1))\n",
    "\n",
    "\n",
    "hyperparam_space_rf = {\n",
    "    'model__n_estimators': n_estimators,\n",
    "    'model__max_features': max_features,\n",
    "    'model__max_depth': max_depth,\n",
    "    'model__min_samples_split': min_samples_split,\n",
    "    'model__min_samples_leaf': min_samples_leaf,\n",
    "}\n"
   ]
  },
  {
   "cell_type": "code",
   "execution_count": 553,
   "metadata": {},
   "outputs": [],
   "source": [
    "# Random Forest\n",
    "\n",
    "rf = RandomForestClassifier(random_state=89)\n",
    "\n",
    "rf_pipe = Pipeline([\n",
    "    ('preprocessing', preprocessor),\n",
    "    ('feature selection', rfe_selector),\n",
    "    ('model', rf)\n",
    "])\n",
    "\n",
    "random_rf = RandomizedSearchCV(\n",
    "    rf_pipe, \n",
    "    param_distributions = hyperparam_space_rf,\n",
    "    cv = skfold,\n",
    "    scoring= 'f1',\n",
    "    n_jobs= -1, \n",
    "    random_state=0,\n",
    "    n_iter=20\n",
    "\n",
    ")"
   ]
  },
  {
   "cell_type": "code",
   "execution_count": 554,
   "metadata": {},
   "outputs": [
    {
     "data": {
      "text/html": [
       "<style>#sk-container-id-15 {color: black;background-color: white;}#sk-container-id-15 pre{padding: 0;}#sk-container-id-15 div.sk-toggleable {background-color: white;}#sk-container-id-15 label.sk-toggleable__label {cursor: pointer;display: block;width: 100%;margin-bottom: 0;padding: 0.3em;box-sizing: border-box;text-align: center;}#sk-container-id-15 label.sk-toggleable__label-arrow:before {content: \"▸\";float: left;margin-right: 0.25em;color: #696969;}#sk-container-id-15 label.sk-toggleable__label-arrow:hover:before {color: black;}#sk-container-id-15 div.sk-estimator:hover label.sk-toggleable__label-arrow:before {color: black;}#sk-container-id-15 div.sk-toggleable__content {max-height: 0;max-width: 0;overflow: hidden;text-align: left;background-color: #f0f8ff;}#sk-container-id-15 div.sk-toggleable__content pre {margin: 0.2em;color: black;border-radius: 0.25em;background-color: #f0f8ff;}#sk-container-id-15 input.sk-toggleable__control:checked~div.sk-toggleable__content {max-height: 200px;max-width: 100%;overflow: auto;}#sk-container-id-15 input.sk-toggleable__control:checked~label.sk-toggleable__label-arrow:before {content: \"▾\";}#sk-container-id-15 div.sk-estimator input.sk-toggleable__control:checked~label.sk-toggleable__label {background-color: #d4ebff;}#sk-container-id-15 div.sk-label input.sk-toggleable__control:checked~label.sk-toggleable__label {background-color: #d4ebff;}#sk-container-id-15 input.sk-hidden--visually {border: 0;clip: rect(1px 1px 1px 1px);clip: rect(1px, 1px, 1px, 1px);height: 1px;margin: -1px;overflow: hidden;padding: 0;position: absolute;width: 1px;}#sk-container-id-15 div.sk-estimator {font-family: monospace;background-color: #f0f8ff;border: 1px dotted black;border-radius: 0.25em;box-sizing: border-box;margin-bottom: 0.5em;}#sk-container-id-15 div.sk-estimator:hover {background-color: #d4ebff;}#sk-container-id-15 div.sk-parallel-item::after {content: \"\";width: 100%;border-bottom: 1px solid gray;flex-grow: 1;}#sk-container-id-15 div.sk-label:hover label.sk-toggleable__label {background-color: #d4ebff;}#sk-container-id-15 div.sk-serial::before {content: \"\";position: absolute;border-left: 1px solid gray;box-sizing: border-box;top: 0;bottom: 0;left: 50%;z-index: 0;}#sk-container-id-15 div.sk-serial {display: flex;flex-direction: column;align-items: center;background-color: white;padding-right: 0.2em;padding-left: 0.2em;position: relative;}#sk-container-id-15 div.sk-item {position: relative;z-index: 1;}#sk-container-id-15 div.sk-parallel {display: flex;align-items: stretch;justify-content: center;background-color: white;position: relative;}#sk-container-id-15 div.sk-item::before, #sk-container-id-15 div.sk-parallel-item::before {content: \"\";position: absolute;border-left: 1px solid gray;box-sizing: border-box;top: 0;bottom: 0;left: 50%;z-index: -1;}#sk-container-id-15 div.sk-parallel-item {display: flex;flex-direction: column;z-index: 1;position: relative;background-color: white;}#sk-container-id-15 div.sk-parallel-item:first-child::after {align-self: flex-end;width: 50%;}#sk-container-id-15 div.sk-parallel-item:last-child::after {align-self: flex-start;width: 50%;}#sk-container-id-15 div.sk-parallel-item:only-child::after {width: 0;}#sk-container-id-15 div.sk-dashed-wrapped {border: 1px dashed gray;margin: 0 0.4em 0.5em 0.4em;box-sizing: border-box;padding-bottom: 0.4em;background-color: white;}#sk-container-id-15 div.sk-label label {font-family: monospace;font-weight: bold;display: inline-block;line-height: 1.2em;}#sk-container-id-15 div.sk-label-container {text-align: center;}#sk-container-id-15 div.sk-container {/* jupyter's `normalize.less` sets `[hidden] { display: none; }` but bootstrap.min.css set `[hidden] { display: none !important; }` so we also need the `!important` here to be able to override the default hidden behavior on the sphinx rendered scikit-learn.org. See: https://github.com/scikit-learn/scikit-learn/issues/21755 */display: inline-block !important;position: relative;}#sk-container-id-15 div.sk-text-repr-fallback {display: none;}</style><div id=\"sk-container-id-15\" class=\"sk-top-container\"><div class=\"sk-text-repr-fallback\"><pre>RandomizedSearchCV(cv=StratifiedKFold(n_splits=5, random_state=89, shuffle=True),\n",
       "                   estimator=Pipeline(steps=[(&#x27;preprocessing&#x27;,\n",
       "                                              ColumnTransformer(remainder=&#x27;passthrough&#x27;,\n",
       "                                                                transformers=[(&#x27;num&#x27;,\n",
       "                                                                               Pipeline(steps=[(&#x27;imputer&#x27;,\n",
       "                                                                                                SimpleImputer(strategy=&#x27;median&#x27;))]),\n",
       "                                                                               [&#x27;previous_cancellations&#x27;,\n",
       "                                                                                &#x27;booking_changes&#x27;,\n",
       "                                                                                &#x27;days_in_waiting_list&#x27;,\n",
       "                                                                                &#x27;required_car_parking_spaces&#x27;,\n",
       "                                                                                &#x27;tota...\n",
       "                                        &#x27;model__max_features&#x27;: [2, 3, 4, 5, 6,\n",
       "                                                                7, 8],\n",
       "                                        &#x27;model__min_samples_leaf&#x27;: [1, 2, 3, 4,\n",
       "                                                                    5, 6, 7, 8,\n",
       "                                                                    9, 10, 11,\n",
       "                                                                    12, 13, 14,\n",
       "                                                                    15, 16, 17,\n",
       "                                                                    18, 19,\n",
       "                                                                    20],\n",
       "                                        &#x27;model__min_samples_split&#x27;: [2, 3, 4, 5,\n",
       "                                                                     6, 7, 8, 9,\n",
       "                                                                     10, 11, 12,\n",
       "                                                                     13, 14, 15,\n",
       "                                                                     16, 17, 18,\n",
       "                                                                     19, 20],\n",
       "                                        &#x27;model__n_estimators&#x27;: [100, 101, 102,\n",
       "                                                                103, 104, 105,\n",
       "                                                                106, 107, 108,\n",
       "                                                                109, 110, 111,\n",
       "                                                                112, 113, 114,\n",
       "                                                                115, 116, 117,\n",
       "                                                                118, 119, 120,\n",
       "                                                                121, 122, 123,\n",
       "                                                                124, 125, 126,\n",
       "                                                                127, 128, 129, ...]},\n",
       "                   random_state=0, scoring=&#x27;f1&#x27;)</pre><b>In a Jupyter environment, please rerun this cell to show the HTML representation or trust the notebook. <br />On GitHub, the HTML representation is unable to render, please try loading this page with nbviewer.org.</b></div><div class=\"sk-container\" hidden><div class=\"sk-item sk-dashed-wrapped\"><div class=\"sk-label-container\"><div class=\"sk-label sk-toggleable\"><input class=\"sk-toggleable__control sk-hidden--visually\" id=\"sk-estimator-id-41\" type=\"checkbox\" ><label for=\"sk-estimator-id-41\" class=\"sk-toggleable__label sk-toggleable__label-arrow\">RandomizedSearchCV</label><div class=\"sk-toggleable__content\"><pre>RandomizedSearchCV(cv=StratifiedKFold(n_splits=5, random_state=89, shuffle=True),\n",
       "                   estimator=Pipeline(steps=[(&#x27;preprocessing&#x27;,\n",
       "                                              ColumnTransformer(remainder=&#x27;passthrough&#x27;,\n",
       "                                                                transformers=[(&#x27;num&#x27;,\n",
       "                                                                               Pipeline(steps=[(&#x27;imputer&#x27;,\n",
       "                                                                                                SimpleImputer(strategy=&#x27;median&#x27;))]),\n",
       "                                                                               [&#x27;previous_cancellations&#x27;,\n",
       "                                                                                &#x27;booking_changes&#x27;,\n",
       "                                                                                &#x27;days_in_waiting_list&#x27;,\n",
       "                                                                                &#x27;required_car_parking_spaces&#x27;,\n",
       "                                                                                &#x27;tota...\n",
       "                                        &#x27;model__max_features&#x27;: [2, 3, 4, 5, 6,\n",
       "                                                                7, 8],\n",
       "                                        &#x27;model__min_samples_leaf&#x27;: [1, 2, 3, 4,\n",
       "                                                                    5, 6, 7, 8,\n",
       "                                                                    9, 10, 11,\n",
       "                                                                    12, 13, 14,\n",
       "                                                                    15, 16, 17,\n",
       "                                                                    18, 19,\n",
       "                                                                    20],\n",
       "                                        &#x27;model__min_samples_split&#x27;: [2, 3, 4, 5,\n",
       "                                                                     6, 7, 8, 9,\n",
       "                                                                     10, 11, 12,\n",
       "                                                                     13, 14, 15,\n",
       "                                                                     16, 17, 18,\n",
       "                                                                     19, 20],\n",
       "                                        &#x27;model__n_estimators&#x27;: [100, 101, 102,\n",
       "                                                                103, 104, 105,\n",
       "                                                                106, 107, 108,\n",
       "                                                                109, 110, 111,\n",
       "                                                                112, 113, 114,\n",
       "                                                                115, 116, 117,\n",
       "                                                                118, 119, 120,\n",
       "                                                                121, 122, 123,\n",
       "                                                                124, 125, 126,\n",
       "                                                                127, 128, 129, ...]},\n",
       "                   random_state=0, scoring=&#x27;f1&#x27;)</pre></div></div></div><div class=\"sk-parallel\"><div class=\"sk-parallel-item\"><div class=\"sk-item\"><div class=\"sk-label-container\"><div class=\"sk-label sk-toggleable\"><input class=\"sk-toggleable__control sk-hidden--visually\" id=\"sk-estimator-id-42\" type=\"checkbox\" ><label for=\"sk-estimator-id-42\" class=\"sk-toggleable__label sk-toggleable__label-arrow\">estimator: Pipeline</label><div class=\"sk-toggleable__content\"><pre>Pipeline(steps=[(&#x27;preprocessing&#x27;,\n",
       "                 ColumnTransformer(remainder=&#x27;passthrough&#x27;,\n",
       "                                   transformers=[(&#x27;num&#x27;,\n",
       "                                                  Pipeline(steps=[(&#x27;imputer&#x27;,\n",
       "                                                                   SimpleImputer(strategy=&#x27;median&#x27;))]),\n",
       "                                                  [&#x27;previous_cancellations&#x27;,\n",
       "                                                   &#x27;booking_changes&#x27;,\n",
       "                                                   &#x27;days_in_waiting_list&#x27;,\n",
       "                                                   &#x27;required_car_parking_spaces&#x27;,\n",
       "                                                   &#x27;total_of_special_requests&#x27;]),\n",
       "                                                 (&#x27;binary&#x27;,\n",
       "                                                  Pipeline(steps=[(&#x27;imputer&#x27;,\n",
       "                                                                   SimpleImputer(fill_value=&#x27;Missing&#x27;,\n",
       "                                                                                 strategy=&#x27;constant&#x27;)),\n",
       "                                                                  (&#x27;binary&#x27;,\n",
       "                                                                   BinaryEncoder())]),\n",
       "                                                  [&#x27;country&#x27;,\n",
       "                                                   &#x27;reserved_room_type&#x27;,\n",
       "                                                   &#x27;market_segment&#x27;]),\n",
       "                                                 (&#x27;onehot&#x27;,\n",
       "                                                  Pipeline(steps=[(&#x27;imputer&#x27;,\n",
       "                                                                   SimpleImputer(fill_value=&#x27;Missing&#x27;,\n",
       "                                                                                 strategy=&#x27;constant&#x27;)),\n",
       "                                                                  (&#x27;onehot&#x27;,\n",
       "                                                                   OneHotEncoder(drop=&#x27;first&#x27;))]),\n",
       "                                                  [&#x27;deposit_type&#x27;,\n",
       "                                                   &#x27;customer_type&#x27;])])),\n",
       "                (&#x27;model&#x27;, RandomForestClassifier(random_state=89))])</pre></div></div></div><div class=\"sk-serial\"><div class=\"sk-item\"><div class=\"sk-serial\"><div class=\"sk-item sk-dashed-wrapped\"><div class=\"sk-label-container\"><div class=\"sk-label sk-toggleable\"><input class=\"sk-toggleable__control sk-hidden--visually\" id=\"sk-estimator-id-43\" type=\"checkbox\" ><label for=\"sk-estimator-id-43\" class=\"sk-toggleable__label sk-toggleable__label-arrow\">preprocessing: ColumnTransformer</label><div class=\"sk-toggleable__content\"><pre>ColumnTransformer(remainder=&#x27;passthrough&#x27;,\n",
       "                  transformers=[(&#x27;num&#x27;,\n",
       "                                 Pipeline(steps=[(&#x27;imputer&#x27;,\n",
       "                                                  SimpleImputer(strategy=&#x27;median&#x27;))]),\n",
       "                                 [&#x27;previous_cancellations&#x27;, &#x27;booking_changes&#x27;,\n",
       "                                  &#x27;days_in_waiting_list&#x27;,\n",
       "                                  &#x27;required_car_parking_spaces&#x27;,\n",
       "                                  &#x27;total_of_special_requests&#x27;]),\n",
       "                                (&#x27;binary&#x27;,\n",
       "                                 Pipeline(steps=[(&#x27;imputer&#x27;,\n",
       "                                                  SimpleImputer(fill_value=&#x27;Missing&#x27;,\n",
       "                                                                strategy=&#x27;constant&#x27;)),\n",
       "                                                 (&#x27;binary&#x27;, BinaryEncoder())]),\n",
       "                                 [&#x27;country&#x27;, &#x27;reserved_room_type&#x27;,\n",
       "                                  &#x27;market_segment&#x27;]),\n",
       "                                (&#x27;onehot&#x27;,\n",
       "                                 Pipeline(steps=[(&#x27;imputer&#x27;,\n",
       "                                                  SimpleImputer(fill_value=&#x27;Missing&#x27;,\n",
       "                                                                strategy=&#x27;constant&#x27;)),\n",
       "                                                 (&#x27;onehot&#x27;,\n",
       "                                                  OneHotEncoder(drop=&#x27;first&#x27;))]),\n",
       "                                 [&#x27;deposit_type&#x27;, &#x27;customer_type&#x27;])])</pre></div></div></div><div class=\"sk-parallel\"><div class=\"sk-parallel-item\"><div class=\"sk-item\"><div class=\"sk-label-container\"><div class=\"sk-label sk-toggleable\"><input class=\"sk-toggleable__control sk-hidden--visually\" id=\"sk-estimator-id-44\" type=\"checkbox\" ><label for=\"sk-estimator-id-44\" class=\"sk-toggleable__label sk-toggleable__label-arrow\">num</label><div class=\"sk-toggleable__content\"><pre>[&#x27;previous_cancellations&#x27;, &#x27;booking_changes&#x27;, &#x27;days_in_waiting_list&#x27;, &#x27;required_car_parking_spaces&#x27;, &#x27;total_of_special_requests&#x27;]</pre></div></div></div><div class=\"sk-serial\"><div class=\"sk-item\"><div class=\"sk-serial\"><div class=\"sk-item\"><div class=\"sk-estimator sk-toggleable\"><input class=\"sk-toggleable__control sk-hidden--visually\" id=\"sk-estimator-id-45\" type=\"checkbox\" ><label for=\"sk-estimator-id-45\" class=\"sk-toggleable__label sk-toggleable__label-arrow\">SimpleImputer</label><div class=\"sk-toggleable__content\"><pre>SimpleImputer(strategy=&#x27;median&#x27;)</pre></div></div></div></div></div></div></div></div><div class=\"sk-parallel-item\"><div class=\"sk-item\"><div class=\"sk-label-container\"><div class=\"sk-label sk-toggleable\"><input class=\"sk-toggleable__control sk-hidden--visually\" id=\"sk-estimator-id-46\" type=\"checkbox\" ><label for=\"sk-estimator-id-46\" class=\"sk-toggleable__label sk-toggleable__label-arrow\">binary</label><div class=\"sk-toggleable__content\"><pre>[&#x27;country&#x27;, &#x27;reserved_room_type&#x27;, &#x27;market_segment&#x27;]</pre></div></div></div><div class=\"sk-serial\"><div class=\"sk-item\"><div class=\"sk-serial\"><div class=\"sk-item\"><div class=\"sk-estimator sk-toggleable\"><input class=\"sk-toggleable__control sk-hidden--visually\" id=\"sk-estimator-id-47\" type=\"checkbox\" ><label for=\"sk-estimator-id-47\" class=\"sk-toggleable__label sk-toggleable__label-arrow\">SimpleImputer</label><div class=\"sk-toggleable__content\"><pre>SimpleImputer(fill_value=&#x27;Missing&#x27;, strategy=&#x27;constant&#x27;)</pre></div></div></div><div class=\"sk-item\"><div class=\"sk-estimator sk-toggleable\"><input class=\"sk-toggleable__control sk-hidden--visually\" id=\"sk-estimator-id-48\" type=\"checkbox\" ><label for=\"sk-estimator-id-48\" class=\"sk-toggleable__label sk-toggleable__label-arrow\">BinaryEncoder</label><div class=\"sk-toggleable__content\"><pre>BinaryEncoder()</pre></div></div></div></div></div></div></div></div><div class=\"sk-parallel-item\"><div class=\"sk-item\"><div class=\"sk-label-container\"><div class=\"sk-label sk-toggleable\"><input class=\"sk-toggleable__control sk-hidden--visually\" id=\"sk-estimator-id-49\" type=\"checkbox\" ><label for=\"sk-estimator-id-49\" class=\"sk-toggleable__label sk-toggleable__label-arrow\">onehot</label><div class=\"sk-toggleable__content\"><pre>[&#x27;deposit_type&#x27;, &#x27;customer_type&#x27;]</pre></div></div></div><div class=\"sk-serial\"><div class=\"sk-item\"><div class=\"sk-serial\"><div class=\"sk-item\"><div class=\"sk-estimator sk-toggleable\"><input class=\"sk-toggleable__control sk-hidden--visually\" id=\"sk-estimator-id-50\" type=\"checkbox\" ><label for=\"sk-estimator-id-50\" class=\"sk-toggleable__label sk-toggleable__label-arrow\">SimpleImputer</label><div class=\"sk-toggleable__content\"><pre>SimpleImputer(fill_value=&#x27;Missing&#x27;, strategy=&#x27;constant&#x27;)</pre></div></div></div><div class=\"sk-item\"><div class=\"sk-estimator sk-toggleable\"><input class=\"sk-toggleable__control sk-hidden--visually\" id=\"sk-estimator-id-51\" type=\"checkbox\" ><label for=\"sk-estimator-id-51\" class=\"sk-toggleable__label sk-toggleable__label-arrow\">OneHotEncoder</label><div class=\"sk-toggleable__content\"><pre>OneHotEncoder(drop=&#x27;first&#x27;)</pre></div></div></div></div></div></div></div></div><div class=\"sk-parallel-item\"><div class=\"sk-item\"><div class=\"sk-label-container\"><div class=\"sk-label sk-toggleable\"><input class=\"sk-toggleable__control sk-hidden--visually\" id=\"sk-estimator-id-52\" type=\"checkbox\" ><label for=\"sk-estimator-id-52\" class=\"sk-toggleable__label sk-toggleable__label-arrow\">remainder</label><div class=\"sk-toggleable__content\"><pre>[]</pre></div></div></div><div class=\"sk-serial\"><div class=\"sk-item\"><div class=\"sk-estimator sk-toggleable\"><input class=\"sk-toggleable__control sk-hidden--visually\" id=\"sk-estimator-id-53\" type=\"checkbox\" ><label for=\"sk-estimator-id-53\" class=\"sk-toggleable__label sk-toggleable__label-arrow\">passthrough</label><div class=\"sk-toggleable__content\"><pre>passthrough</pre></div></div></div></div></div></div></div></div><div class=\"sk-item\"><div class=\"sk-estimator sk-toggleable\"><input class=\"sk-toggleable__control sk-hidden--visually\" id=\"sk-estimator-id-54\" type=\"checkbox\" ><label for=\"sk-estimator-id-54\" class=\"sk-toggleable__label sk-toggleable__label-arrow\">RandomForestClassifier</label><div class=\"sk-toggleable__content\"><pre>RandomForestClassifier(random_state=89)</pre></div></div></div></div></div></div></div></div></div></div></div></div>"
      ],
      "text/plain": [
       "RandomizedSearchCV(cv=StratifiedKFold(n_splits=5, random_state=89, shuffle=True),\n",
       "                   estimator=Pipeline(steps=[('preprocessing',\n",
       "                                              ColumnTransformer(remainder='passthrough',\n",
       "                                                                transformers=[('num',\n",
       "                                                                               Pipeline(steps=[('imputer',\n",
       "                                                                                                SimpleImputer(strategy='median'))]),\n",
       "                                                                               ['previous_cancellations',\n",
       "                                                                                'booking_changes',\n",
       "                                                                                'days_in_waiting_list',\n",
       "                                                                                'required_car_parking_spaces',\n",
       "                                                                                'tota...\n",
       "                                        'model__max_features': [2, 3, 4, 5, 6,\n",
       "                                                                7, 8],\n",
       "                                        'model__min_samples_leaf': [1, 2, 3, 4,\n",
       "                                                                    5, 6, 7, 8,\n",
       "                                                                    9, 10, 11,\n",
       "                                                                    12, 13, 14,\n",
       "                                                                    15, 16, 17,\n",
       "                                                                    18, 19,\n",
       "                                                                    20],\n",
       "                                        'model__min_samples_split': [2, 3, 4, 5,\n",
       "                                                                     6, 7, 8, 9,\n",
       "                                                                     10, 11, 12,\n",
       "                                                                     13, 14, 15,\n",
       "                                                                     16, 17, 18,\n",
       "                                                                     19, 20],\n",
       "                                        'model__n_estimators': [100, 101, 102,\n",
       "                                                                103, 104, 105,\n",
       "                                                                106, 107, 108,\n",
       "                                                                109, 110, 111,\n",
       "                                                                112, 113, 114,\n",
       "                                                                115, 116, 117,\n",
       "                                                                118, 119, 120,\n",
       "                                                                121, 122, 123,\n",
       "                                                                124, 125, 126,\n",
       "                                                                127, 128, 129, ...]},\n",
       "                   random_state=0, scoring='f1')"
      ]
     },
     "execution_count": 554,
     "metadata": {},
     "output_type": "execute_result"
    }
   ],
   "source": [
    "random_rf.fit(X_train, y_train)"
   ]
  },
  {
   "cell_type": "code",
   "execution_count": 555,
   "metadata": {},
   "outputs": [
    {
     "data": {
      "text/html": [
       "<div>\n",
       "<style scoped>\n",
       "    .dataframe tbody tr th:only-of-type {\n",
       "        vertical-align: middle;\n",
       "    }\n",
       "\n",
       "    .dataframe tbody tr th {\n",
       "        vertical-align: top;\n",
       "    }\n",
       "\n",
       "    .dataframe thead th {\n",
       "        text-align: right;\n",
       "    }\n",
       "</style>\n",
       "<table border=\"1\" class=\"dataframe\">\n",
       "  <thead>\n",
       "    <tr style=\"text-align: right;\">\n",
       "      <th></th>\n",
       "      <th>mean_fit_time</th>\n",
       "      <th>std_fit_time</th>\n",
       "      <th>mean_score_time</th>\n",
       "      <th>std_score_time</th>\n",
       "      <th>param_model__n_estimators</th>\n",
       "      <th>param_model__min_samples_split</th>\n",
       "      <th>param_model__min_samples_leaf</th>\n",
       "      <th>param_model__max_features</th>\n",
       "      <th>param_model__max_depth</th>\n",
       "      <th>params</th>\n",
       "      <th>split0_test_score</th>\n",
       "      <th>split1_test_score</th>\n",
       "      <th>split2_test_score</th>\n",
       "      <th>split3_test_score</th>\n",
       "      <th>split4_test_score</th>\n",
       "      <th>mean_test_score</th>\n",
       "      <th>std_test_score</th>\n",
       "      <th>rank_test_score</th>\n",
       "    </tr>\n",
       "  </thead>\n",
       "  <tbody>\n",
       "    <tr>\n",
       "      <th>6</th>\n",
       "      <td>57.128610</td>\n",
       "      <td>1.522581</td>\n",
       "      <td>2.517371</td>\n",
       "      <td>0.034136</td>\n",
       "      <td>741</td>\n",
       "      <td>18</td>\n",
       "      <td>6</td>\n",
       "      <td>7</td>\n",
       "      <td>37</td>\n",
       "      <td>{'model__n_estimators': 741, 'model__min_sampl...</td>\n",
       "      <td>0.715141</td>\n",
       "      <td>0.722391</td>\n",
       "      <td>0.726302</td>\n",
       "      <td>0.733864</td>\n",
       "      <td>0.723100</td>\n",
       "      <td>0.724160</td>\n",
       "      <td>0.006072</td>\n",
       "      <td>1</td>\n",
       "    </tr>\n",
       "    <tr>\n",
       "      <th>1</th>\n",
       "      <td>22.860017</td>\n",
       "      <td>0.435887</td>\n",
       "      <td>1.146866</td>\n",
       "      <td>0.091302</td>\n",
       "      <td>291</td>\n",
       "      <td>4</td>\n",
       "      <td>7</td>\n",
       "      <td>8</td>\n",
       "      <td>98</td>\n",
       "      <td>{'model__n_estimators': 291, 'model__min_sampl...</td>\n",
       "      <td>0.713772</td>\n",
       "      <td>0.722591</td>\n",
       "      <td>0.726387</td>\n",
       "      <td>0.734040</td>\n",
       "      <td>0.723638</td>\n",
       "      <td>0.724086</td>\n",
       "      <td>0.006530</td>\n",
       "      <td>2</td>\n",
       "    </tr>\n",
       "    <tr>\n",
       "      <th>7</th>\n",
       "      <td>71.483386</td>\n",
       "      <td>0.438790</td>\n",
       "      <td>3.071605</td>\n",
       "      <td>0.115797</td>\n",
       "      <td>930</td>\n",
       "      <td>5</td>\n",
       "      <td>17</td>\n",
       "      <td>8</td>\n",
       "      <td>27</td>\n",
       "      <td>{'model__n_estimators': 930, 'model__min_sampl...</td>\n",
       "      <td>0.712931</td>\n",
       "      <td>0.720346</td>\n",
       "      <td>0.727627</td>\n",
       "      <td>0.728111</td>\n",
       "      <td>0.719568</td>\n",
       "      <td>0.721716</td>\n",
       "      <td>0.005648</td>\n",
       "      <td>3</td>\n",
       "    </tr>\n",
       "    <tr>\n",
       "      <th>2</th>\n",
       "      <td>110.338769</td>\n",
       "      <td>0.635123</td>\n",
       "      <td>5.928494</td>\n",
       "      <td>0.462705</td>\n",
       "      <td>1773</td>\n",
       "      <td>5</td>\n",
       "      <td>11</td>\n",
       "      <td>6</td>\n",
       "      <td>96</td>\n",
       "      <td>{'model__n_estimators': 1773, 'model__min_samp...</td>\n",
       "      <td>0.712414</td>\n",
       "      <td>0.719625</td>\n",
       "      <td>0.727940</td>\n",
       "      <td>0.725718</td>\n",
       "      <td>0.719774</td>\n",
       "      <td>0.721095</td>\n",
       "      <td>0.005431</td>\n",
       "      <td>4</td>\n",
       "    </tr>\n",
       "    <tr>\n",
       "      <th>18</th>\n",
       "      <td>57.148240</td>\n",
       "      <td>0.376535</td>\n",
       "      <td>2.588712</td>\n",
       "      <td>0.069156</td>\n",
       "      <td>776</td>\n",
       "      <td>12</td>\n",
       "      <td>16</td>\n",
       "      <td>7</td>\n",
       "      <td>77</td>\n",
       "      <td>{'model__n_estimators': 776, 'model__min_sampl...</td>\n",
       "      <td>0.711881</td>\n",
       "      <td>0.720487</td>\n",
       "      <td>0.725560</td>\n",
       "      <td>0.727337</td>\n",
       "      <td>0.717750</td>\n",
       "      <td>0.720603</td>\n",
       "      <td>0.005553</td>\n",
       "      <td>5</td>\n",
       "    </tr>\n",
       "    <tr>\n",
       "      <th>16</th>\n",
       "      <td>143.386498</td>\n",
       "      <td>1.474521</td>\n",
       "      <td>5.786785</td>\n",
       "      <td>0.735432</td>\n",
       "      <td>1947</td>\n",
       "      <td>10</td>\n",
       "      <td>17</td>\n",
       "      <td>7</td>\n",
       "      <td>72</td>\n",
       "      <td>{'model__n_estimators': 1947, 'model__min_samp...</td>\n",
       "      <td>0.711710</td>\n",
       "      <td>0.719672</td>\n",
       "      <td>0.725873</td>\n",
       "      <td>0.727552</td>\n",
       "      <td>0.718051</td>\n",
       "      <td>0.720572</td>\n",
       "      <td>0.005701</td>\n",
       "      <td>6</td>\n",
       "    </tr>\n",
       "    <tr>\n",
       "      <th>15</th>\n",
       "      <td>108.469540</td>\n",
       "      <td>0.607584</td>\n",
       "      <td>6.192533</td>\n",
       "      <td>0.224881</td>\n",
       "      <td>1654</td>\n",
       "      <td>5</td>\n",
       "      <td>5</td>\n",
       "      <td>5</td>\n",
       "      <td>55</td>\n",
       "      <td>{'model__n_estimators': 1654, 'model__min_samp...</td>\n",
       "      <td>0.711336</td>\n",
       "      <td>0.719109</td>\n",
       "      <td>0.724668</td>\n",
       "      <td>0.722509</td>\n",
       "      <td>0.721354</td>\n",
       "      <td>0.719795</td>\n",
       "      <td>0.004595</td>\n",
       "      <td>7</td>\n",
       "    </tr>\n",
       "    <tr>\n",
       "      <th>0</th>\n",
       "      <td>47.161905</td>\n",
       "      <td>0.143384</td>\n",
       "      <td>2.602774</td>\n",
       "      <td>0.047381</td>\n",
       "      <td>796</td>\n",
       "      <td>12</td>\n",
       "      <td>8</td>\n",
       "      <td>5</td>\n",
       "      <td>61</td>\n",
       "      <td>{'model__n_estimators': 796, 'model__min_sampl...</td>\n",
       "      <td>0.710122</td>\n",
       "      <td>0.719080</td>\n",
       "      <td>0.722229</td>\n",
       "      <td>0.722382</td>\n",
       "      <td>0.718112</td>\n",
       "      <td>0.718385</td>\n",
       "      <td>0.004463</td>\n",
       "      <td>8</td>\n",
       "    </tr>\n",
       "    <tr>\n",
       "      <th>17</th>\n",
       "      <td>33.569648</td>\n",
       "      <td>0.419880</td>\n",
       "      <td>1.835947</td>\n",
       "      <td>0.113841</td>\n",
       "      <td>543</td>\n",
       "      <td>16</td>\n",
       "      <td>18</td>\n",
       "      <td>5</td>\n",
       "      <td>44</td>\n",
       "      <td>{'model__n_estimators': 543, 'model__min_sampl...</td>\n",
       "      <td>0.702290</td>\n",
       "      <td>0.716253</td>\n",
       "      <td>0.725558</td>\n",
       "      <td>0.709384</td>\n",
       "      <td>0.712299</td>\n",
       "      <td>0.713157</td>\n",
       "      <td>0.007700</td>\n",
       "      <td>9</td>\n",
       "    </tr>\n",
       "    <tr>\n",
       "      <th>5</th>\n",
       "      <td>72.342988</td>\n",
       "      <td>0.591234</td>\n",
       "      <td>4.107658</td>\n",
       "      <td>0.160192</td>\n",
       "      <td>1261</td>\n",
       "      <td>14</td>\n",
       "      <td>9</td>\n",
       "      <td>4</td>\n",
       "      <td>61</td>\n",
       "      <td>{'model__n_estimators': 1261, 'model__min_samp...</td>\n",
       "      <td>0.703754</td>\n",
       "      <td>0.711308</td>\n",
       "      <td>0.717720</td>\n",
       "      <td>0.706394</td>\n",
       "      <td>0.712437</td>\n",
       "      <td>0.710323</td>\n",
       "      <td>0.004873</td>\n",
       "      <td>10</td>\n",
       "    </tr>\n",
       "    <tr>\n",
       "      <th>12</th>\n",
       "      <td>113.600489</td>\n",
       "      <td>0.445450</td>\n",
       "      <td>6.288712</td>\n",
       "      <td>0.093165</td>\n",
       "      <td>1972</td>\n",
       "      <td>12</td>\n",
       "      <td>9</td>\n",
       "      <td>4</td>\n",
       "      <td>95</td>\n",
       "      <td>{'model__n_estimators': 1972, 'model__min_samp...</td>\n",
       "      <td>0.704045</td>\n",
       "      <td>0.711308</td>\n",
       "      <td>0.717552</td>\n",
       "      <td>0.706394</td>\n",
       "      <td>0.710396</td>\n",
       "      <td>0.709939</td>\n",
       "      <td>0.004633</td>\n",
       "      <td>11</td>\n",
       "    </tr>\n",
       "    <tr>\n",
       "      <th>14</th>\n",
       "      <td>18.507499</td>\n",
       "      <td>0.390656</td>\n",
       "      <td>1.240761</td>\n",
       "      <td>0.027933</td>\n",
       "      <td>358</td>\n",
       "      <td>8</td>\n",
       "      <td>5</td>\n",
       "      <td>3</td>\n",
       "      <td>27</td>\n",
       "      <td>{'model__n_estimators': 358, 'model__min_sampl...</td>\n",
       "      <td>0.697454</td>\n",
       "      <td>0.709354</td>\n",
       "      <td>0.708475</td>\n",
       "      <td>0.704585</td>\n",
       "      <td>0.703603</td>\n",
       "      <td>0.704694</td>\n",
       "      <td>0.004234</td>\n",
       "      <td>12</td>\n",
       "    </tr>\n",
       "    <tr>\n",
       "      <th>9</th>\n",
       "      <td>47.902526</td>\n",
       "      <td>1.178916</td>\n",
       "      <td>2.615063</td>\n",
       "      <td>0.030746</td>\n",
       "      <td>875</td>\n",
       "      <td>9</td>\n",
       "      <td>16</td>\n",
       "      <td>4</td>\n",
       "      <td>60</td>\n",
       "      <td>{'model__n_estimators': 875, 'model__min_sampl...</td>\n",
       "      <td>0.698515</td>\n",
       "      <td>0.705163</td>\n",
       "      <td>0.709840</td>\n",
       "      <td>0.699183</td>\n",
       "      <td>0.699567</td>\n",
       "      <td>0.702453</td>\n",
       "      <td>0.004392</td>\n",
       "      <td>13</td>\n",
       "    </tr>\n",
       "    <tr>\n",
       "      <th>8</th>\n",
       "      <td>97.276818</td>\n",
       "      <td>0.492747</td>\n",
       "      <td>5.855634</td>\n",
       "      <td>0.137442</td>\n",
       "      <td>1920</td>\n",
       "      <td>6</td>\n",
       "      <td>7</td>\n",
       "      <td>3</td>\n",
       "      <td>73</td>\n",
       "      <td>{'model__n_estimators': 1920, 'model__min_samp...</td>\n",
       "      <td>0.685656</td>\n",
       "      <td>0.692911</td>\n",
       "      <td>0.706212</td>\n",
       "      <td>0.687775</td>\n",
       "      <td>0.699063</td>\n",
       "      <td>0.694323</td>\n",
       "      <td>0.007534</td>\n",
       "      <td>14</td>\n",
       "    </tr>\n",
       "    <tr>\n",
       "      <th>11</th>\n",
       "      <td>23.610871</td>\n",
       "      <td>0.295858</td>\n",
       "      <td>1.558644</td>\n",
       "      <td>0.038186</td>\n",
       "      <td>476</td>\n",
       "      <td>9</td>\n",
       "      <td>8</td>\n",
       "      <td>3</td>\n",
       "      <td>68</td>\n",
       "      <td>{'model__n_estimators': 476, 'model__min_sampl...</td>\n",
       "      <td>0.691551</td>\n",
       "      <td>0.692658</td>\n",
       "      <td>0.704459</td>\n",
       "      <td>0.683541</td>\n",
       "      <td>0.698484</td>\n",
       "      <td>0.694139</td>\n",
       "      <td>0.007023</td>\n",
       "      <td>15</td>\n",
       "    </tr>\n",
       "    <tr>\n",
       "      <th>13</th>\n",
       "      <td>74.259715</td>\n",
       "      <td>2.603256</td>\n",
       "      <td>4.516566</td>\n",
       "      <td>0.158125</td>\n",
       "      <td>1544</td>\n",
       "      <td>11</td>\n",
       "      <td>16</td>\n",
       "      <td>3</td>\n",
       "      <td>39</td>\n",
       "      <td>{'model__n_estimators': 1544, 'model__min_samp...</td>\n",
       "      <td>0.672585</td>\n",
       "      <td>0.674938</td>\n",
       "      <td>0.688061</td>\n",
       "      <td>0.647999</td>\n",
       "      <td>0.674482</td>\n",
       "      <td>0.671613</td>\n",
       "      <td>0.013026</td>\n",
       "      <td>16</td>\n",
       "    </tr>\n",
       "    <tr>\n",
       "      <th>10</th>\n",
       "      <td>50.528286</td>\n",
       "      <td>0.256780</td>\n",
       "      <td>3.095114</td>\n",
       "      <td>0.076776</td>\n",
       "      <td>1094</td>\n",
       "      <td>12</td>\n",
       "      <td>16</td>\n",
       "      <td>3</td>\n",
       "      <td>34</td>\n",
       "      <td>{'model__n_estimators': 1094, 'model__min_samp...</td>\n",
       "      <td>0.671808</td>\n",
       "      <td>0.675111</td>\n",
       "      <td>0.688077</td>\n",
       "      <td>0.645453</td>\n",
       "      <td>0.674824</td>\n",
       "      <td>0.671055</td>\n",
       "      <td>0.013974</td>\n",
       "      <td>17</td>\n",
       "    </tr>\n",
       "    <tr>\n",
       "      <th>3</th>\n",
       "      <td>43.337650</td>\n",
       "      <td>0.337878</td>\n",
       "      <td>2.735535</td>\n",
       "      <td>0.016075</td>\n",
       "      <td>1188</td>\n",
       "      <td>5</td>\n",
       "      <td>16</td>\n",
       "      <td>2</td>\n",
       "      <td>100</td>\n",
       "      <td>{'model__n_estimators': 1188, 'model__min_samp...</td>\n",
       "      <td>0.593253</td>\n",
       "      <td>0.616154</td>\n",
       "      <td>0.634737</td>\n",
       "      <td>0.577051</td>\n",
       "      <td>0.577463</td>\n",
       "      <td>0.599732</td>\n",
       "      <td>0.022572</td>\n",
       "      <td>18</td>\n",
       "    </tr>\n",
       "    <tr>\n",
       "      <th>19</th>\n",
       "      <td>43.106033</td>\n",
       "      <td>8.832343</td>\n",
       "      <td>2.625137</td>\n",
       "      <td>0.652237</td>\n",
       "      <td>1405</td>\n",
       "      <td>19</td>\n",
       "      <td>16</td>\n",
       "      <td>2</td>\n",
       "      <td>35</td>\n",
       "      <td>{'model__n_estimators': 1405, 'model__min_samp...</td>\n",
       "      <td>0.593458</td>\n",
       "      <td>0.616748</td>\n",
       "      <td>0.617161</td>\n",
       "      <td>0.577051</td>\n",
       "      <td>0.577248</td>\n",
       "      <td>0.596333</td>\n",
       "      <td>0.017860</td>\n",
       "      <td>19</td>\n",
       "    </tr>\n",
       "    <tr>\n",
       "      <th>4</th>\n",
       "      <td>62.713166</td>\n",
       "      <td>2.099145</td>\n",
       "      <td>4.456309</td>\n",
       "      <td>0.234280</td>\n",
       "      <td>1679</td>\n",
       "      <td>19</td>\n",
       "      <td>20</td>\n",
       "      <td>2</td>\n",
       "      <td>58</td>\n",
       "      <td>{'model__n_estimators': 1679, 'model__min_samp...</td>\n",
       "      <td>0.561839</td>\n",
       "      <td>0.584185</td>\n",
       "      <td>0.608032</td>\n",
       "      <td>0.568771</td>\n",
       "      <td>0.574894</td>\n",
       "      <td>0.579544</td>\n",
       "      <td>0.016027</td>\n",
       "      <td>20</td>\n",
       "    </tr>\n",
       "  </tbody>\n",
       "</table>\n",
       "</div>"
      ],
      "text/plain": [
       "    mean_fit_time  std_fit_time  mean_score_time  std_score_time  \\\n",
       "6       57.128610      1.522581         2.517371        0.034136   \n",
       "1       22.860017      0.435887         1.146866        0.091302   \n",
       "7       71.483386      0.438790         3.071605        0.115797   \n",
       "2      110.338769      0.635123         5.928494        0.462705   \n",
       "18      57.148240      0.376535         2.588712        0.069156   \n",
       "16     143.386498      1.474521         5.786785        0.735432   \n",
       "15     108.469540      0.607584         6.192533        0.224881   \n",
       "0       47.161905      0.143384         2.602774        0.047381   \n",
       "17      33.569648      0.419880         1.835947        0.113841   \n",
       "5       72.342988      0.591234         4.107658        0.160192   \n",
       "12     113.600489      0.445450         6.288712        0.093165   \n",
       "14      18.507499      0.390656         1.240761        0.027933   \n",
       "9       47.902526      1.178916         2.615063        0.030746   \n",
       "8       97.276818      0.492747         5.855634        0.137442   \n",
       "11      23.610871      0.295858         1.558644        0.038186   \n",
       "13      74.259715      2.603256         4.516566        0.158125   \n",
       "10      50.528286      0.256780         3.095114        0.076776   \n",
       "3       43.337650      0.337878         2.735535        0.016075   \n",
       "19      43.106033      8.832343         2.625137        0.652237   \n",
       "4       62.713166      2.099145         4.456309        0.234280   \n",
       "\n",
       "   param_model__n_estimators param_model__min_samples_split  \\\n",
       "6                        741                             18   \n",
       "1                        291                              4   \n",
       "7                        930                              5   \n",
       "2                       1773                              5   \n",
       "18                       776                             12   \n",
       "16                      1947                             10   \n",
       "15                      1654                              5   \n",
       "0                        796                             12   \n",
       "17                       543                             16   \n",
       "5                       1261                             14   \n",
       "12                      1972                             12   \n",
       "14                       358                              8   \n",
       "9                        875                              9   \n",
       "8                       1920                              6   \n",
       "11                       476                              9   \n",
       "13                      1544                             11   \n",
       "10                      1094                             12   \n",
       "3                       1188                              5   \n",
       "19                      1405                             19   \n",
       "4                       1679                             19   \n",
       "\n",
       "   param_model__min_samples_leaf param_model__max_features  \\\n",
       "6                              6                         7   \n",
       "1                              7                         8   \n",
       "7                             17                         8   \n",
       "2                             11                         6   \n",
       "18                            16                         7   \n",
       "16                            17                         7   \n",
       "15                             5                         5   \n",
       "0                              8                         5   \n",
       "17                            18                         5   \n",
       "5                              9                         4   \n",
       "12                             9                         4   \n",
       "14                             5                         3   \n",
       "9                             16                         4   \n",
       "8                              7                         3   \n",
       "11                             8                         3   \n",
       "13                            16                         3   \n",
       "10                            16                         3   \n",
       "3                             16                         2   \n",
       "19                            16                         2   \n",
       "4                             20                         2   \n",
       "\n",
       "   param_model__max_depth                                             params  \\\n",
       "6                      37  {'model__n_estimators': 741, 'model__min_sampl...   \n",
       "1                      98  {'model__n_estimators': 291, 'model__min_sampl...   \n",
       "7                      27  {'model__n_estimators': 930, 'model__min_sampl...   \n",
       "2                      96  {'model__n_estimators': 1773, 'model__min_samp...   \n",
       "18                     77  {'model__n_estimators': 776, 'model__min_sampl...   \n",
       "16                     72  {'model__n_estimators': 1947, 'model__min_samp...   \n",
       "15                     55  {'model__n_estimators': 1654, 'model__min_samp...   \n",
       "0                      61  {'model__n_estimators': 796, 'model__min_sampl...   \n",
       "17                     44  {'model__n_estimators': 543, 'model__min_sampl...   \n",
       "5                      61  {'model__n_estimators': 1261, 'model__min_samp...   \n",
       "12                     95  {'model__n_estimators': 1972, 'model__min_samp...   \n",
       "14                     27  {'model__n_estimators': 358, 'model__min_sampl...   \n",
       "9                      60  {'model__n_estimators': 875, 'model__min_sampl...   \n",
       "8                      73  {'model__n_estimators': 1920, 'model__min_samp...   \n",
       "11                     68  {'model__n_estimators': 476, 'model__min_sampl...   \n",
       "13                     39  {'model__n_estimators': 1544, 'model__min_samp...   \n",
       "10                     34  {'model__n_estimators': 1094, 'model__min_samp...   \n",
       "3                     100  {'model__n_estimators': 1188, 'model__min_samp...   \n",
       "19                     35  {'model__n_estimators': 1405, 'model__min_samp...   \n",
       "4                      58  {'model__n_estimators': 1679, 'model__min_samp...   \n",
       "\n",
       "    split0_test_score  split1_test_score  split2_test_score  \\\n",
       "6            0.715141           0.722391           0.726302   \n",
       "1            0.713772           0.722591           0.726387   \n",
       "7            0.712931           0.720346           0.727627   \n",
       "2            0.712414           0.719625           0.727940   \n",
       "18           0.711881           0.720487           0.725560   \n",
       "16           0.711710           0.719672           0.725873   \n",
       "15           0.711336           0.719109           0.724668   \n",
       "0            0.710122           0.719080           0.722229   \n",
       "17           0.702290           0.716253           0.725558   \n",
       "5            0.703754           0.711308           0.717720   \n",
       "12           0.704045           0.711308           0.717552   \n",
       "14           0.697454           0.709354           0.708475   \n",
       "9            0.698515           0.705163           0.709840   \n",
       "8            0.685656           0.692911           0.706212   \n",
       "11           0.691551           0.692658           0.704459   \n",
       "13           0.672585           0.674938           0.688061   \n",
       "10           0.671808           0.675111           0.688077   \n",
       "3            0.593253           0.616154           0.634737   \n",
       "19           0.593458           0.616748           0.617161   \n",
       "4            0.561839           0.584185           0.608032   \n",
       "\n",
       "    split3_test_score  split4_test_score  mean_test_score  std_test_score  \\\n",
       "6            0.733864           0.723100         0.724160        0.006072   \n",
       "1            0.734040           0.723638         0.724086        0.006530   \n",
       "7            0.728111           0.719568         0.721716        0.005648   \n",
       "2            0.725718           0.719774         0.721095        0.005431   \n",
       "18           0.727337           0.717750         0.720603        0.005553   \n",
       "16           0.727552           0.718051         0.720572        0.005701   \n",
       "15           0.722509           0.721354         0.719795        0.004595   \n",
       "0            0.722382           0.718112         0.718385        0.004463   \n",
       "17           0.709384           0.712299         0.713157        0.007700   \n",
       "5            0.706394           0.712437         0.710323        0.004873   \n",
       "12           0.706394           0.710396         0.709939        0.004633   \n",
       "14           0.704585           0.703603         0.704694        0.004234   \n",
       "9            0.699183           0.699567         0.702453        0.004392   \n",
       "8            0.687775           0.699063         0.694323        0.007534   \n",
       "11           0.683541           0.698484         0.694139        0.007023   \n",
       "13           0.647999           0.674482         0.671613        0.013026   \n",
       "10           0.645453           0.674824         0.671055        0.013974   \n",
       "3            0.577051           0.577463         0.599732        0.022572   \n",
       "19           0.577051           0.577248         0.596333        0.017860   \n",
       "4            0.568771           0.574894         0.579544        0.016027   \n",
       "\n",
       "    rank_test_score  \n",
       "6                 1  \n",
       "1                 2  \n",
       "7                 3  \n",
       "2                 4  \n",
       "18                5  \n",
       "16                6  \n",
       "15                7  \n",
       "0                 8  \n",
       "17                9  \n",
       "5                10  \n",
       "12               11  \n",
       "14               12  \n",
       "9                13  \n",
       "8                14  \n",
       "11               15  \n",
       "13               16  \n",
       "10               17  \n",
       "3                18  \n",
       "19               19  \n",
       "4                20  "
      ]
     },
     "execution_count": 555,
     "metadata": {},
     "output_type": "execute_result"
    }
   ],
   "source": [
    "pd.DataFrame(random_rf.cv_results_).sort_values(by='rank_test_score')"
   ]
  },
  {
   "cell_type": "code",
   "execution_count": 556,
   "metadata": {},
   "outputs": [
    {
     "name": "stdout",
     "output_type": "stream",
     "text": [
      "Best score rf: 0.7241598686783064\n",
      "Best params rf: {'model__n_estimators': 741, 'model__min_samples_split': 18, 'model__min_samples_leaf': 6, 'model__max_features': 7, 'model__max_depth': 37}\n"
     ]
    }
   ],
   "source": [
    "print('Best score rf:', random_rf.best_score_)\n",
    "print('Best params rf:', random_rf.best_params_)"
   ]
  },
  {
   "cell_type": "markdown",
   "metadata": {},
   "source": [
    "# **7. MODEL PERFORMANCE AFTER TUNING**"
   ]
  },
  {
   "cell_type": "code",
   "execution_count": 560,
   "metadata": {},
   "outputs": [
    {
     "data": {
      "text/plain": [
       "0.7186531417300648"
      ]
     },
     "execution_count": 560,
     "metadata": {},
     "output_type": "execute_result"
    }
   ],
   "source": [
    "# Random Forest\n",
    "rf_tuning = random_rf.best_estimator_\n",
    "rf_tuning.fit(X_train, y_train)\n",
    "\n",
    "y_pred_rf_tuning = rf_tuning.predict(X_test)\n",
    "f1_rf_tuning = f1_score(y_test, y_pred_rf_tuning)\n",
    "f1_rf_tuning"
   ]
  },
  {
   "cell_type": "code",
   "execution_count": 558,
   "metadata": {},
   "outputs": [],
   "source": [
    "score_list = [f1_rf_tuning]\n",
    "models = ['Random Forest']\n",
    "score_after_tuning = pd.DataFrame({\n",
    "    'Model': models,\n",
    "    'F1 score': score_list\n",
    "})"
   ]
  },
  {
   "cell_type": "code",
   "execution_count": 565,
   "metadata": {},
   "outputs": [
    {
     "data": {
      "text/html": [
       "<div>\n",
       "<style scoped>\n",
       "    .dataframe tbody tr th:only-of-type {\n",
       "        vertical-align: middle;\n",
       "    }\n",
       "\n",
       "    .dataframe tbody tr th {\n",
       "        vertical-align: top;\n",
       "    }\n",
       "\n",
       "    .dataframe thead th {\n",
       "        text-align: right;\n",
       "    }\n",
       "</style>\n",
       "<table border=\"1\" class=\"dataframe\">\n",
       "  <thead>\n",
       "    <tr style=\"text-align: right;\">\n",
       "      <th></th>\n",
       "      <th>F1 score</th>\n",
       "    </tr>\n",
       "  </thead>\n",
       "  <tbody>\n",
       "    <tr>\n",
       "      <th>Decision Tree</th>\n",
       "      <td>0.724228</td>\n",
       "    </tr>\n",
       "    <tr>\n",
       "      <th>Random Forest</th>\n",
       "      <td>0.725784</td>\n",
       "    </tr>\n",
       "  </tbody>\n",
       "</table>\n",
       "</div>"
      ],
      "text/plain": [
       "               F1 score\n",
       "Decision Tree  0.724228\n",
       "Random Forest  0.725784"
      ]
     },
     "execution_count": 565,
     "metadata": {},
     "output_type": "execute_result"
    }
   ],
   "source": [
    "score_before_tuning"
   ]
  },
  {
   "cell_type": "code",
   "execution_count": 566,
   "metadata": {},
   "outputs": [
    {
     "name": "stdout",
     "output_type": "stream",
     "text": [
      "           Model  F1 score\n",
      "0  Random Forest  0.718653\n"
     ]
    }
   ],
   "source": [
    "print(score_after_tuning)"
   ]
  },
  {
   "cell_type": "code",
   "execution_count": 569,
   "metadata": {},
   "outputs": [
    {
     "data": {
      "text/plain": [
       "<sklearn.metrics._plot.confusion_matrix.ConfusionMatrixDisplay at 0x7fd250e308b0>"
      ]
     },
     "execution_count": 569,
     "metadata": {},
     "output_type": "execute_result"
    },
    {
     "data": {
      "image/png": "[encoded data removed]",
      "text/plain": [
       "<Figure size 432x288 with 2 Axes>"
      ]
     },
     "metadata": {
      "needs_background": "light"
     },
     "output_type": "display_data"
    }
   ],
   "source": [
    "y_train_pred = rf_tuning.predict(X_test)\n",
    "confusion_matrix_rf_tuned = confusion_matrix(y_test, y_train_pred)\n",
    "\n",
    "ConfusionMatrixDisplay(confusion_matrix_rf_tuned, display_labels=np.array(['Not Cancelled', 'Cancelled'])).plot()"
   ]
  },
  {
   "cell_type": "code",
   "execution_count": 574,
   "metadata": {},
   "outputs": [
    {
     "name": "stdout",
     "output_type": "stream",
     "text": [
      "Classif Report Train Set: \n",
      "               precision    recall  f1-score   support\n",
      "\n",
      "           0       0.82      0.90      0.86     39596\n",
      "           1       0.79      0.67      0.73     23083\n",
      "\n",
      "    accuracy                           0.82     62679\n",
      "   macro avg       0.81      0.79      0.79     62679\n",
      "weighted avg       0.81      0.82      0.81     62679\n",
      "\n"
     ]
    }
   ],
   "source": [
    "y_train_pred = rf_tuning.predict(X_train)\n",
    "print('Classif Report Train Set: \\n', classification_report(y_train, y_train_pred))"
   ]
  },
  {
   "cell_type": "code",
   "execution_count": 571,
   "metadata": {},
   "outputs": [
    {
     "name": "stdout",
     "output_type": "stream",
     "text": [
      "Classif Report Test Set: \n",
      "               precision    recall  f1-score   support\n",
      "\n",
      "           0       0.83      0.86      0.85     13199\n",
      "           1       0.75      0.70      0.73      7695\n",
      "\n",
      "    accuracy                           0.80     20894\n",
      "   macro avg       0.79      0.78      0.79     20894\n",
      "weighted avg       0.80      0.80      0.80     20894\n",
      "\n"
     ]
    }
   ],
   "source": [
    "print('Classif Report Test Set: \\n', classification_report(y_test, y_test_pred))"
   ]
  },
  {
   "cell_type": "code",
   "execution_count": null,
   "metadata": {},
   "outputs": [],
   "source": [
    "import pickle\n",
    "\n",
    "model = rf_tuning\n",
    "pickle_file = pickle.dumps(model)\n",
    "print(f'This is my model: \\n {pickle_file}\\n' )"
   ]
  },
  {
   "cell_type": "markdown",
   "metadata": {},
   "source": [
    "# 7. **CONCLUSION**"
   ]
  },
  {
   "cell_type": "markdown",
   "metadata": {},
   "source": [
    "1. The best model to predict whether someone will cancel or not on the booking reservation based on the f1_score is Random Forest with or without hyperparameter tuning.\n",
    "2. The hyperparameter tuning process makes the f1_score in the random forest model slightly decrease by roughly 0.0064, from 0.725 to 0.718. "
   ]
  }
 ],
 "metadata": {
  "kernelspec": {
   "display_name": "Python 3.8.8 ('base')",
   "language": "python",
   "name": "python3"
  },
  "language_info": {
   "codemirror_mode": {
    "name": "ipython",
    "version": 3
   },
   "file_extension": ".py",
   "mimetype": "text/x-python",
   "name": "python",
   "nbconvert_exporter": "python",
   "pygments_lexer": "ipython3",
   "version": "3.8.8"
  },
  "orig_nbformat": 4,
  "vscode": {
   "interpreter": {
    "hash": "b8aa95ad3c3e52c6f731a740537e88681fe5423c1fef4d3f9b2ad9140e8485c5"
   }
  }
 },
 "nbformat": 4,
 "nbformat_minor": 2
}
